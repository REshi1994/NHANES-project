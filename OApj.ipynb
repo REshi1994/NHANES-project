{
 "cells": [
  {
   "cell_type": "code",
   "execution_count": 1,
   "outputs": [],
   "source": [
    "from nhanes_v import nhanes_v\n",
    "from numpy import nan, isnan\n",
    "from pandas import read_csv, merge"
   ],
   "metadata": {
    "collapsed": false,
    "pycharm": {
     "name": "#%%\n"
    }
   }
  },
  {
   "cell_type": "code",
   "execution_count": 2,
   "outputs": [],
   "source": [
    "class nhanes(nhanes_v):\n",
    "\n",
    "      def __init__(self):\n",
    "\n",
    "            super().__init__()\n",
    "            self.dir = r'E:\\dataset\\NHANES221224'\n",
    "\n",
    "\n",
    "\n",
    "if __name__ == '__main__':\n",
    "      nhanes = nhanes()"
   ],
   "metadata": {
    "collapsed": false,
    "pycharm": {
     "name": "#%%\n"
    }
   }
  },
  {
   "cell_type": "code",
   "execution_count": 3,
   "outputs": [
    {
     "data": {
      "text/plain": "        SEQN  age  gender     race4\n0          1    2  Female     Black\n1          2   77    Male     White\n2          3   10  Female     White\n3          4    1    Male     Black\n4          5   49    Male     White\n...      ...  ...     ...       ...\n92057  93698    2    Male  Hispanic\n92058  93699    6  Female     Black\n92059  93700   35    Male     White\n92060  93701    8    Male     White\n92061  93702   24  Female     White\n\n[92062 rows x 4 columns]",
      "text/html": "<div>\n<style scoped>\n    .dataframe tbody tr th:only-of-type {\n        vertical-align: middle;\n    }\n\n    .dataframe tbody tr th {\n        vertical-align: top;\n    }\n\n    .dataframe thead th {\n        text-align: right;\n    }\n</style>\n<table border=\"1\" class=\"dataframe\">\n  <thead>\n    <tr style=\"text-align: right;\">\n      <th></th>\n      <th>SEQN</th>\n      <th>age</th>\n      <th>gender</th>\n      <th>race4</th>\n    </tr>\n  </thead>\n  <tbody>\n    <tr>\n      <th>0</th>\n      <td>1</td>\n      <td>2</td>\n      <td>Female</td>\n      <td>Black</td>\n    </tr>\n    <tr>\n      <th>1</th>\n      <td>2</td>\n      <td>77</td>\n      <td>Male</td>\n      <td>White</td>\n    </tr>\n    <tr>\n      <th>2</th>\n      <td>3</td>\n      <td>10</td>\n      <td>Female</td>\n      <td>White</td>\n    </tr>\n    <tr>\n      <th>3</th>\n      <td>4</td>\n      <td>1</td>\n      <td>Male</td>\n      <td>Black</td>\n    </tr>\n    <tr>\n      <th>4</th>\n      <td>5</td>\n      <td>49</td>\n      <td>Male</td>\n      <td>White</td>\n    </tr>\n    <tr>\n      <th>...</th>\n      <td>...</td>\n      <td>...</td>\n      <td>...</td>\n      <td>...</td>\n    </tr>\n    <tr>\n      <th>92057</th>\n      <td>93698</td>\n      <td>2</td>\n      <td>Male</td>\n      <td>Hispanic</td>\n    </tr>\n    <tr>\n      <th>92058</th>\n      <td>93699</td>\n      <td>6</td>\n      <td>Female</td>\n      <td>Black</td>\n    </tr>\n    <tr>\n      <th>92059</th>\n      <td>93700</td>\n      <td>35</td>\n      <td>Male</td>\n      <td>White</td>\n    </tr>\n    <tr>\n      <th>92060</th>\n      <td>93701</td>\n      <td>8</td>\n      <td>Male</td>\n      <td>White</td>\n    </tr>\n    <tr>\n      <th>92061</th>\n      <td>93702</td>\n      <td>24</td>\n      <td>Female</td>\n      <td>White</td>\n    </tr>\n  </tbody>\n</table>\n<p>92062 rows × 4 columns</p>\n</div>"
     },
     "execution_count": 3,
     "metadata": {},
     "output_type": "execute_result"
    }
   ],
   "source": [
    "df_cycle = read_csv(r'E:\\dataset\\NHANES221224\\GD files\\cycle\\cycle 1999-2016.csv')\n",
    "df_cycle"
   ],
   "metadata": {
    "collapsed": false,
    "pycharm": {
     "name": "#%%\n"
    }
   }
  },
  {
   "cell_type": "code",
   "execution_count": 4,
   "outputs": [
    {
     "data": {
      "text/plain": "          SEQN                education20\n0            1                        NaN\n1            2  College Graduate or above\n2            3                        NaN\n3            4                        NaN\n4            5  College Graduate or above\n...        ...                        ...\n101311  102952              Under College\n101312  102953              Under College\n101313  102954  College Graduate or above\n101314  102955                        NaN\n101315  102956              Under College\n\n[101316 rows x 2 columns]",
      "text/html": "<div>\n<style scoped>\n    .dataframe tbody tr th:only-of-type {\n        vertical-align: middle;\n    }\n\n    .dataframe tbody tr th {\n        vertical-align: top;\n    }\n\n    .dataframe thead th {\n        text-align: right;\n    }\n</style>\n<table border=\"1\" class=\"dataframe\">\n  <thead>\n    <tr style=\"text-align: right;\">\n      <th></th>\n      <th>SEQN</th>\n      <th>education20</th>\n    </tr>\n  </thead>\n  <tbody>\n    <tr>\n      <th>0</th>\n      <td>1</td>\n      <td>NaN</td>\n    </tr>\n    <tr>\n      <th>1</th>\n      <td>2</td>\n      <td>College Graduate or above</td>\n    </tr>\n    <tr>\n      <th>2</th>\n      <td>3</td>\n      <td>NaN</td>\n    </tr>\n    <tr>\n      <th>3</th>\n      <td>4</td>\n      <td>NaN</td>\n    </tr>\n    <tr>\n      <th>4</th>\n      <td>5</td>\n      <td>College Graduate or above</td>\n    </tr>\n    <tr>\n      <th>...</th>\n      <td>...</td>\n      <td>...</td>\n    </tr>\n    <tr>\n      <th>101311</th>\n      <td>102952</td>\n      <td>Under College</td>\n    </tr>\n    <tr>\n      <th>101312</th>\n      <td>102953</td>\n      <td>Under College</td>\n    </tr>\n    <tr>\n      <th>101313</th>\n      <td>102954</td>\n      <td>College Graduate or above</td>\n    </tr>\n    <tr>\n      <th>101314</th>\n      <td>102955</td>\n      <td>NaN</td>\n    </tr>\n    <tr>\n      <th>101315</th>\n      <td>102956</td>\n      <td>Under College</td>\n    </tr>\n  </tbody>\n</table>\n<p>101316 rows × 2 columns</p>\n</div>"
     },
     "execution_count": 4,
     "metadata": {},
     "output_type": "execute_result"
    }
   ],
   "source": [
    "df_edu = read_csv(r'E:\\dataset\\NHANES221224\\GD files\\ques\\education20.csv')\n",
    "df_edu"
   ],
   "metadata": {
    "collapsed": false,
    "pycharm": {
     "name": "#%%\n"
    }
   }
  },
  {
   "cell_type": "code",
   "execution_count": 5,
   "outputs": [
    {
     "data": {
      "text/plain": "          SEQN     family_income  family_pir\n0            1     Under $20,000        0.86\n1            2  $20,000 and over        5.00\n2            3  $20,000 and over        1.47\n3            4     Under $20,000        0.57\n4            5  $20,000 and over        5.00\n...        ...               ...         ...\n101311  102952     Under $20,000        0.95\n101312  102953  $20,000 and over         NaN\n101313  102954  $20,000 and over        1.18\n101314  102955  $20,000 and over        2.24\n101315  102956  $20,000 and over        1.56\n\n[101316 rows x 3 columns]",
      "text/html": "<div>\n<style scoped>\n    .dataframe tbody tr th:only-of-type {\n        vertical-align: middle;\n    }\n\n    .dataframe tbody tr th {\n        vertical-align: top;\n    }\n\n    .dataframe thead th {\n        text-align: right;\n    }\n</style>\n<table border=\"1\" class=\"dataframe\">\n  <thead>\n    <tr style=\"text-align: right;\">\n      <th></th>\n      <th>SEQN</th>\n      <th>family_income</th>\n      <th>family_pir</th>\n    </tr>\n  </thead>\n  <tbody>\n    <tr>\n      <th>0</th>\n      <td>1</td>\n      <td>Under $20,000</td>\n      <td>0.86</td>\n    </tr>\n    <tr>\n      <th>1</th>\n      <td>2</td>\n      <td>$20,000 and over</td>\n      <td>5.00</td>\n    </tr>\n    <tr>\n      <th>2</th>\n      <td>3</td>\n      <td>$20,000 and over</td>\n      <td>1.47</td>\n    </tr>\n    <tr>\n      <th>3</th>\n      <td>4</td>\n      <td>Under $20,000</td>\n      <td>0.57</td>\n    </tr>\n    <tr>\n      <th>4</th>\n      <td>5</td>\n      <td>$20,000 and over</td>\n      <td>5.00</td>\n    </tr>\n    <tr>\n      <th>...</th>\n      <td>...</td>\n      <td>...</td>\n      <td>...</td>\n    </tr>\n    <tr>\n      <th>101311</th>\n      <td>102952</td>\n      <td>Under $20,000</td>\n      <td>0.95</td>\n    </tr>\n    <tr>\n      <th>101312</th>\n      <td>102953</td>\n      <td>$20,000 and over</td>\n      <td>NaN</td>\n    </tr>\n    <tr>\n      <th>101313</th>\n      <td>102954</td>\n      <td>$20,000 and over</td>\n      <td>1.18</td>\n    </tr>\n    <tr>\n      <th>101314</th>\n      <td>102955</td>\n      <td>$20,000 and over</td>\n      <td>2.24</td>\n    </tr>\n    <tr>\n      <th>101315</th>\n      <td>102956</td>\n      <td>$20,000 and over</td>\n      <td>1.56</td>\n    </tr>\n  </tbody>\n</table>\n<p>101316 rows × 3 columns</p>\n</div>"
     },
     "execution_count": 5,
     "metadata": {},
     "output_type": "execute_result"
    }
   ],
   "source": [
    "df_pir = read_csv(r'E:\\dataset\\NHANES221224\\GD files\\ques\\family income.csv')\n",
    "df_pir"
   ],
   "metadata": {
    "collapsed": false,
    "pycharm": {
     "name": "#%%\n"
    }
   }
  },
  {
   "cell_type": "code",
   "execution_count": 6,
   "outputs": [
    {
     "data": {
      "text/plain": "         SEQN SMQ020      SMQ040 smoking_status\n0           2     No         NaN          Never\n1           5    Yes  Not at all         Former\n2           7    Yes  Not at all         Former\n3          10    Yes   Every day        Current\n4          12     No         NaN          Never\n...       ...    ...         ...            ...\n64869  102952     No         NaN          Never\n64870  102953    Yes  Not at all         Former\n64871  102954     No         NaN          Never\n64872  102955    NaN         NaN            NaN\n64873  102956    Yes   Every day        Current\n\n[64874 rows x 4 columns]",
      "text/html": "<div>\n<style scoped>\n    .dataframe tbody tr th:only-of-type {\n        vertical-align: middle;\n    }\n\n    .dataframe tbody tr th {\n        vertical-align: top;\n    }\n\n    .dataframe thead th {\n        text-align: right;\n    }\n</style>\n<table border=\"1\" class=\"dataframe\">\n  <thead>\n    <tr style=\"text-align: right;\">\n      <th></th>\n      <th>SEQN</th>\n      <th>SMQ020</th>\n      <th>SMQ040</th>\n      <th>smoking_status</th>\n    </tr>\n  </thead>\n  <tbody>\n    <tr>\n      <th>0</th>\n      <td>2</td>\n      <td>No</td>\n      <td>NaN</td>\n      <td>Never</td>\n    </tr>\n    <tr>\n      <th>1</th>\n      <td>5</td>\n      <td>Yes</td>\n      <td>Not at all</td>\n      <td>Former</td>\n    </tr>\n    <tr>\n      <th>2</th>\n      <td>7</td>\n      <td>Yes</td>\n      <td>Not at all</td>\n      <td>Former</td>\n    </tr>\n    <tr>\n      <th>3</th>\n      <td>10</td>\n      <td>Yes</td>\n      <td>Every day</td>\n      <td>Current</td>\n    </tr>\n    <tr>\n      <th>4</th>\n      <td>12</td>\n      <td>No</td>\n      <td>NaN</td>\n      <td>Never</td>\n    </tr>\n    <tr>\n      <th>...</th>\n      <td>...</td>\n      <td>...</td>\n      <td>...</td>\n      <td>...</td>\n    </tr>\n    <tr>\n      <th>64869</th>\n      <td>102952</td>\n      <td>No</td>\n      <td>NaN</td>\n      <td>Never</td>\n    </tr>\n    <tr>\n      <th>64870</th>\n      <td>102953</td>\n      <td>Yes</td>\n      <td>Not at all</td>\n      <td>Former</td>\n    </tr>\n    <tr>\n      <th>64871</th>\n      <td>102954</td>\n      <td>No</td>\n      <td>NaN</td>\n      <td>Never</td>\n    </tr>\n    <tr>\n      <th>64872</th>\n      <td>102955</td>\n      <td>NaN</td>\n      <td>NaN</td>\n      <td>NaN</td>\n    </tr>\n    <tr>\n      <th>64873</th>\n      <td>102956</td>\n      <td>Yes</td>\n      <td>Every day</td>\n      <td>Current</td>\n    </tr>\n  </tbody>\n</table>\n<p>64874 rows × 4 columns</p>\n</div>"
     },
     "execution_count": 6,
     "metadata": {},
     "output_type": "execute_result"
    }
   ],
   "source": [
    "df_smoke = read_csv(r'E:\\dataset\\NHANES221224\\GD files\\ques\\smoking_status.csv')\n",
    "df_smoke"
   ],
   "metadata": {
    "collapsed": false,
    "pycharm": {
     "name": "#%%\n"
    }
   }
  },
  {
   "cell_type": "code",
   "execution_count": 7,
   "outputs": [
    {
     "data": {
      "text/plain": "        SEQN alcohol_12_any_1_year alcohol_12_lifetime  times   unit  drinks  \\\n0          2                   Yes                 NaN   24.0  365.0     1.0   \n1          5                   Yes                 NaN    4.0    7.0     3.0   \n2          7                    No                  No    NaN    NaN     NaN   \n3         10                   Yes                 NaN    6.0  365.0     1.0   \n4         12                   Yes                 NaN    2.0   30.0     3.0   \n...      ...                   ...                 ...    ...    ...     ...   \n48021  93695                    No                  No    NaN    NaN     NaN   \n48022  93696                    No                  No    NaN    NaN     NaN   \n48023  93697                   Yes                 NaN    2.0    7.0     1.0   \n48024  93700                   NaN                 NaN    NaN    NaN     NaN   \n48025  93702                   Yes                 NaN    2.0    7.0     2.0   \n\n      alcohol_12  drinks_per_day  alcohol_per_day drinker  \n0            Yes        0.065753         0.920548     Yes  \n1            Yes        1.714286        24.000000     Yes  \n2             No             NaN              NaN      No  \n3            Yes        0.016438         0.230137     Yes  \n4            Yes        0.200000         2.800000     Yes  \n...          ...             ...              ...     ...  \n48021         No             NaN              NaN      No  \n48022         No             NaN              NaN      No  \n48023        Yes        0.285714         4.000000     Yes  \n48024        NaN             NaN              NaN     NaN  \n48025        Yes        0.571429         8.000000     Yes  \n\n[48026 rows x 10 columns]",
      "text/html": "<div>\n<style scoped>\n    .dataframe tbody tr th:only-of-type {\n        vertical-align: middle;\n    }\n\n    .dataframe tbody tr th {\n        vertical-align: top;\n    }\n\n    .dataframe thead th {\n        text-align: right;\n    }\n</style>\n<table border=\"1\" class=\"dataframe\">\n  <thead>\n    <tr style=\"text-align: right;\">\n      <th></th>\n      <th>SEQN</th>\n      <th>alcohol_12_any_1_year</th>\n      <th>alcohol_12_lifetime</th>\n      <th>times</th>\n      <th>unit</th>\n      <th>drinks</th>\n      <th>alcohol_12</th>\n      <th>drinks_per_day</th>\n      <th>alcohol_per_day</th>\n      <th>drinker</th>\n    </tr>\n  </thead>\n  <tbody>\n    <tr>\n      <th>0</th>\n      <td>2</td>\n      <td>Yes</td>\n      <td>NaN</td>\n      <td>24.0</td>\n      <td>365.0</td>\n      <td>1.0</td>\n      <td>Yes</td>\n      <td>0.065753</td>\n      <td>0.920548</td>\n      <td>Yes</td>\n    </tr>\n    <tr>\n      <th>1</th>\n      <td>5</td>\n      <td>Yes</td>\n      <td>NaN</td>\n      <td>4.0</td>\n      <td>7.0</td>\n      <td>3.0</td>\n      <td>Yes</td>\n      <td>1.714286</td>\n      <td>24.000000</td>\n      <td>Yes</td>\n    </tr>\n    <tr>\n      <th>2</th>\n      <td>7</td>\n      <td>No</td>\n      <td>No</td>\n      <td>NaN</td>\n      <td>NaN</td>\n      <td>NaN</td>\n      <td>No</td>\n      <td>NaN</td>\n      <td>NaN</td>\n      <td>No</td>\n    </tr>\n    <tr>\n      <th>3</th>\n      <td>10</td>\n      <td>Yes</td>\n      <td>NaN</td>\n      <td>6.0</td>\n      <td>365.0</td>\n      <td>1.0</td>\n      <td>Yes</td>\n      <td>0.016438</td>\n      <td>0.230137</td>\n      <td>Yes</td>\n    </tr>\n    <tr>\n      <th>4</th>\n      <td>12</td>\n      <td>Yes</td>\n      <td>NaN</td>\n      <td>2.0</td>\n      <td>30.0</td>\n      <td>3.0</td>\n      <td>Yes</td>\n      <td>0.200000</td>\n      <td>2.800000</td>\n      <td>Yes</td>\n    </tr>\n    <tr>\n      <th>...</th>\n      <td>...</td>\n      <td>...</td>\n      <td>...</td>\n      <td>...</td>\n      <td>...</td>\n      <td>...</td>\n      <td>...</td>\n      <td>...</td>\n      <td>...</td>\n      <td>...</td>\n    </tr>\n    <tr>\n      <th>48021</th>\n      <td>93695</td>\n      <td>No</td>\n      <td>No</td>\n      <td>NaN</td>\n      <td>NaN</td>\n      <td>NaN</td>\n      <td>No</td>\n      <td>NaN</td>\n      <td>NaN</td>\n      <td>No</td>\n    </tr>\n    <tr>\n      <th>48022</th>\n      <td>93696</td>\n      <td>No</td>\n      <td>No</td>\n      <td>NaN</td>\n      <td>NaN</td>\n      <td>NaN</td>\n      <td>No</td>\n      <td>NaN</td>\n      <td>NaN</td>\n      <td>No</td>\n    </tr>\n    <tr>\n      <th>48023</th>\n      <td>93697</td>\n      <td>Yes</td>\n      <td>NaN</td>\n      <td>2.0</td>\n      <td>7.0</td>\n      <td>1.0</td>\n      <td>Yes</td>\n      <td>0.285714</td>\n      <td>4.000000</td>\n      <td>Yes</td>\n    </tr>\n    <tr>\n      <th>48024</th>\n      <td>93700</td>\n      <td>NaN</td>\n      <td>NaN</td>\n      <td>NaN</td>\n      <td>NaN</td>\n      <td>NaN</td>\n      <td>NaN</td>\n      <td>NaN</td>\n      <td>NaN</td>\n      <td>NaN</td>\n    </tr>\n    <tr>\n      <th>48025</th>\n      <td>93702</td>\n      <td>Yes</td>\n      <td>NaN</td>\n      <td>2.0</td>\n      <td>7.0</td>\n      <td>2.0</td>\n      <td>Yes</td>\n      <td>0.571429</td>\n      <td>8.000000</td>\n      <td>Yes</td>\n    </tr>\n  </tbody>\n</table>\n<p>48026 rows × 10 columns</p>\n</div>"
     },
     "execution_count": 7,
     "metadata": {},
     "output_type": "execute_result"
    }
   ],
   "source": [
    "df_drink = read_csv(r'E:\\dataset\\NHANES221224\\GD files\\ques\\drinking 1999-2016.csv')\n",
    "df_drink"
   ],
   "metadata": {
    "collapsed": false,
    "pycharm": {
     "name": "#%%\n"
    }
   }
  },
  {
   "cell_type": "code",
   "execution_count": 8,
   "outputs": [
    {
     "data": {
      "text/plain": "         SEQN  weight_kg  height_cm  bmi_kg_m2        BMI3\n0           1       12.5       91.6      14.90      Normal\n1           2       75.4      174.0      24.90      Normal\n2           3       32.9      136.6      17.63      Normal\n3           4       13.3        NaN        NaN         NaN\n4           5       92.5      178.3      29.10  Overweight\n...       ...        ...        ...        ...         ...\n96761  102952       49.0      156.5      20.00      Normal\n96762  102953       97.4      164.9      35.80     Obesity\n96763  102954       69.1      162.6      26.10  Overweight\n96764  102955      111.9      156.6      45.60     Obesity\n96765  102956      111.5      175.8      36.10     Obesity\n\n[96766 rows x 5 columns]",
      "text/html": "<div>\n<style scoped>\n    .dataframe tbody tr th:only-of-type {\n        vertical-align: middle;\n    }\n\n    .dataframe tbody tr th {\n        vertical-align: top;\n    }\n\n    .dataframe thead th {\n        text-align: right;\n    }\n</style>\n<table border=\"1\" class=\"dataframe\">\n  <thead>\n    <tr style=\"text-align: right;\">\n      <th></th>\n      <th>SEQN</th>\n      <th>weight_kg</th>\n      <th>height_cm</th>\n      <th>bmi_kg_m2</th>\n      <th>BMI3</th>\n    </tr>\n  </thead>\n  <tbody>\n    <tr>\n      <th>0</th>\n      <td>1</td>\n      <td>12.5</td>\n      <td>91.6</td>\n      <td>14.90</td>\n      <td>Normal</td>\n    </tr>\n    <tr>\n      <th>1</th>\n      <td>2</td>\n      <td>75.4</td>\n      <td>174.0</td>\n      <td>24.90</td>\n      <td>Normal</td>\n    </tr>\n    <tr>\n      <th>2</th>\n      <td>3</td>\n      <td>32.9</td>\n      <td>136.6</td>\n      <td>17.63</td>\n      <td>Normal</td>\n    </tr>\n    <tr>\n      <th>3</th>\n      <td>4</td>\n      <td>13.3</td>\n      <td>NaN</td>\n      <td>NaN</td>\n      <td>NaN</td>\n    </tr>\n    <tr>\n      <th>4</th>\n      <td>5</td>\n      <td>92.5</td>\n      <td>178.3</td>\n      <td>29.10</td>\n      <td>Overweight</td>\n    </tr>\n    <tr>\n      <th>...</th>\n      <td>...</td>\n      <td>...</td>\n      <td>...</td>\n      <td>...</td>\n      <td>...</td>\n    </tr>\n    <tr>\n      <th>96761</th>\n      <td>102952</td>\n      <td>49.0</td>\n      <td>156.5</td>\n      <td>20.00</td>\n      <td>Normal</td>\n    </tr>\n    <tr>\n      <th>96762</th>\n      <td>102953</td>\n      <td>97.4</td>\n      <td>164.9</td>\n      <td>35.80</td>\n      <td>Obesity</td>\n    </tr>\n    <tr>\n      <th>96763</th>\n      <td>102954</td>\n      <td>69.1</td>\n      <td>162.6</td>\n      <td>26.10</td>\n      <td>Overweight</td>\n    </tr>\n    <tr>\n      <th>96764</th>\n      <td>102955</td>\n      <td>111.9</td>\n      <td>156.6</td>\n      <td>45.60</td>\n      <td>Obesity</td>\n    </tr>\n    <tr>\n      <th>96765</th>\n      <td>102956</td>\n      <td>111.5</td>\n      <td>175.8</td>\n      <td>36.10</td>\n      <td>Obesity</td>\n    </tr>\n  </tbody>\n</table>\n<p>96766 rows × 5 columns</p>\n</div>"
     },
     "execution_count": 8,
     "metadata": {},
     "output_type": "execute_result"
    }
   ],
   "source": [
    "df_BMI = read_csv(r'E:\\dataset\\NHANES221224\\GD files\\exam\\body_measure.csv')\n",
    "df_BMI"
   ],
   "metadata": {
    "collapsed": false,
    "pycharm": {
     "name": "#%%\n"
    }
   }
  },
  {
   "cell_type": "code",
   "execution_count": 9,
   "outputs": [
    {
     "data": {
      "text/plain": "         SEQN  DPQ010  DPQ020  DPQ030  DPQ040  DPQ050  DPQ060  DPQ070  DPQ080  \\\n0       31130     NaN     NaN     NaN     NaN     NaN     NaN     NaN     NaN   \n1       31131     0.0     0.0     0.0     0.0     0.0     0.0     0.0     0.0   \n2       31132     0.0     0.0     0.0     0.0     0.0     0.0     0.0     0.0   \n3       31134     0.0     0.0     0.0     0.0     0.0     0.0     0.0     0.0   \n4       31139     0.0     0.0     0.0     0.0     3.0     1.0     0.0     0.0   \n...       ...     ...     ...     ...     ...     ...     ...     ...     ...   \n40491  102949     0.0     0.0     0.0     0.0     0.0     0.0     0.0     0.0   \n40492  102952     0.0     0.0     0.0     0.0     0.0     0.0     0.0     0.0   \n40493  102953     1.0     1.0     0.0     1.0     0.0     0.0     0.0     0.0   \n40494  102954     0.0     0.0     0.0     0.0     0.0     0.0     0.0     0.0   \n40495  102956     1.0     1.0     1.0     1.0     1.0     1.0     1.0     0.0   \n\n       DPQ090  DPQ100  PHQ9 depression  \n0         NaN     NaN   NaN        NaN  \n1         0.0     NaN   0.0         No  \n2         0.0     NaN   0.0         No  \n3         0.0     NaN   0.0         No  \n4         0.0     0.0   4.0         No  \n...       ...     ...   ...        ...  \n40491     0.0     NaN   0.0         No  \n40492     0.0     NaN   0.0         No  \n40493     0.0     1.0   3.0         No  \n40494     0.0     NaN   0.0         No  \n40495     0.0     1.0   7.0         No  \n\n[40496 rows x 13 columns]",
      "text/html": "<div>\n<style scoped>\n    .dataframe tbody tr th:only-of-type {\n        vertical-align: middle;\n    }\n\n    .dataframe tbody tr th {\n        vertical-align: top;\n    }\n\n    .dataframe thead th {\n        text-align: right;\n    }\n</style>\n<table border=\"1\" class=\"dataframe\">\n  <thead>\n    <tr style=\"text-align: right;\">\n      <th></th>\n      <th>SEQN</th>\n      <th>DPQ010</th>\n      <th>DPQ020</th>\n      <th>DPQ030</th>\n      <th>DPQ040</th>\n      <th>DPQ050</th>\n      <th>DPQ060</th>\n      <th>DPQ070</th>\n      <th>DPQ080</th>\n      <th>DPQ090</th>\n      <th>DPQ100</th>\n      <th>PHQ9</th>\n      <th>depression</th>\n    </tr>\n  </thead>\n  <tbody>\n    <tr>\n      <th>0</th>\n      <td>31130</td>\n      <td>NaN</td>\n      <td>NaN</td>\n      <td>NaN</td>\n      <td>NaN</td>\n      <td>NaN</td>\n      <td>NaN</td>\n      <td>NaN</td>\n      <td>NaN</td>\n      <td>NaN</td>\n      <td>NaN</td>\n      <td>NaN</td>\n      <td>NaN</td>\n    </tr>\n    <tr>\n      <th>1</th>\n      <td>31131</td>\n      <td>0.0</td>\n      <td>0.0</td>\n      <td>0.0</td>\n      <td>0.0</td>\n      <td>0.0</td>\n      <td>0.0</td>\n      <td>0.0</td>\n      <td>0.0</td>\n      <td>0.0</td>\n      <td>NaN</td>\n      <td>0.0</td>\n      <td>No</td>\n    </tr>\n    <tr>\n      <th>2</th>\n      <td>31132</td>\n      <td>0.0</td>\n      <td>0.0</td>\n      <td>0.0</td>\n      <td>0.0</td>\n      <td>0.0</td>\n      <td>0.0</td>\n      <td>0.0</td>\n      <td>0.0</td>\n      <td>0.0</td>\n      <td>NaN</td>\n      <td>0.0</td>\n      <td>No</td>\n    </tr>\n    <tr>\n      <th>3</th>\n      <td>31134</td>\n      <td>0.0</td>\n      <td>0.0</td>\n      <td>0.0</td>\n      <td>0.0</td>\n      <td>0.0</td>\n      <td>0.0</td>\n      <td>0.0</td>\n      <td>0.0</td>\n      <td>0.0</td>\n      <td>NaN</td>\n      <td>0.0</td>\n      <td>No</td>\n    </tr>\n    <tr>\n      <th>4</th>\n      <td>31139</td>\n      <td>0.0</td>\n      <td>0.0</td>\n      <td>0.0</td>\n      <td>0.0</td>\n      <td>3.0</td>\n      <td>1.0</td>\n      <td>0.0</td>\n      <td>0.0</td>\n      <td>0.0</td>\n      <td>0.0</td>\n      <td>4.0</td>\n      <td>No</td>\n    </tr>\n    <tr>\n      <th>...</th>\n      <td>...</td>\n      <td>...</td>\n      <td>...</td>\n      <td>...</td>\n      <td>...</td>\n      <td>...</td>\n      <td>...</td>\n      <td>...</td>\n      <td>...</td>\n      <td>...</td>\n      <td>...</td>\n      <td>...</td>\n      <td>...</td>\n    </tr>\n    <tr>\n      <th>40491</th>\n      <td>102949</td>\n      <td>0.0</td>\n      <td>0.0</td>\n      <td>0.0</td>\n      <td>0.0</td>\n      <td>0.0</td>\n      <td>0.0</td>\n      <td>0.0</td>\n      <td>0.0</td>\n      <td>0.0</td>\n      <td>NaN</td>\n      <td>0.0</td>\n      <td>No</td>\n    </tr>\n    <tr>\n      <th>40492</th>\n      <td>102952</td>\n      <td>0.0</td>\n      <td>0.0</td>\n      <td>0.0</td>\n      <td>0.0</td>\n      <td>0.0</td>\n      <td>0.0</td>\n      <td>0.0</td>\n      <td>0.0</td>\n      <td>0.0</td>\n      <td>NaN</td>\n      <td>0.0</td>\n      <td>No</td>\n    </tr>\n    <tr>\n      <th>40493</th>\n      <td>102953</td>\n      <td>1.0</td>\n      <td>1.0</td>\n      <td>0.0</td>\n      <td>1.0</td>\n      <td>0.0</td>\n      <td>0.0</td>\n      <td>0.0</td>\n      <td>0.0</td>\n      <td>0.0</td>\n      <td>1.0</td>\n      <td>3.0</td>\n      <td>No</td>\n    </tr>\n    <tr>\n      <th>40494</th>\n      <td>102954</td>\n      <td>0.0</td>\n      <td>0.0</td>\n      <td>0.0</td>\n      <td>0.0</td>\n      <td>0.0</td>\n      <td>0.0</td>\n      <td>0.0</td>\n      <td>0.0</td>\n      <td>0.0</td>\n      <td>NaN</td>\n      <td>0.0</td>\n      <td>No</td>\n    </tr>\n    <tr>\n      <th>40495</th>\n      <td>102956</td>\n      <td>1.0</td>\n      <td>1.0</td>\n      <td>1.0</td>\n      <td>1.0</td>\n      <td>1.0</td>\n      <td>1.0</td>\n      <td>1.0</td>\n      <td>0.0</td>\n      <td>0.0</td>\n      <td>1.0</td>\n      <td>7.0</td>\n      <td>No</td>\n    </tr>\n  </tbody>\n</table>\n<p>40496 rows × 13 columns</p>\n</div>"
     },
     "execution_count": 9,
     "metadata": {},
     "output_type": "execute_result"
    }
   ],
   "source": [
    "df_phq9 = read_csv(r'E:\\dataset\\NHANES221224\\GD files\\ques\\PHQ9 2005-2018.csv')\n",
    "df_phq9"
   ],
   "metadata": {
    "collapsed": false,
    "pycharm": {
     "name": "#%%\n"
    }
   }
  },
  {
   "cell_type": "code",
   "execution_count": 10,
   "outputs": [
    {
     "data": {
      "text/plain": "        SEQN vigorous_pa moderate_pa  vig_num_30_days  vig_total_30_days  \\\n0          1         NaN         NaN              NaN                NaN   \n1          2          No          No              NaN                NaN   \n2          3         NaN         NaN              NaN                NaN   \n3          5         Yes         Yes             13.0             2100.0   \n4          6         Yes         Yes             13.0              780.0   \n...      ...         ...         ...              ...                ...   \n37979  41460          No          No              NaN                NaN   \n37980  41461          No          No              NaN                NaN   \n37981  41464          No          No              NaN                NaN   \n37982  41466          No          No              NaN                NaN   \n37983  41474          No          No              NaN                NaN   \n\n       mod_num_30_days  mod_total_30_days pa_both  vig_total  mod_total  \\\n0                  NaN                NaN     NaN        NaN        NaN   \n1                  NaN                NaN      No        NaN        NaN   \n2                  NaN                NaN     NaN        NaN        NaN   \n3                 13.0              540.0     Yes      490.0      126.0   \n4                 21.0              420.0     Yes      182.0       98.0   \n...                ...                ...     ...        ...        ...   \n37979              NaN                NaN      No        NaN        NaN   \n37980              NaN                NaN      No        NaN        NaN   \n37981              NaN                NaN      No        NaN        NaN   \n37982              NaN                NaN      No        NaN        NaN   \n37983              NaN                NaN      No        NaN        NaN   \n\n       vig_days  mod_days LTPA_time_estimate vig_freq   mod_freq  \\\n0           NaN       NaN                NaN      NaN        NaN   \n1           NaN       NaN            No LTPA      NaN        NaN   \n2           NaN       NaN                NaN      NaN        NaN   \n3      3.033333  3.033333           Adequate  Regular  Irregular   \n4      3.033333  4.900000           Adequate  Regular    Regular   \n...         ...       ...                ...      ...        ...   \n37979       NaN       NaN            No LTPA      NaN        NaN   \n37980       NaN       NaN            No LTPA      NaN        NaN   \n37981       NaN       NaN            No LTPA      NaN        NaN   \n37982       NaN       NaN            No LTPA      NaN        NaN   \n37983       NaN       NaN            No LTPA      NaN        NaN   \n\n      LTPA_freq_estimate  LTPA_time_total  \n0                    NaN              NaN  \n1                No LTPA              0.0  \n2                    NaN              NaN  \n3                Regular            616.0  \n4                Regular            280.0  \n...                  ...              ...  \n37979            No LTPA              0.0  \n37980            No LTPA              0.0  \n37981            No LTPA              0.0  \n37982            No LTPA              0.0  \n37983            No LTPA              0.0  \n\n[37984 rows x 17 columns]",
      "text/html": "<div>\n<style scoped>\n    .dataframe tbody tr th:only-of-type {\n        vertical-align: middle;\n    }\n\n    .dataframe tbody tr th {\n        vertical-align: top;\n    }\n\n    .dataframe thead th {\n        text-align: right;\n    }\n</style>\n<table border=\"1\" class=\"dataframe\">\n  <thead>\n    <tr style=\"text-align: right;\">\n      <th></th>\n      <th>SEQN</th>\n      <th>vigorous_pa</th>\n      <th>moderate_pa</th>\n      <th>vig_num_30_days</th>\n      <th>vig_total_30_days</th>\n      <th>mod_num_30_days</th>\n      <th>mod_total_30_days</th>\n      <th>pa_both</th>\n      <th>vig_total</th>\n      <th>mod_total</th>\n      <th>vig_days</th>\n      <th>mod_days</th>\n      <th>LTPA_time_estimate</th>\n      <th>vig_freq</th>\n      <th>mod_freq</th>\n      <th>LTPA_freq_estimate</th>\n      <th>LTPA_time_total</th>\n    </tr>\n  </thead>\n  <tbody>\n    <tr>\n      <th>0</th>\n      <td>1</td>\n      <td>NaN</td>\n      <td>NaN</td>\n      <td>NaN</td>\n      <td>NaN</td>\n      <td>NaN</td>\n      <td>NaN</td>\n      <td>NaN</td>\n      <td>NaN</td>\n      <td>NaN</td>\n      <td>NaN</td>\n      <td>NaN</td>\n      <td>NaN</td>\n      <td>NaN</td>\n      <td>NaN</td>\n      <td>NaN</td>\n      <td>NaN</td>\n    </tr>\n    <tr>\n      <th>1</th>\n      <td>2</td>\n      <td>No</td>\n      <td>No</td>\n      <td>NaN</td>\n      <td>NaN</td>\n      <td>NaN</td>\n      <td>NaN</td>\n      <td>No</td>\n      <td>NaN</td>\n      <td>NaN</td>\n      <td>NaN</td>\n      <td>NaN</td>\n      <td>No LTPA</td>\n      <td>NaN</td>\n      <td>NaN</td>\n      <td>No LTPA</td>\n      <td>0.0</td>\n    </tr>\n    <tr>\n      <th>2</th>\n      <td>3</td>\n      <td>NaN</td>\n      <td>NaN</td>\n      <td>NaN</td>\n      <td>NaN</td>\n      <td>NaN</td>\n      <td>NaN</td>\n      <td>NaN</td>\n      <td>NaN</td>\n      <td>NaN</td>\n      <td>NaN</td>\n      <td>NaN</td>\n      <td>NaN</td>\n      <td>NaN</td>\n      <td>NaN</td>\n      <td>NaN</td>\n      <td>NaN</td>\n    </tr>\n    <tr>\n      <th>3</th>\n      <td>5</td>\n      <td>Yes</td>\n      <td>Yes</td>\n      <td>13.0</td>\n      <td>2100.0</td>\n      <td>13.0</td>\n      <td>540.0</td>\n      <td>Yes</td>\n      <td>490.0</td>\n      <td>126.0</td>\n      <td>3.033333</td>\n      <td>3.033333</td>\n      <td>Adequate</td>\n      <td>Regular</td>\n      <td>Irregular</td>\n      <td>Regular</td>\n      <td>616.0</td>\n    </tr>\n    <tr>\n      <th>4</th>\n      <td>6</td>\n      <td>Yes</td>\n      <td>Yes</td>\n      <td>13.0</td>\n      <td>780.0</td>\n      <td>21.0</td>\n      <td>420.0</td>\n      <td>Yes</td>\n      <td>182.0</td>\n      <td>98.0</td>\n      <td>3.033333</td>\n      <td>4.900000</td>\n      <td>Adequate</td>\n      <td>Regular</td>\n      <td>Regular</td>\n      <td>Regular</td>\n      <td>280.0</td>\n    </tr>\n    <tr>\n      <th>...</th>\n      <td>...</td>\n      <td>...</td>\n      <td>...</td>\n      <td>...</td>\n      <td>...</td>\n      <td>...</td>\n      <td>...</td>\n      <td>...</td>\n      <td>...</td>\n      <td>...</td>\n      <td>...</td>\n      <td>...</td>\n      <td>...</td>\n      <td>...</td>\n      <td>...</td>\n      <td>...</td>\n      <td>...</td>\n    </tr>\n    <tr>\n      <th>37979</th>\n      <td>41460</td>\n      <td>No</td>\n      <td>No</td>\n      <td>NaN</td>\n      <td>NaN</td>\n      <td>NaN</td>\n      <td>NaN</td>\n      <td>No</td>\n      <td>NaN</td>\n      <td>NaN</td>\n      <td>NaN</td>\n      <td>NaN</td>\n      <td>No LTPA</td>\n      <td>NaN</td>\n      <td>NaN</td>\n      <td>No LTPA</td>\n      <td>0.0</td>\n    </tr>\n    <tr>\n      <th>37980</th>\n      <td>41461</td>\n      <td>No</td>\n      <td>No</td>\n      <td>NaN</td>\n      <td>NaN</td>\n      <td>NaN</td>\n      <td>NaN</td>\n      <td>No</td>\n      <td>NaN</td>\n      <td>NaN</td>\n      <td>NaN</td>\n      <td>NaN</td>\n      <td>No LTPA</td>\n      <td>NaN</td>\n      <td>NaN</td>\n      <td>No LTPA</td>\n      <td>0.0</td>\n    </tr>\n    <tr>\n      <th>37981</th>\n      <td>41464</td>\n      <td>No</td>\n      <td>No</td>\n      <td>NaN</td>\n      <td>NaN</td>\n      <td>NaN</td>\n      <td>NaN</td>\n      <td>No</td>\n      <td>NaN</td>\n      <td>NaN</td>\n      <td>NaN</td>\n      <td>NaN</td>\n      <td>No LTPA</td>\n      <td>NaN</td>\n      <td>NaN</td>\n      <td>No LTPA</td>\n      <td>0.0</td>\n    </tr>\n    <tr>\n      <th>37982</th>\n      <td>41466</td>\n      <td>No</td>\n      <td>No</td>\n      <td>NaN</td>\n      <td>NaN</td>\n      <td>NaN</td>\n      <td>NaN</td>\n      <td>No</td>\n      <td>NaN</td>\n      <td>NaN</td>\n      <td>NaN</td>\n      <td>NaN</td>\n      <td>No LTPA</td>\n      <td>NaN</td>\n      <td>NaN</td>\n      <td>No LTPA</td>\n      <td>0.0</td>\n    </tr>\n    <tr>\n      <th>37983</th>\n      <td>41474</td>\n      <td>No</td>\n      <td>No</td>\n      <td>NaN</td>\n      <td>NaN</td>\n      <td>NaN</td>\n      <td>NaN</td>\n      <td>No</td>\n      <td>NaN</td>\n      <td>NaN</td>\n      <td>NaN</td>\n      <td>NaN</td>\n      <td>No LTPA</td>\n      <td>NaN</td>\n      <td>NaN</td>\n      <td>No LTPA</td>\n      <td>0.0</td>\n    </tr>\n  </tbody>\n</table>\n<p>37984 rows × 17 columns</p>\n</div>"
     },
     "execution_count": 10,
     "metadata": {},
     "output_type": "execute_result"
    }
   ],
   "source": [
    "df_pa1 = read_csv(r'E:\\dataset\\NHANES221224\\GD files\\ques\\LTPA 1999 - 2006.csv')\n",
    "df_pa1"
   ],
   "metadata": {
    "collapsed": false,
    "pycharm": {
     "name": "#%%\n"
    }
   }
  },
  {
   "cell_type": "code",
   "execution_count": 11,
   "outputs": [
    {
     "data": {
      "text/plain": "         SEQN vigorous_pa  vig_days  vig_mins moderate_pa  mod_days  mod_mins  \\\n0       41475          No       NaN       NaN          No       NaN       NaN   \n1       41476         NaN       NaN       NaN         NaN       NaN       NaN   \n2       41477          No       NaN       NaN          No       NaN       NaN   \n3       41479          No       NaN       NaN          No       NaN       NaN   \n4       41480         NaN       NaN       NaN         NaN       NaN       NaN   \n...       ...         ...       ...       ...         ...       ...       ...   \n52827  102950          No       NaN       NaN          No       NaN       NaN   \n52828  102952          No       NaN       NaN         Yes       6.0      60.0   \n52829  102953          No       NaN       NaN          No       NaN       NaN   \n52830  102954          No       NaN       NaN         Yes       2.0      30.0   \n52831  102956          No       NaN       NaN          No       NaN       NaN   \n\n       vig_total  mod_total pa_both LTPA_time_estimate vig_freq   mod_freq  \\\n0            NaN        NaN      No            No LTPA      NaN        NaN   \n1            NaN        NaN     NaN                NaN      NaN        NaN   \n2            NaN        NaN      No            No LTPA      NaN        NaN   \n3            NaN        NaN      No            No LTPA      NaN        NaN   \n4            NaN        NaN     NaN                NaN      NaN        NaN   \n...          ...        ...     ...                ...      ...        ...   \n52827        NaN        NaN      No            No LTPA      NaN        NaN   \n52828        NaN      360.0     Yes           Adequate      NaN    Regular   \n52829        NaN        NaN      No            No LTPA      NaN        NaN   \n52830        NaN       60.0     Yes         Inadequate      NaN  Irregular   \n52831        NaN        NaN      No            No LTPA      NaN        NaN   \n\n      LTPA_freq_estimate  LTPA_time_total  \n0                No LTPA              0.0  \n1                    NaN              NaN  \n2                No LTPA              0.0  \n3                No LTPA              0.0  \n4                    NaN              NaN  \n...                  ...              ...  \n52827            No LTPA              0.0  \n52828            Regular            360.0  \n52829            No LTPA              0.0  \n52830          Irregular             60.0  \n52831            No LTPA              0.0  \n\n[52832 rows x 15 columns]",
      "text/html": "<div>\n<style scoped>\n    .dataframe tbody tr th:only-of-type {\n        vertical-align: middle;\n    }\n\n    .dataframe tbody tr th {\n        vertical-align: top;\n    }\n\n    .dataframe thead th {\n        text-align: right;\n    }\n</style>\n<table border=\"1\" class=\"dataframe\">\n  <thead>\n    <tr style=\"text-align: right;\">\n      <th></th>\n      <th>SEQN</th>\n      <th>vigorous_pa</th>\n      <th>vig_days</th>\n      <th>vig_mins</th>\n      <th>moderate_pa</th>\n      <th>mod_days</th>\n      <th>mod_mins</th>\n      <th>vig_total</th>\n      <th>mod_total</th>\n      <th>pa_both</th>\n      <th>LTPA_time_estimate</th>\n      <th>vig_freq</th>\n      <th>mod_freq</th>\n      <th>LTPA_freq_estimate</th>\n      <th>LTPA_time_total</th>\n    </tr>\n  </thead>\n  <tbody>\n    <tr>\n      <th>0</th>\n      <td>41475</td>\n      <td>No</td>\n      <td>NaN</td>\n      <td>NaN</td>\n      <td>No</td>\n      <td>NaN</td>\n      <td>NaN</td>\n      <td>NaN</td>\n      <td>NaN</td>\n      <td>No</td>\n      <td>No LTPA</td>\n      <td>NaN</td>\n      <td>NaN</td>\n      <td>No LTPA</td>\n      <td>0.0</td>\n    </tr>\n    <tr>\n      <th>1</th>\n      <td>41476</td>\n      <td>NaN</td>\n      <td>NaN</td>\n      <td>NaN</td>\n      <td>NaN</td>\n      <td>NaN</td>\n      <td>NaN</td>\n      <td>NaN</td>\n      <td>NaN</td>\n      <td>NaN</td>\n      <td>NaN</td>\n      <td>NaN</td>\n      <td>NaN</td>\n      <td>NaN</td>\n      <td>NaN</td>\n    </tr>\n    <tr>\n      <th>2</th>\n      <td>41477</td>\n      <td>No</td>\n      <td>NaN</td>\n      <td>NaN</td>\n      <td>No</td>\n      <td>NaN</td>\n      <td>NaN</td>\n      <td>NaN</td>\n      <td>NaN</td>\n      <td>No</td>\n      <td>No LTPA</td>\n      <td>NaN</td>\n      <td>NaN</td>\n      <td>No LTPA</td>\n      <td>0.0</td>\n    </tr>\n    <tr>\n      <th>3</th>\n      <td>41479</td>\n      <td>No</td>\n      <td>NaN</td>\n      <td>NaN</td>\n      <td>No</td>\n      <td>NaN</td>\n      <td>NaN</td>\n      <td>NaN</td>\n      <td>NaN</td>\n      <td>No</td>\n      <td>No LTPA</td>\n      <td>NaN</td>\n      <td>NaN</td>\n      <td>No LTPA</td>\n      <td>0.0</td>\n    </tr>\n    <tr>\n      <th>4</th>\n      <td>41480</td>\n      <td>NaN</td>\n      <td>NaN</td>\n      <td>NaN</td>\n      <td>NaN</td>\n      <td>NaN</td>\n      <td>NaN</td>\n      <td>NaN</td>\n      <td>NaN</td>\n      <td>NaN</td>\n      <td>NaN</td>\n      <td>NaN</td>\n      <td>NaN</td>\n      <td>NaN</td>\n      <td>NaN</td>\n    </tr>\n    <tr>\n      <th>...</th>\n      <td>...</td>\n      <td>...</td>\n      <td>...</td>\n      <td>...</td>\n      <td>...</td>\n      <td>...</td>\n      <td>...</td>\n      <td>...</td>\n      <td>...</td>\n      <td>...</td>\n      <td>...</td>\n      <td>...</td>\n      <td>...</td>\n      <td>...</td>\n      <td>...</td>\n    </tr>\n    <tr>\n      <th>52827</th>\n      <td>102950</td>\n      <td>No</td>\n      <td>NaN</td>\n      <td>NaN</td>\n      <td>No</td>\n      <td>NaN</td>\n      <td>NaN</td>\n      <td>NaN</td>\n      <td>NaN</td>\n      <td>No</td>\n      <td>No LTPA</td>\n      <td>NaN</td>\n      <td>NaN</td>\n      <td>No LTPA</td>\n      <td>0.0</td>\n    </tr>\n    <tr>\n      <th>52828</th>\n      <td>102952</td>\n      <td>No</td>\n      <td>NaN</td>\n      <td>NaN</td>\n      <td>Yes</td>\n      <td>6.0</td>\n      <td>60.0</td>\n      <td>NaN</td>\n      <td>360.0</td>\n      <td>Yes</td>\n      <td>Adequate</td>\n      <td>NaN</td>\n      <td>Regular</td>\n      <td>Regular</td>\n      <td>360.0</td>\n    </tr>\n    <tr>\n      <th>52829</th>\n      <td>102953</td>\n      <td>No</td>\n      <td>NaN</td>\n      <td>NaN</td>\n      <td>No</td>\n      <td>NaN</td>\n      <td>NaN</td>\n      <td>NaN</td>\n      <td>NaN</td>\n      <td>No</td>\n      <td>No LTPA</td>\n      <td>NaN</td>\n      <td>NaN</td>\n      <td>No LTPA</td>\n      <td>0.0</td>\n    </tr>\n    <tr>\n      <th>52830</th>\n      <td>102954</td>\n      <td>No</td>\n      <td>NaN</td>\n      <td>NaN</td>\n      <td>Yes</td>\n      <td>2.0</td>\n      <td>30.0</td>\n      <td>NaN</td>\n      <td>60.0</td>\n      <td>Yes</td>\n      <td>Inadequate</td>\n      <td>NaN</td>\n      <td>Irregular</td>\n      <td>Irregular</td>\n      <td>60.0</td>\n    </tr>\n    <tr>\n      <th>52831</th>\n      <td>102956</td>\n      <td>No</td>\n      <td>NaN</td>\n      <td>NaN</td>\n      <td>No</td>\n      <td>NaN</td>\n      <td>NaN</td>\n      <td>NaN</td>\n      <td>NaN</td>\n      <td>No</td>\n      <td>No LTPA</td>\n      <td>NaN</td>\n      <td>NaN</td>\n      <td>No LTPA</td>\n      <td>0.0</td>\n    </tr>\n  </tbody>\n</table>\n<p>52832 rows × 15 columns</p>\n</div>"
     },
     "execution_count": 11,
     "metadata": {},
     "output_type": "execute_result"
    }
   ],
   "source": [
    "df_pa2 = read_csv(r'E:\\dataset\\NHANES221224\\GD files\\ques\\LTPA 2007-2018.csv')\n",
    "df_pa2"
   ],
   "metadata": {
    "collapsed": false,
    "pycharm": {
     "name": "#%%\n"
    }
   }
  },
  {
   "cell_type": "code",
   "execution_count": 12,
   "outputs": [],
   "source": [
    "from pandas import concat"
   ],
   "metadata": {
    "collapsed": false,
    "pycharm": {
     "name": "#%%\n"
    }
   }
  },
  {
   "cell_type": "code",
   "execution_count": 13,
   "outputs": [
    {
     "data": {
      "text/plain": "         SEQN  vig_total  mod_total pa_both vig_freq   mod_freq  \\\n0           1        NaN        NaN     NaN      NaN        NaN   \n1           2        NaN        NaN      No      NaN        NaN   \n2           3        NaN        NaN     NaN      NaN        NaN   \n3           5      490.0      126.0     Yes  Regular  Irregular   \n4           6      182.0       98.0     Yes  Regular    Regular   \n...       ...        ...        ...     ...      ...        ...   \n52827  102950        NaN        NaN      No      NaN        NaN   \n52828  102952        NaN      360.0     Yes      NaN    Regular   \n52829  102953        NaN        NaN      No      NaN        NaN   \n52830  102954        NaN       60.0     Yes      NaN  Irregular   \n52831  102956        NaN        NaN      No      NaN        NaN   \n\n       LTPA_time_total LTPA_time_estimate LTPA_freq_estimate  \n0                  NaN                NaN                NaN  \n1                  0.0            No LTPA            No LTPA  \n2                  NaN                NaN                NaN  \n3                616.0           Adequate            Regular  \n4                280.0           Adequate            Regular  \n...                ...                ...                ...  \n52827              0.0            No LTPA            No LTPA  \n52828            360.0           Adequate            Regular  \n52829              0.0            No LTPA            No LTPA  \n52830             60.0         Inadequate          Irregular  \n52831              0.0            No LTPA            No LTPA  \n\n[90816 rows x 9 columns]",
      "text/html": "<div>\n<style scoped>\n    .dataframe tbody tr th:only-of-type {\n        vertical-align: middle;\n    }\n\n    .dataframe tbody tr th {\n        vertical-align: top;\n    }\n\n    .dataframe thead th {\n        text-align: right;\n    }\n</style>\n<table border=\"1\" class=\"dataframe\">\n  <thead>\n    <tr style=\"text-align: right;\">\n      <th></th>\n      <th>SEQN</th>\n      <th>vig_total</th>\n      <th>mod_total</th>\n      <th>pa_both</th>\n      <th>vig_freq</th>\n      <th>mod_freq</th>\n      <th>LTPA_time_total</th>\n      <th>LTPA_time_estimate</th>\n      <th>LTPA_freq_estimate</th>\n    </tr>\n  </thead>\n  <tbody>\n    <tr>\n      <th>0</th>\n      <td>1</td>\n      <td>NaN</td>\n      <td>NaN</td>\n      <td>NaN</td>\n      <td>NaN</td>\n      <td>NaN</td>\n      <td>NaN</td>\n      <td>NaN</td>\n      <td>NaN</td>\n    </tr>\n    <tr>\n      <th>1</th>\n      <td>2</td>\n      <td>NaN</td>\n      <td>NaN</td>\n      <td>No</td>\n      <td>NaN</td>\n      <td>NaN</td>\n      <td>0.0</td>\n      <td>No LTPA</td>\n      <td>No LTPA</td>\n    </tr>\n    <tr>\n      <th>2</th>\n      <td>3</td>\n      <td>NaN</td>\n      <td>NaN</td>\n      <td>NaN</td>\n      <td>NaN</td>\n      <td>NaN</td>\n      <td>NaN</td>\n      <td>NaN</td>\n      <td>NaN</td>\n    </tr>\n    <tr>\n      <th>3</th>\n      <td>5</td>\n      <td>490.0</td>\n      <td>126.0</td>\n      <td>Yes</td>\n      <td>Regular</td>\n      <td>Irregular</td>\n      <td>616.0</td>\n      <td>Adequate</td>\n      <td>Regular</td>\n    </tr>\n    <tr>\n      <th>4</th>\n      <td>6</td>\n      <td>182.0</td>\n      <td>98.0</td>\n      <td>Yes</td>\n      <td>Regular</td>\n      <td>Regular</td>\n      <td>280.0</td>\n      <td>Adequate</td>\n      <td>Regular</td>\n    </tr>\n    <tr>\n      <th>...</th>\n      <td>...</td>\n      <td>...</td>\n      <td>...</td>\n      <td>...</td>\n      <td>...</td>\n      <td>...</td>\n      <td>...</td>\n      <td>...</td>\n      <td>...</td>\n    </tr>\n    <tr>\n      <th>52827</th>\n      <td>102950</td>\n      <td>NaN</td>\n      <td>NaN</td>\n      <td>No</td>\n      <td>NaN</td>\n      <td>NaN</td>\n      <td>0.0</td>\n      <td>No LTPA</td>\n      <td>No LTPA</td>\n    </tr>\n    <tr>\n      <th>52828</th>\n      <td>102952</td>\n      <td>NaN</td>\n      <td>360.0</td>\n      <td>Yes</td>\n      <td>NaN</td>\n      <td>Regular</td>\n      <td>360.0</td>\n      <td>Adequate</td>\n      <td>Regular</td>\n    </tr>\n    <tr>\n      <th>52829</th>\n      <td>102953</td>\n      <td>NaN</td>\n      <td>NaN</td>\n      <td>No</td>\n      <td>NaN</td>\n      <td>NaN</td>\n      <td>0.0</td>\n      <td>No LTPA</td>\n      <td>No LTPA</td>\n    </tr>\n    <tr>\n      <th>52830</th>\n      <td>102954</td>\n      <td>NaN</td>\n      <td>60.0</td>\n      <td>Yes</td>\n      <td>NaN</td>\n      <td>Irregular</td>\n      <td>60.0</td>\n      <td>Inadequate</td>\n      <td>Irregular</td>\n    </tr>\n    <tr>\n      <th>52831</th>\n      <td>102956</td>\n      <td>NaN</td>\n      <td>NaN</td>\n      <td>No</td>\n      <td>NaN</td>\n      <td>NaN</td>\n      <td>0.0</td>\n      <td>No LTPA</td>\n      <td>No LTPA</td>\n    </tr>\n  </tbody>\n</table>\n<p>90816 rows × 9 columns</p>\n</div>"
     },
     "execution_count": 13,
     "metadata": {},
     "output_type": "execute_result"
    }
   ],
   "source": [
    "df_pa = concat([df_pa1.loc[:, ['SEQN', 'vig_total', 'mod_total', 'pa_both',\n",
    "                              'vig_freq', 'mod_freq', 'LTPA_time_total',\n",
    "                              'LTPA_time_estimate', 'LTPA_freq_estimate']],\n",
    "               df_pa2.loc[:, ['SEQN', 'vig_total', 'mod_total', 'pa_both',\n",
    "                              'vig_freq', 'mod_freq', 'LTPA_time_total',\n",
    "                              'LTPA_time_estimate', 'LTPA_freq_estimate']]], join='outer')\n",
    "df_pa"
   ],
   "metadata": {
    "collapsed": false,
    "pycharm": {
     "name": "#%%\n"
    }
   }
  },
  {
   "cell_type": "code",
   "execution_count": 14,
   "outputs": [
    {
     "data": {
      "text/plain": "[['pa_both', (nan, 20107), ('No', 30848), ('Yes', 39861)],\n ['vig_freq', (nan, 67791), ('Regular', 16536), ('Irregular', 6489)],\n ['mod_freq', (nan, 59218), ('Irregular', 19952), ('Regular', 11646)],\n ['LTPA_time_estimate',\n  (nan, 20173),\n  ('No LTPA', 30848),\n  ('Adequate', 27919),\n  ('Inadequate', 11876)],\n ['LTPA_freq_estimate',\n  (nan, 20131),\n  ('No LTPA', 30848),\n  ('Regular', 23618),\n  ('Irregular', 16219)]]"
     },
     "execution_count": 14,
     "metadata": {},
     "output_type": "execute_result"
    }
   ],
   "source": [
    "nhanes.levels(df_pa)"
   ],
   "metadata": {
    "collapsed": false,
    "pycharm": {
     "name": "#%%\n"
    }
   }
  },
  {
   "cell_type": "code",
   "execution_count": 15,
   "outputs": [
    {
     "name": "stdout",
     "output_type": "stream",
     "text": [
      "relevels={\n",
      "\n",
      "'SEQN': ['int64', (1, 102956), {'breaks': 4, 'mode': '(]', 'intervals': [('(1.0, 24741.8]', ''), ('(24741.8, 49530.5]', ''), ('(49530.5, 75600.2]', ''), ('(75600.2, 102956.0]', '')], 'decimal': 1}     ], \n",
      "\n",
      "'vig_total': ['float64', (4.666666666666667, 15736.0), {'breaks': 4, 'mode': '(]', 'intervals': [('(4.7, 180.0]', ''), ('(180.0, 360.0]', ''), ('(360.0, 720.0]', ''), ('(720.0, 15736.0]', '')], 'decimal': 1}     ], \n",
      "\n",
      "'mod_total': ['float64', (2.333333333333333, 5040.0), {'breaks': 4, 'mode': '(]', 'intervals': [('(2.3, 60.7]', ''), ('(60.7, 135.0]', ''), ('(135.0, 270.0]', ''), ('(270.0, 5040.0]', '')], 'decimal': 1}     ], \n",
      "\n",
      "'pa_both': ['object', (nan, ''), ('No', ''), ('Yes', '')], \n",
      "\n",
      "'vig_freq': ['object', (nan, ''), ('Regular', ''), ('Irregular', '')], \n",
      "\n",
      "'mod_freq': ['object', (nan, ''), ('Irregular', ''), ('Regular', '')], \n",
      "\n",
      "'LTPA_time_total': ['float64', (0.0, 15736.0), {'breaks': 4, 'mode': '(]', 'intervals': [('(0.0, 0.0]', ''), ('(0.0, 60.0]', ''), ('(60.0, 360.0]', ''), ('(360.0, 15736.0]', '')], 'decimal': 1}     ], \n",
      "\n",
      "'LTPA_time_estimate': ['object', (nan, ''), ('No LTPA', ''), ('Adequate', ''), ('Inadequate', '')], \n",
      "\n",
      "'LTPA_freq_estimate': ['object', (nan, ''), ('No LTPA', ''), ('Regular', ''), ('Irregular', '')]\n",
      "      }         \n"
     ]
    }
   ],
   "source": [
    "nhanes.relevels_info(df_pa)"
   ],
   "metadata": {
    "collapsed": false,
    "pycharm": {
     "name": "#%%\n"
    }
   }
  },
  {
   "cell_type": "code",
   "execution_count": 16,
   "outputs": [
    {
     "data": {
      "text/plain": "         SEQN   vig_total  mod_total pa_both   vig_freq   mod_freq  \\\n3           5  490.000000      126.0     Yes    Regular  Irregular   \n4           6  182.000000       98.0     Yes    Regular    Regular   \n6           8  559.533333        NaN     Yes    Regular        NaN   \n9          11   20.533333       42.0     Yes  Irregular  Irregular   \n12         14  252.000000      210.0     Yes    Regular    Regular   \n...       ...         ...        ...     ...        ...        ...   \n52801  102904  120.000000      135.0     Yes  Irregular  Irregular   \n52812  102921   60.000000       60.0     Yes  Irregular  Irregular   \n52817  102933  360.000000      180.0     Yes    Regular  Irregular   \n52819  102935   70.000000       25.0     Yes  Irregular  Irregular   \n52825  102948  300.000000        NaN     Yes    Regular        NaN   \n\n       LTPA_time_total LTPA_time_estimate LTPA_freq_estimate  \n3           616.000000           Adequate            Regular  \n4           280.000000           Adequate            Regular  \n6           559.533333           Adequate            Regular  \n9            62.533333         Inadequate          Irregular  \n12          462.000000           Adequate            Regular  \n...                ...                ...                ...  \n52801       255.000000           Adequate          Irregular  \n52812       120.000000         Inadequate          Irregular  \n52817       540.000000           Adequate            Regular  \n52819        95.000000         Inadequate          Irregular  \n52825       300.000000           Adequate            Regular  \n\n[22997 rows x 9 columns]",
      "text/html": "<div>\n<style scoped>\n    .dataframe tbody tr th:only-of-type {\n        vertical-align: middle;\n    }\n\n    .dataframe tbody tr th {\n        vertical-align: top;\n    }\n\n    .dataframe thead th {\n        text-align: right;\n    }\n</style>\n<table border=\"1\" class=\"dataframe\">\n  <thead>\n    <tr style=\"text-align: right;\">\n      <th></th>\n      <th>SEQN</th>\n      <th>vig_total</th>\n      <th>mod_total</th>\n      <th>pa_both</th>\n      <th>vig_freq</th>\n      <th>mod_freq</th>\n      <th>LTPA_time_total</th>\n      <th>LTPA_time_estimate</th>\n      <th>LTPA_freq_estimate</th>\n    </tr>\n  </thead>\n  <tbody>\n    <tr>\n      <th>3</th>\n      <td>5</td>\n      <td>490.000000</td>\n      <td>126.0</td>\n      <td>Yes</td>\n      <td>Regular</td>\n      <td>Irregular</td>\n      <td>616.000000</td>\n      <td>Adequate</td>\n      <td>Regular</td>\n    </tr>\n    <tr>\n      <th>4</th>\n      <td>6</td>\n      <td>182.000000</td>\n      <td>98.0</td>\n      <td>Yes</td>\n      <td>Regular</td>\n      <td>Regular</td>\n      <td>280.000000</td>\n      <td>Adequate</td>\n      <td>Regular</td>\n    </tr>\n    <tr>\n      <th>6</th>\n      <td>8</td>\n      <td>559.533333</td>\n      <td>NaN</td>\n      <td>Yes</td>\n      <td>Regular</td>\n      <td>NaN</td>\n      <td>559.533333</td>\n      <td>Adequate</td>\n      <td>Regular</td>\n    </tr>\n    <tr>\n      <th>9</th>\n      <td>11</td>\n      <td>20.533333</td>\n      <td>42.0</td>\n      <td>Yes</td>\n      <td>Irregular</td>\n      <td>Irregular</td>\n      <td>62.533333</td>\n      <td>Inadequate</td>\n      <td>Irregular</td>\n    </tr>\n    <tr>\n      <th>12</th>\n      <td>14</td>\n      <td>252.000000</td>\n      <td>210.0</td>\n      <td>Yes</td>\n      <td>Regular</td>\n      <td>Regular</td>\n      <td>462.000000</td>\n      <td>Adequate</td>\n      <td>Regular</td>\n    </tr>\n    <tr>\n      <th>...</th>\n      <td>...</td>\n      <td>...</td>\n      <td>...</td>\n      <td>...</td>\n      <td>...</td>\n      <td>...</td>\n      <td>...</td>\n      <td>...</td>\n      <td>...</td>\n    </tr>\n    <tr>\n      <th>52801</th>\n      <td>102904</td>\n      <td>120.000000</td>\n      <td>135.0</td>\n      <td>Yes</td>\n      <td>Irregular</td>\n      <td>Irregular</td>\n      <td>255.000000</td>\n      <td>Adequate</td>\n      <td>Irregular</td>\n    </tr>\n    <tr>\n      <th>52812</th>\n      <td>102921</td>\n      <td>60.000000</td>\n      <td>60.0</td>\n      <td>Yes</td>\n      <td>Irregular</td>\n      <td>Irregular</td>\n      <td>120.000000</td>\n      <td>Inadequate</td>\n      <td>Irregular</td>\n    </tr>\n    <tr>\n      <th>52817</th>\n      <td>102933</td>\n      <td>360.000000</td>\n      <td>180.0</td>\n      <td>Yes</td>\n      <td>Regular</td>\n      <td>Irregular</td>\n      <td>540.000000</td>\n      <td>Adequate</td>\n      <td>Regular</td>\n    </tr>\n    <tr>\n      <th>52819</th>\n      <td>102935</td>\n      <td>70.000000</td>\n      <td>25.0</td>\n      <td>Yes</td>\n      <td>Irregular</td>\n      <td>Irregular</td>\n      <td>95.000000</td>\n      <td>Inadequate</td>\n      <td>Irregular</td>\n    </tr>\n    <tr>\n      <th>52825</th>\n      <td>102948</td>\n      <td>300.000000</td>\n      <td>NaN</td>\n      <td>Yes</td>\n      <td>Regular</td>\n      <td>NaN</td>\n      <td>300.000000</td>\n      <td>Adequate</td>\n      <td>Regular</td>\n    </tr>\n  </tbody>\n</table>\n<p>22997 rows × 9 columns</p>\n</div>"
     },
     "execution_count": 16,
     "metadata": {},
     "output_type": "execute_result"
    }
   ],
   "source": [
    "df_pa[df_pa['vig_total']>=0]"
   ],
   "metadata": {
    "collapsed": false,
    "pycharm": {
     "name": "#%%\n"
    }
   }
  },
  {
   "cell_type": "code",
   "execution_count": 17,
   "outputs": [
    {
     "data": {
      "text/plain": "         SEQN   vig_total  mod_total pa_both   vig_freq   mod_freq  \\\n3           5  490.000000      126.0     Yes    Regular  Irregular   \n4           6  182.000000       98.0     Yes    Regular    Regular   \n5           7         NaN       45.5     Yes        NaN  Irregular   \n9          11   20.533333       42.0     Yes  Irregular  Irregular   \n10         12         NaN       84.0     Yes        NaN  Irregular   \n...       ...         ...        ...     ...        ...        ...   \n52817  102933  360.000000      180.0     Yes    Regular  Irregular   \n52819  102935   70.000000       25.0     Yes  Irregular  Irregular   \n52824  102947         NaN       90.0     Yes        NaN  Irregular   \n52828  102952         NaN      360.0     Yes        NaN    Regular   \n52830  102954         NaN       60.0     Yes        NaN  Irregular   \n\n       LTPA_time_total LTPA_time_estimate LTPA_freq_estimate  \n3           616.000000           Adequate            Regular  \n4           280.000000           Adequate            Regular  \n5            45.500000         Inadequate          Irregular  \n9            62.533333         Inadequate          Irregular  \n10           84.000000         Inadequate          Irregular  \n...                ...                ...                ...  \n52817       540.000000           Adequate            Regular  \n52819        95.000000         Inadequate          Irregular  \n52824        90.000000         Inadequate          Irregular  \n52828       360.000000           Adequate            Regular  \n52830        60.000000         Inadequate          Irregular  \n\n[31564 rows x 9 columns]",
      "text/html": "<div>\n<style scoped>\n    .dataframe tbody tr th:only-of-type {\n        vertical-align: middle;\n    }\n\n    .dataframe tbody tr th {\n        vertical-align: top;\n    }\n\n    .dataframe thead th {\n        text-align: right;\n    }\n</style>\n<table border=\"1\" class=\"dataframe\">\n  <thead>\n    <tr style=\"text-align: right;\">\n      <th></th>\n      <th>SEQN</th>\n      <th>vig_total</th>\n      <th>mod_total</th>\n      <th>pa_both</th>\n      <th>vig_freq</th>\n      <th>mod_freq</th>\n      <th>LTPA_time_total</th>\n      <th>LTPA_time_estimate</th>\n      <th>LTPA_freq_estimate</th>\n    </tr>\n  </thead>\n  <tbody>\n    <tr>\n      <th>3</th>\n      <td>5</td>\n      <td>490.000000</td>\n      <td>126.0</td>\n      <td>Yes</td>\n      <td>Regular</td>\n      <td>Irregular</td>\n      <td>616.000000</td>\n      <td>Adequate</td>\n      <td>Regular</td>\n    </tr>\n    <tr>\n      <th>4</th>\n      <td>6</td>\n      <td>182.000000</td>\n      <td>98.0</td>\n      <td>Yes</td>\n      <td>Regular</td>\n      <td>Regular</td>\n      <td>280.000000</td>\n      <td>Adequate</td>\n      <td>Regular</td>\n    </tr>\n    <tr>\n      <th>5</th>\n      <td>7</td>\n      <td>NaN</td>\n      <td>45.5</td>\n      <td>Yes</td>\n      <td>NaN</td>\n      <td>Irregular</td>\n      <td>45.500000</td>\n      <td>Inadequate</td>\n      <td>Irregular</td>\n    </tr>\n    <tr>\n      <th>9</th>\n      <td>11</td>\n      <td>20.533333</td>\n      <td>42.0</td>\n      <td>Yes</td>\n      <td>Irregular</td>\n      <td>Irregular</td>\n      <td>62.533333</td>\n      <td>Inadequate</td>\n      <td>Irregular</td>\n    </tr>\n    <tr>\n      <th>10</th>\n      <td>12</td>\n      <td>NaN</td>\n      <td>84.0</td>\n      <td>Yes</td>\n      <td>NaN</td>\n      <td>Irregular</td>\n      <td>84.000000</td>\n      <td>Inadequate</td>\n      <td>Irregular</td>\n    </tr>\n    <tr>\n      <th>...</th>\n      <td>...</td>\n      <td>...</td>\n      <td>...</td>\n      <td>...</td>\n      <td>...</td>\n      <td>...</td>\n      <td>...</td>\n      <td>...</td>\n      <td>...</td>\n    </tr>\n    <tr>\n      <th>52817</th>\n      <td>102933</td>\n      <td>360.000000</td>\n      <td>180.0</td>\n      <td>Yes</td>\n      <td>Regular</td>\n      <td>Irregular</td>\n      <td>540.000000</td>\n      <td>Adequate</td>\n      <td>Regular</td>\n    </tr>\n    <tr>\n      <th>52819</th>\n      <td>102935</td>\n      <td>70.000000</td>\n      <td>25.0</td>\n      <td>Yes</td>\n      <td>Irregular</td>\n      <td>Irregular</td>\n      <td>95.000000</td>\n      <td>Inadequate</td>\n      <td>Irregular</td>\n    </tr>\n    <tr>\n      <th>52824</th>\n      <td>102947</td>\n      <td>NaN</td>\n      <td>90.0</td>\n      <td>Yes</td>\n      <td>NaN</td>\n      <td>Irregular</td>\n      <td>90.000000</td>\n      <td>Inadequate</td>\n      <td>Irregular</td>\n    </tr>\n    <tr>\n      <th>52828</th>\n      <td>102952</td>\n      <td>NaN</td>\n      <td>360.0</td>\n      <td>Yes</td>\n      <td>NaN</td>\n      <td>Regular</td>\n      <td>360.000000</td>\n      <td>Adequate</td>\n      <td>Regular</td>\n    </tr>\n    <tr>\n      <th>52830</th>\n      <td>102954</td>\n      <td>NaN</td>\n      <td>60.0</td>\n      <td>Yes</td>\n      <td>NaN</td>\n      <td>Irregular</td>\n      <td>60.000000</td>\n      <td>Inadequate</td>\n      <td>Irregular</td>\n    </tr>\n  </tbody>\n</table>\n<p>31564 rows × 9 columns</p>\n</div>"
     },
     "execution_count": 17,
     "metadata": {},
     "output_type": "execute_result"
    }
   ],
   "source": [
    "df_pa[df_pa['mod_total']>=0]"
   ],
   "metadata": {
    "collapsed": false,
    "pycharm": {
     "name": "#%%\n"
    }
   }
  },
  {
   "cell_type": "code",
   "execution_count": 17,
   "outputs": [],
   "source": [],
   "metadata": {
    "collapsed": false,
    "pycharm": {
     "name": "#%%\n"
    }
   }
  },
  {
   "cell_type": "code",
   "execution_count": 17,
   "outputs": [],
   "source": [],
   "metadata": {
    "collapsed": false,
    "pycharm": {
     "name": "#%%\n"
    }
   }
  },
  {
   "cell_type": "code",
   "execution_count": 18,
   "outputs": [
    {
     "data": {
      "text/plain": "         SEQN HTN_que\n0           2      No\n1           5     Yes\n2           6      No\n3           7     Yes\n4          10      No\n...       ...     ...\n63587  102950     Yes\n63588  102952      No\n63589  102953      No\n63590  102954      No\n63591  102956     Yes\n\n[63592 rows x 2 columns]",
      "text/html": "<div>\n<style scoped>\n    .dataframe tbody tr th:only-of-type {\n        vertical-align: middle;\n    }\n\n    .dataframe tbody tr th {\n        vertical-align: top;\n    }\n\n    .dataframe thead th {\n        text-align: right;\n    }\n</style>\n<table border=\"1\" class=\"dataframe\">\n  <thead>\n    <tr style=\"text-align: right;\">\n      <th></th>\n      <th>SEQN</th>\n      <th>HTN_que</th>\n    </tr>\n  </thead>\n  <tbody>\n    <tr>\n      <th>0</th>\n      <td>2</td>\n      <td>No</td>\n    </tr>\n    <tr>\n      <th>1</th>\n      <td>5</td>\n      <td>Yes</td>\n    </tr>\n    <tr>\n      <th>2</th>\n      <td>6</td>\n      <td>No</td>\n    </tr>\n    <tr>\n      <th>3</th>\n      <td>7</td>\n      <td>Yes</td>\n    </tr>\n    <tr>\n      <th>4</th>\n      <td>10</td>\n      <td>No</td>\n    </tr>\n    <tr>\n      <th>...</th>\n      <td>...</td>\n      <td>...</td>\n    </tr>\n    <tr>\n      <th>63587</th>\n      <td>102950</td>\n      <td>Yes</td>\n    </tr>\n    <tr>\n      <th>63588</th>\n      <td>102952</td>\n      <td>No</td>\n    </tr>\n    <tr>\n      <th>63589</th>\n      <td>102953</td>\n      <td>No</td>\n    </tr>\n    <tr>\n      <th>63590</th>\n      <td>102954</td>\n      <td>No</td>\n    </tr>\n    <tr>\n      <th>63591</th>\n      <td>102956</td>\n      <td>Yes</td>\n    </tr>\n  </tbody>\n</table>\n<p>63592 rows × 2 columns</p>\n</div>"
     },
     "execution_count": 18,
     "metadata": {},
     "output_type": "execute_result"
    }
   ],
   "source": [
    "df_htn = read_csv(r'E:\\dataset\\NHANES221224\\GD files\\ques\\HTN_que.csv')\n",
    "df_htn"
   ],
   "metadata": {
    "collapsed": false,
    "pycharm": {
     "name": "#%%\n"
    }
   }
  },
  {
   "cell_type": "code",
   "execution_count": 19,
   "outputs": [
    {
     "data": {
      "text/plain": "         SEQN DM_que\n0           1     No\n1           2     No\n2           3     No\n3           4     No\n4           5     No\n...       ...    ...\n96806  102952     No\n96807  102953     No\n96808  102954     No\n96809  102955     No\n96810  102956     No\n\n[96811 rows x 2 columns]",
      "text/html": "<div>\n<style scoped>\n    .dataframe tbody tr th:only-of-type {\n        vertical-align: middle;\n    }\n\n    .dataframe tbody tr th {\n        vertical-align: top;\n    }\n\n    .dataframe thead th {\n        text-align: right;\n    }\n</style>\n<table border=\"1\" class=\"dataframe\">\n  <thead>\n    <tr style=\"text-align: right;\">\n      <th></th>\n      <th>SEQN</th>\n      <th>DM_que</th>\n    </tr>\n  </thead>\n  <tbody>\n    <tr>\n      <th>0</th>\n      <td>1</td>\n      <td>No</td>\n    </tr>\n    <tr>\n      <th>1</th>\n      <td>2</td>\n      <td>No</td>\n    </tr>\n    <tr>\n      <th>2</th>\n      <td>3</td>\n      <td>No</td>\n    </tr>\n    <tr>\n      <th>3</th>\n      <td>4</td>\n      <td>No</td>\n    </tr>\n    <tr>\n      <th>4</th>\n      <td>5</td>\n      <td>No</td>\n    </tr>\n    <tr>\n      <th>...</th>\n      <td>...</td>\n      <td>...</td>\n    </tr>\n    <tr>\n      <th>96806</th>\n      <td>102952</td>\n      <td>No</td>\n    </tr>\n    <tr>\n      <th>96807</th>\n      <td>102953</td>\n      <td>No</td>\n    </tr>\n    <tr>\n      <th>96808</th>\n      <td>102954</td>\n      <td>No</td>\n    </tr>\n    <tr>\n      <th>96809</th>\n      <td>102955</td>\n      <td>No</td>\n    </tr>\n    <tr>\n      <th>96810</th>\n      <td>102956</td>\n      <td>No</td>\n    </tr>\n  </tbody>\n</table>\n<p>96811 rows × 2 columns</p>\n</div>"
     },
     "execution_count": 19,
     "metadata": {},
     "output_type": "execute_result"
    }
   ],
   "source": [
    "df_DM = read_csv(r'E:\\dataset\\NHANES221224\\GD files\\ques\\DM_que.csv')\n",
    "df_DM"
   ],
   "metadata": {
    "collapsed": false,
    "pycharm": {
     "name": "#%%\n"
    }
   }
  },
  {
   "cell_type": "code",
   "execution_count": 20,
   "outputs": [
    {
     "data": {
      "text/plain": "         SEQN asthma emphysema chronic_bronchitis   RD\n0           1     No       NaN                NaN  NaN\n1           2     No        No                 No   No\n2           3     No       NaN                NaN  NaN\n3           4     No       NaN                NaN  NaN\n4           5     No        No                 No   No\n...       ...    ...       ...                ...  ...\n96806  102952     No        No                 No   No\n96807  102953    Yes        No                 No  Yes\n96808  102954     No        No                 No   No\n96809  102955     No       NaN                NaN  NaN\n96810  102956     No        No                 No   No\n\n[96811 rows x 5 columns]",
      "text/html": "<div>\n<style scoped>\n    .dataframe tbody tr th:only-of-type {\n        vertical-align: middle;\n    }\n\n    .dataframe tbody tr th {\n        vertical-align: top;\n    }\n\n    .dataframe thead th {\n        text-align: right;\n    }\n</style>\n<table border=\"1\" class=\"dataframe\">\n  <thead>\n    <tr style=\"text-align: right;\">\n      <th></th>\n      <th>SEQN</th>\n      <th>asthma</th>\n      <th>emphysema</th>\n      <th>chronic_bronchitis</th>\n      <th>RD</th>\n    </tr>\n  </thead>\n  <tbody>\n    <tr>\n      <th>0</th>\n      <td>1</td>\n      <td>No</td>\n      <td>NaN</td>\n      <td>NaN</td>\n      <td>NaN</td>\n    </tr>\n    <tr>\n      <th>1</th>\n      <td>2</td>\n      <td>No</td>\n      <td>No</td>\n      <td>No</td>\n      <td>No</td>\n    </tr>\n    <tr>\n      <th>2</th>\n      <td>3</td>\n      <td>No</td>\n      <td>NaN</td>\n      <td>NaN</td>\n      <td>NaN</td>\n    </tr>\n    <tr>\n      <th>3</th>\n      <td>4</td>\n      <td>No</td>\n      <td>NaN</td>\n      <td>NaN</td>\n      <td>NaN</td>\n    </tr>\n    <tr>\n      <th>4</th>\n      <td>5</td>\n      <td>No</td>\n      <td>No</td>\n      <td>No</td>\n      <td>No</td>\n    </tr>\n    <tr>\n      <th>...</th>\n      <td>...</td>\n      <td>...</td>\n      <td>...</td>\n      <td>...</td>\n      <td>...</td>\n    </tr>\n    <tr>\n      <th>96806</th>\n      <td>102952</td>\n      <td>No</td>\n      <td>No</td>\n      <td>No</td>\n      <td>No</td>\n    </tr>\n    <tr>\n      <th>96807</th>\n      <td>102953</td>\n      <td>Yes</td>\n      <td>No</td>\n      <td>No</td>\n      <td>Yes</td>\n    </tr>\n    <tr>\n      <th>96808</th>\n      <td>102954</td>\n      <td>No</td>\n      <td>No</td>\n      <td>No</td>\n      <td>No</td>\n    </tr>\n    <tr>\n      <th>96809</th>\n      <td>102955</td>\n      <td>No</td>\n      <td>NaN</td>\n      <td>NaN</td>\n      <td>NaN</td>\n    </tr>\n    <tr>\n      <th>96810</th>\n      <td>102956</td>\n      <td>No</td>\n      <td>No</td>\n      <td>No</td>\n      <td>No</td>\n    </tr>\n  </tbody>\n</table>\n<p>96811 rows × 5 columns</p>\n</div>"
     },
     "execution_count": 20,
     "metadata": {},
     "output_type": "execute_result"
    }
   ],
   "source": [
    "df_RD = read_csv(r'E:\\dataset\\NHANES221224\\GD files\\ques\\RD_que.csv')\n",
    "df_RD"
   ],
   "metadata": {
    "collapsed": false,
    "pycharm": {
     "name": "#%%\n"
    }
   }
  },
  {
   "cell_type": "code",
   "execution_count": 21,
   "outputs": [
    {
     "data": {
      "text/plain": "         SEQN heart_failure  CHD angina_pectoris heart_attack  CVD\n0           1           NaN  NaN             NaN          NaN  NaN\n1           2            No   No              No           No   No\n2           3           NaN  NaN             NaN          NaN  NaN\n3           4           NaN  NaN             NaN          NaN  NaN\n4           5            No   No              No           No   No\n...       ...           ...  ...             ...          ...  ...\n96806  102952            No   No              No           No   No\n96807  102953            No   No              No           No   No\n96808  102954            No   No              No           No   No\n96809  102955           NaN  NaN             NaN          NaN  NaN\n96810  102956            No   No              No           No   No\n\n[96811 rows x 6 columns]",
      "text/html": "<div>\n<style scoped>\n    .dataframe tbody tr th:only-of-type {\n        vertical-align: middle;\n    }\n\n    .dataframe tbody tr th {\n        vertical-align: top;\n    }\n\n    .dataframe thead th {\n        text-align: right;\n    }\n</style>\n<table border=\"1\" class=\"dataframe\">\n  <thead>\n    <tr style=\"text-align: right;\">\n      <th></th>\n      <th>SEQN</th>\n      <th>heart_failure</th>\n      <th>CHD</th>\n      <th>angina_pectoris</th>\n      <th>heart_attack</th>\n      <th>CVD</th>\n    </tr>\n  </thead>\n  <tbody>\n    <tr>\n      <th>0</th>\n      <td>1</td>\n      <td>NaN</td>\n      <td>NaN</td>\n      <td>NaN</td>\n      <td>NaN</td>\n      <td>NaN</td>\n    </tr>\n    <tr>\n      <th>1</th>\n      <td>2</td>\n      <td>No</td>\n      <td>No</td>\n      <td>No</td>\n      <td>No</td>\n      <td>No</td>\n    </tr>\n    <tr>\n      <th>2</th>\n      <td>3</td>\n      <td>NaN</td>\n      <td>NaN</td>\n      <td>NaN</td>\n      <td>NaN</td>\n      <td>NaN</td>\n    </tr>\n    <tr>\n      <th>3</th>\n      <td>4</td>\n      <td>NaN</td>\n      <td>NaN</td>\n      <td>NaN</td>\n      <td>NaN</td>\n      <td>NaN</td>\n    </tr>\n    <tr>\n      <th>4</th>\n      <td>5</td>\n      <td>No</td>\n      <td>No</td>\n      <td>No</td>\n      <td>No</td>\n      <td>No</td>\n    </tr>\n    <tr>\n      <th>...</th>\n      <td>...</td>\n      <td>...</td>\n      <td>...</td>\n      <td>...</td>\n      <td>...</td>\n      <td>...</td>\n    </tr>\n    <tr>\n      <th>96806</th>\n      <td>102952</td>\n      <td>No</td>\n      <td>No</td>\n      <td>No</td>\n      <td>No</td>\n      <td>No</td>\n    </tr>\n    <tr>\n      <th>96807</th>\n      <td>102953</td>\n      <td>No</td>\n      <td>No</td>\n      <td>No</td>\n      <td>No</td>\n      <td>No</td>\n    </tr>\n    <tr>\n      <th>96808</th>\n      <td>102954</td>\n      <td>No</td>\n      <td>No</td>\n      <td>No</td>\n      <td>No</td>\n      <td>No</td>\n    </tr>\n    <tr>\n      <th>96809</th>\n      <td>102955</td>\n      <td>NaN</td>\n      <td>NaN</td>\n      <td>NaN</td>\n      <td>NaN</td>\n      <td>NaN</td>\n    </tr>\n    <tr>\n      <th>96810</th>\n      <td>102956</td>\n      <td>No</td>\n      <td>No</td>\n      <td>No</td>\n      <td>No</td>\n      <td>No</td>\n    </tr>\n  </tbody>\n</table>\n<p>96811 rows × 6 columns</p>\n</div>"
     },
     "execution_count": 21,
     "metadata": {},
     "output_type": "execute_result"
    }
   ],
   "source": [
    "df_CVD = read_csv(r'E:\\dataset\\NHANES221224\\GD files\\ques\\CVD_que.csv')\n",
    "df_CVD"
   ],
   "metadata": {
    "collapsed": false,
    "pycharm": {
     "name": "#%%\n"
    }
   }
  },
  {
   "cell_type": "code",
   "execution_count": 22,
   "outputs": [
    {
     "data": {
      "text/plain": "         SEQN cancer                type1 type2 type3 type4\n0           1    NaN                  NaN   NaN   NaN   NaN\n1           2    Yes  Skin (non-melanoma)   NaN   NaN   NaN\n2           3    NaN                  NaN   NaN   NaN   NaN\n3           4    NaN                  NaN   NaN   NaN   NaN\n4           5     No                  NaN   NaN   NaN   NaN\n...       ...    ...                  ...   ...   ...   ...\n96806  102952     No                  NaN   NaN   NaN   NaN\n96807  102953     No                  NaN   NaN   NaN   NaN\n96808  102954     No                  NaN   NaN   NaN   NaN\n96809  102955    NaN                  NaN   NaN   NaN   NaN\n96810  102956     No                  NaN   NaN   NaN   NaN\n\n[96811 rows x 6 columns]",
      "text/html": "<div>\n<style scoped>\n    .dataframe tbody tr th:only-of-type {\n        vertical-align: middle;\n    }\n\n    .dataframe tbody tr th {\n        vertical-align: top;\n    }\n\n    .dataframe thead th {\n        text-align: right;\n    }\n</style>\n<table border=\"1\" class=\"dataframe\">\n  <thead>\n    <tr style=\"text-align: right;\">\n      <th></th>\n      <th>SEQN</th>\n      <th>cancer</th>\n      <th>type1</th>\n      <th>type2</th>\n      <th>type3</th>\n      <th>type4</th>\n    </tr>\n  </thead>\n  <tbody>\n    <tr>\n      <th>0</th>\n      <td>1</td>\n      <td>NaN</td>\n      <td>NaN</td>\n      <td>NaN</td>\n      <td>NaN</td>\n      <td>NaN</td>\n    </tr>\n    <tr>\n      <th>1</th>\n      <td>2</td>\n      <td>Yes</td>\n      <td>Skin (non-melanoma)</td>\n      <td>NaN</td>\n      <td>NaN</td>\n      <td>NaN</td>\n    </tr>\n    <tr>\n      <th>2</th>\n      <td>3</td>\n      <td>NaN</td>\n      <td>NaN</td>\n      <td>NaN</td>\n      <td>NaN</td>\n      <td>NaN</td>\n    </tr>\n    <tr>\n      <th>3</th>\n      <td>4</td>\n      <td>NaN</td>\n      <td>NaN</td>\n      <td>NaN</td>\n      <td>NaN</td>\n      <td>NaN</td>\n    </tr>\n    <tr>\n      <th>4</th>\n      <td>5</td>\n      <td>No</td>\n      <td>NaN</td>\n      <td>NaN</td>\n      <td>NaN</td>\n      <td>NaN</td>\n    </tr>\n    <tr>\n      <th>...</th>\n      <td>...</td>\n      <td>...</td>\n      <td>...</td>\n      <td>...</td>\n      <td>...</td>\n      <td>...</td>\n    </tr>\n    <tr>\n      <th>96806</th>\n      <td>102952</td>\n      <td>No</td>\n      <td>NaN</td>\n      <td>NaN</td>\n      <td>NaN</td>\n      <td>NaN</td>\n    </tr>\n    <tr>\n      <th>96807</th>\n      <td>102953</td>\n      <td>No</td>\n      <td>NaN</td>\n      <td>NaN</td>\n      <td>NaN</td>\n      <td>NaN</td>\n    </tr>\n    <tr>\n      <th>96808</th>\n      <td>102954</td>\n      <td>No</td>\n      <td>NaN</td>\n      <td>NaN</td>\n      <td>NaN</td>\n      <td>NaN</td>\n    </tr>\n    <tr>\n      <th>96809</th>\n      <td>102955</td>\n      <td>NaN</td>\n      <td>NaN</td>\n      <td>NaN</td>\n      <td>NaN</td>\n      <td>NaN</td>\n    </tr>\n    <tr>\n      <th>96810</th>\n      <td>102956</td>\n      <td>No</td>\n      <td>NaN</td>\n      <td>NaN</td>\n      <td>NaN</td>\n      <td>NaN</td>\n    </tr>\n  </tbody>\n</table>\n<p>96811 rows × 6 columns</p>\n</div>"
     },
     "execution_count": 22,
     "metadata": {},
     "output_type": "execute_result"
    }
   ],
   "source": [
    "df_cancer = read_csv(r'E:\\dataset\\NHANES221224\\GD files\\ques\\cancer.csv')\n",
    "df_cancer"
   ],
   "metadata": {
    "collapsed": false,
    "pycharm": {
     "name": "#%%\n"
    }
   }
  },
  {
   "cell_type": "code",
   "execution_count": 23,
   "outputs": [
    {
     "data": {
      "text/plain": "         SEQN stroke\n0           1    NaN\n1           2     No\n2           3    NaN\n3           4    NaN\n4           5     No\n...       ...    ...\n96806  102952     No\n96807  102953     No\n96808  102954     No\n96809  102955    NaN\n96810  102956     No\n\n[96811 rows x 2 columns]",
      "text/html": "<div>\n<style scoped>\n    .dataframe tbody tr th:only-of-type {\n        vertical-align: middle;\n    }\n\n    .dataframe tbody tr th {\n        vertical-align: top;\n    }\n\n    .dataframe thead th {\n        text-align: right;\n    }\n</style>\n<table border=\"1\" class=\"dataframe\">\n  <thead>\n    <tr style=\"text-align: right;\">\n      <th></th>\n      <th>SEQN</th>\n      <th>stroke</th>\n    </tr>\n  </thead>\n  <tbody>\n    <tr>\n      <th>0</th>\n      <td>1</td>\n      <td>NaN</td>\n    </tr>\n    <tr>\n      <th>1</th>\n      <td>2</td>\n      <td>No</td>\n    </tr>\n    <tr>\n      <th>2</th>\n      <td>3</td>\n      <td>NaN</td>\n    </tr>\n    <tr>\n      <th>3</th>\n      <td>4</td>\n      <td>NaN</td>\n    </tr>\n    <tr>\n      <th>4</th>\n      <td>5</td>\n      <td>No</td>\n    </tr>\n    <tr>\n      <th>...</th>\n      <td>...</td>\n      <td>...</td>\n    </tr>\n    <tr>\n      <th>96806</th>\n      <td>102952</td>\n      <td>No</td>\n    </tr>\n    <tr>\n      <th>96807</th>\n      <td>102953</td>\n      <td>No</td>\n    </tr>\n    <tr>\n      <th>96808</th>\n      <td>102954</td>\n      <td>No</td>\n    </tr>\n    <tr>\n      <th>96809</th>\n      <td>102955</td>\n      <td>NaN</td>\n    </tr>\n    <tr>\n      <th>96810</th>\n      <td>102956</td>\n      <td>No</td>\n    </tr>\n  </tbody>\n</table>\n<p>96811 rows × 2 columns</p>\n</div>"
     },
     "execution_count": 23,
     "metadata": {},
     "output_type": "execute_result"
    }
   ],
   "source": [
    "df_stroke = read_csv(r'E:\\dataset\\NHANES221224\\GD files\\ques\\stroke.csv')\n",
    "df_stroke"
   ],
   "metadata": {
    "collapsed": false,
    "pycharm": {
     "name": "#%%\n"
    }
   }
  },
  {
   "cell_type": "code",
   "execution_count": 24,
   "outputs": [
    {
     "data": {
      "text/plain": "         SEQN has_OA               type_OA               OA_type\n0           1    NaN                   NaN                   NaN\n1           2    Yes  Rheumatoid arthritis  Rheumatoid arthritis\n2           3    NaN                   NaN                   NaN\n3           4    NaN                   NaN                   NaN\n4           5     No                   NaN                    No\n...       ...    ...                   ...                   ...\n96806  102952     No                   NaN                    No\n96807  102953     No                   NaN                    No\n96808  102954     No                   NaN                    No\n96809  102955    NaN                   NaN                   NaN\n96810  102956    Yes        Osteoarthritis        Osteoarthritis\n\n[96811 rows x 4 columns]",
      "text/html": "<div>\n<style scoped>\n    .dataframe tbody tr th:only-of-type {\n        vertical-align: middle;\n    }\n\n    .dataframe tbody tr th {\n        vertical-align: top;\n    }\n\n    .dataframe thead th {\n        text-align: right;\n    }\n</style>\n<table border=\"1\" class=\"dataframe\">\n  <thead>\n    <tr style=\"text-align: right;\">\n      <th></th>\n      <th>SEQN</th>\n      <th>has_OA</th>\n      <th>type_OA</th>\n      <th>OA_type</th>\n    </tr>\n  </thead>\n  <tbody>\n    <tr>\n      <th>0</th>\n      <td>1</td>\n      <td>NaN</td>\n      <td>NaN</td>\n      <td>NaN</td>\n    </tr>\n    <tr>\n      <th>1</th>\n      <td>2</td>\n      <td>Yes</td>\n      <td>Rheumatoid arthritis</td>\n      <td>Rheumatoid arthritis</td>\n    </tr>\n    <tr>\n      <th>2</th>\n      <td>3</td>\n      <td>NaN</td>\n      <td>NaN</td>\n      <td>NaN</td>\n    </tr>\n    <tr>\n      <th>3</th>\n      <td>4</td>\n      <td>NaN</td>\n      <td>NaN</td>\n      <td>NaN</td>\n    </tr>\n    <tr>\n      <th>4</th>\n      <td>5</td>\n      <td>No</td>\n      <td>NaN</td>\n      <td>No</td>\n    </tr>\n    <tr>\n      <th>...</th>\n      <td>...</td>\n      <td>...</td>\n      <td>...</td>\n      <td>...</td>\n    </tr>\n    <tr>\n      <th>96806</th>\n      <td>102952</td>\n      <td>No</td>\n      <td>NaN</td>\n      <td>No</td>\n    </tr>\n    <tr>\n      <th>96807</th>\n      <td>102953</td>\n      <td>No</td>\n      <td>NaN</td>\n      <td>No</td>\n    </tr>\n    <tr>\n      <th>96808</th>\n      <td>102954</td>\n      <td>No</td>\n      <td>NaN</td>\n      <td>No</td>\n    </tr>\n    <tr>\n      <th>96809</th>\n      <td>102955</td>\n      <td>NaN</td>\n      <td>NaN</td>\n      <td>NaN</td>\n    </tr>\n    <tr>\n      <th>96810</th>\n      <td>102956</td>\n      <td>Yes</td>\n      <td>Osteoarthritis</td>\n      <td>Osteoarthritis</td>\n    </tr>\n  </tbody>\n</table>\n<p>96811 rows × 4 columns</p>\n</div>"
     },
     "execution_count": 24,
     "metadata": {},
     "output_type": "execute_result"
    }
   ],
   "source": [
    "df_arthritis = read_csv(r'E:\\dataset\\NHANES221224\\GD files\\ques\\OA.csv')\n",
    "df_arthritis"
   ],
   "metadata": {
    "collapsed": false,
    "pycharm": {
     "name": "#%%\n"
    }
   }
  },
  {
   "cell_type": "code",
   "execution_count": 25,
   "outputs": [],
   "source": [
    "df_arthritis['OA'] = ''\n",
    "df_arthritis['OA'] = df_arthritis['OA_type']"
   ],
   "metadata": {
    "collapsed": false,
    "pycharm": {
     "name": "#%%\n"
    }
   }
  },
  {
   "cell_type": "code",
   "execution_count": 26,
   "outputs": [
    {
     "name": "stdout",
     "output_type": "stream",
     "text": [
      "relevels={\n",
      "\n",
      "'SEQN': ['int64', (1, 102956), {'breaks': 4, 'mode': '(]', 'intervals': [('(1.0, 25470.5]', ''), ('(25470.5, 50901.0]', ''), ('(50901.0, 77764.5]', ''), ('(77764.5, 102956.0]', '')], 'decimal': 1}     ], \n",
      "\n",
      "'has_OA': ['object', (nan, ''), ('Yes', ''), ('No', '')], \n",
      "\n",
      "'type_OA': ['object', (nan, ''), ('Rheumatoid arthritis', ''), ('Osteoarthritis', ''), ('Other', '')], \n",
      "\n",
      "'OA_type': ['object', (nan, ''), ('Rheumatoid arthritis', ''), ('No', ''), ('yes but unknown type', ''), ('Osteoarthritis', ''), ('Other', '')], \n",
      "\n",
      "'OA': ['object', (nan, ''), ('Rheumatoid arthritis', ''), ('No', ''), ('yes but unknown type', ''), ('Osteoarthritis', ''), ('Other', '')]\n",
      "      }         \n"
     ]
    }
   ],
   "source": [
    "nhanes.relevels_info(df_arthritis)"
   ],
   "metadata": {
    "collapsed": false,
    "pycharm": {
     "name": "#%%\n"
    }
   }
  },
  {
   "cell_type": "code",
   "execution_count": 27,
   "outputs": [
    {
     "data": {
      "text/plain": "         SEQN has_OA               type_OA               OA_type  \\\n0           1    NaN                   NaN                   NaN   \n1           2    Yes  Rheumatoid arthritis  Rheumatoid arthritis   \n2           3    NaN                   NaN                   NaN   \n3           4    NaN                   NaN                   NaN   \n4           5     No                   NaN                    No   \n...       ...    ...                   ...                   ...   \n96806  102952     No                   NaN                    No   \n96807  102953     No                   NaN                    No   \n96808  102954     No                   NaN                    No   \n96809  102955    NaN                   NaN                   NaN   \n96810  102956    Yes        Osteoarthritis        Osteoarthritis   \n\n                         OA  \n0                       NaN  \n1      Rheumatoid arthritis  \n2                       NaN  \n3                       NaN  \n4                        No  \n...                     ...  \n96806                    No  \n96807                    No  \n96808                    No  \n96809                   NaN  \n96810        Osteoarthritis  \n\n[96811 rows x 5 columns]",
      "text/html": "<div>\n<style scoped>\n    .dataframe tbody tr th:only-of-type {\n        vertical-align: middle;\n    }\n\n    .dataframe tbody tr th {\n        vertical-align: top;\n    }\n\n    .dataframe thead th {\n        text-align: right;\n    }\n</style>\n<table border=\"1\" class=\"dataframe\">\n  <thead>\n    <tr style=\"text-align: right;\">\n      <th></th>\n      <th>SEQN</th>\n      <th>has_OA</th>\n      <th>type_OA</th>\n      <th>OA_type</th>\n      <th>OA</th>\n    </tr>\n  </thead>\n  <tbody>\n    <tr>\n      <th>0</th>\n      <td>1</td>\n      <td>NaN</td>\n      <td>NaN</td>\n      <td>NaN</td>\n      <td>NaN</td>\n    </tr>\n    <tr>\n      <th>1</th>\n      <td>2</td>\n      <td>Yes</td>\n      <td>Rheumatoid arthritis</td>\n      <td>Rheumatoid arthritis</td>\n      <td>Rheumatoid arthritis</td>\n    </tr>\n    <tr>\n      <th>2</th>\n      <td>3</td>\n      <td>NaN</td>\n      <td>NaN</td>\n      <td>NaN</td>\n      <td>NaN</td>\n    </tr>\n    <tr>\n      <th>3</th>\n      <td>4</td>\n      <td>NaN</td>\n      <td>NaN</td>\n      <td>NaN</td>\n      <td>NaN</td>\n    </tr>\n    <tr>\n      <th>4</th>\n      <td>5</td>\n      <td>No</td>\n      <td>NaN</td>\n      <td>No</td>\n      <td>No</td>\n    </tr>\n    <tr>\n      <th>...</th>\n      <td>...</td>\n      <td>...</td>\n      <td>...</td>\n      <td>...</td>\n      <td>...</td>\n    </tr>\n    <tr>\n      <th>96806</th>\n      <td>102952</td>\n      <td>No</td>\n      <td>NaN</td>\n      <td>No</td>\n      <td>No</td>\n    </tr>\n    <tr>\n      <th>96807</th>\n      <td>102953</td>\n      <td>No</td>\n      <td>NaN</td>\n      <td>No</td>\n      <td>No</td>\n    </tr>\n    <tr>\n      <th>96808</th>\n      <td>102954</td>\n      <td>No</td>\n      <td>NaN</td>\n      <td>No</td>\n      <td>No</td>\n    </tr>\n    <tr>\n      <th>96809</th>\n      <td>102955</td>\n      <td>NaN</td>\n      <td>NaN</td>\n      <td>NaN</td>\n      <td>NaN</td>\n    </tr>\n    <tr>\n      <th>96810</th>\n      <td>102956</td>\n      <td>Yes</td>\n      <td>Osteoarthritis</td>\n      <td>Osteoarthritis</td>\n      <td>Osteoarthritis</td>\n    </tr>\n  </tbody>\n</table>\n<p>96811 rows × 5 columns</p>\n</div>"
     },
     "execution_count": 27,
     "metadata": {},
     "output_type": "execute_result"
    }
   ],
   "source": [
    "nhanes.relevels_df(df_arthritis, relevels={\n",
    "\n",
    "'OA': ['object', (nan, ''), ('Rheumatoid arthritis', ''), ('No', ''), ('yes but unknown type', 'Other'), ('Osteoarthritis', ''), ('Other', '')]\n",
    "      }         )"
   ],
   "metadata": {
    "collapsed": false,
    "pycharm": {
     "name": "#%%\n"
    }
   }
  },
  {
   "cell_type": "code",
   "execution_count": 28,
   "outputs": [
    {
     "data": {
      "text/plain": "[['has_OA', (nan, 41845), ('Yes', 14692), ('No', 40274)],\n ['type_OA',\n  (nan, 87030),\n  ('Rheumatoid arthritis', 2952),\n  ('Osteoarthritis', 5233),\n  ('Other', 1596)],\n ['OA_type',\n  (nan, 41845),\n  ('Rheumatoid arthritis', 2952),\n  ('No', 40274),\n  ('yes but unknown type', 4911),\n  ('Osteoarthritis', 5233),\n  ('Other', 1596)],\n ['OA',\n  (nan, 41845),\n  ('Rheumatoid arthritis', 2952),\n  ('No', 40274),\n  ('Other', 6507),\n  ('Osteoarthritis', 5233)]]"
     },
     "execution_count": 28,
     "metadata": {},
     "output_type": "execute_result"
    }
   ],
   "source": [
    "nhanes.levels(df_arthritis)"
   ],
   "metadata": {
    "collapsed": false,
    "pycharm": {
     "name": "#%%\n"
    }
   }
  },
  {
   "cell_type": "code",
   "execution_count": 29,
   "outputs": [
    {
     "data": {
      "text/plain": "         SEQN           ADL1             ADL2           ADL3           ADL4  \\\n0           1            NaN              NaN            NaN            NaN   \n1           2  No difficulty    No difficulty  No difficulty  No difficulty   \n2           3            NaN              NaN            NaN            NaN   \n3           4            NaN              NaN            NaN            NaN   \n4           5            NaN              NaN            NaN            NaN   \n...       ...            ...              ...            ...            ...   \n93099  102952  No difficulty    No difficulty  No difficulty  No difficulty   \n93100  102953            NaN              NaN            NaN            NaN   \n93101  102954  No difficulty    No difficulty  No difficulty  No difficulty   \n93102  102955            NaN              NaN            NaN            NaN   \n93103  102956  No difficulty  Some difficulty  No difficulty  No difficulty   \n\n               IADL1            IADL2            IADL3             LSA1  \\\n0                NaN              NaN              NaN              NaN   \n1      No difficulty    No difficulty    No difficulty    No difficulty   \n2                NaN              NaN              NaN              NaN   \n3                NaN              NaN              NaN              NaN   \n4                NaN              NaN              NaN              NaN   \n...              ...              ...              ...              ...   \n93099  No difficulty    No difficulty    No difficulty    No difficulty   \n93100            NaN              NaN              NaN              NaN   \n93101  No difficulty    No difficulty    No difficulty    No difficulty   \n93102            NaN              NaN              NaN              NaN   \n93103  No difficulty  Some difficulty  Some difficulty  Some difficulty   \n\n                  LSA2  ...           GPA5           GPA6           GPA7  \\\n0                  NaN  ...            NaN            NaN            NaN   \n1        No difficulty  ...  No difficulty  No difficulty  No difficulty   \n2                  NaN  ...            NaN            NaN            NaN   \n3                  NaN  ...            NaN            NaN            NaN   \n4                  NaN  ...            NaN            NaN            NaN   \n...                ...  ...            ...            ...            ...   \n93099    No difficulty  ...  No difficulty  No difficulty  No difficulty   \n93100              NaN  ...            NaN            NaN            NaN   \n93101    No difficulty  ...  No difficulty  No difficulty  No difficulty   \n93102              NaN  ...            NaN            NaN            NaN   \n93103  Some difficulty  ...  No difficulty  No difficulty  No difficulty   \n\n                  LEM1           LEM2            ADL           IADL  \\\n0                  NaN            NaN            NaN            NaN   \n1        No difficulty  No difficulty  No difficulty  No difficulty   \n2                  NaN            NaN            NaN            NaN   \n3                  NaN            NaN            NaN            NaN   \n4                  NaN            NaN            NaN            NaN   \n...                ...            ...            ...            ...   \n93099    No difficulty  No difficulty  No difficulty  No difficulty   \n93100              NaN            NaN            NaN            NaN   \n93101  Some difficulty  No difficulty  No difficulty  No difficulty   \n93102              NaN            NaN            NaN            NaN   \n93103              NaN            NaN     Disability     Disability   \n\n                 LSA            LEM            GPA  \n0                NaN            NaN            NaN  \n1      No difficulty  No difficulty  No difficulty  \n2                NaN            NaN            NaN  \n3                NaN            NaN            NaN  \n4                NaN            NaN            NaN  \n...              ...            ...            ...  \n93099  No difficulty  No difficulty  No difficulty  \n93100            NaN            NaN            NaN  \n93101  No difficulty     Disability     Disability  \n93102            NaN            NaN            NaN  \n93103     Disability            NaN     Disability  \n\n[93104 rows x 25 columns]",
      "text/html": "<div>\n<style scoped>\n    .dataframe tbody tr th:only-of-type {\n        vertical-align: middle;\n    }\n\n    .dataframe tbody tr th {\n        vertical-align: top;\n    }\n\n    .dataframe thead th {\n        text-align: right;\n    }\n</style>\n<table border=\"1\" class=\"dataframe\">\n  <thead>\n    <tr style=\"text-align: right;\">\n      <th></th>\n      <th>SEQN</th>\n      <th>ADL1</th>\n      <th>ADL2</th>\n      <th>ADL3</th>\n      <th>ADL4</th>\n      <th>IADL1</th>\n      <th>IADL2</th>\n      <th>IADL3</th>\n      <th>LSA1</th>\n      <th>LSA2</th>\n      <th>...</th>\n      <th>GPA5</th>\n      <th>GPA6</th>\n      <th>GPA7</th>\n      <th>LEM1</th>\n      <th>LEM2</th>\n      <th>ADL</th>\n      <th>IADL</th>\n      <th>LSA</th>\n      <th>LEM</th>\n      <th>GPA</th>\n    </tr>\n  </thead>\n  <tbody>\n    <tr>\n      <th>0</th>\n      <td>1</td>\n      <td>NaN</td>\n      <td>NaN</td>\n      <td>NaN</td>\n      <td>NaN</td>\n      <td>NaN</td>\n      <td>NaN</td>\n      <td>NaN</td>\n      <td>NaN</td>\n      <td>NaN</td>\n      <td>...</td>\n      <td>NaN</td>\n      <td>NaN</td>\n      <td>NaN</td>\n      <td>NaN</td>\n      <td>NaN</td>\n      <td>NaN</td>\n      <td>NaN</td>\n      <td>NaN</td>\n      <td>NaN</td>\n      <td>NaN</td>\n    </tr>\n    <tr>\n      <th>1</th>\n      <td>2</td>\n      <td>No difficulty</td>\n      <td>No difficulty</td>\n      <td>No difficulty</td>\n      <td>No difficulty</td>\n      <td>No difficulty</td>\n      <td>No difficulty</td>\n      <td>No difficulty</td>\n      <td>No difficulty</td>\n      <td>No difficulty</td>\n      <td>...</td>\n      <td>No difficulty</td>\n      <td>No difficulty</td>\n      <td>No difficulty</td>\n      <td>No difficulty</td>\n      <td>No difficulty</td>\n      <td>No difficulty</td>\n      <td>No difficulty</td>\n      <td>No difficulty</td>\n      <td>No difficulty</td>\n      <td>No difficulty</td>\n    </tr>\n    <tr>\n      <th>2</th>\n      <td>3</td>\n      <td>NaN</td>\n      <td>NaN</td>\n      <td>NaN</td>\n      <td>NaN</td>\n      <td>NaN</td>\n      <td>NaN</td>\n      <td>NaN</td>\n      <td>NaN</td>\n      <td>NaN</td>\n      <td>...</td>\n      <td>NaN</td>\n      <td>NaN</td>\n      <td>NaN</td>\n      <td>NaN</td>\n      <td>NaN</td>\n      <td>NaN</td>\n      <td>NaN</td>\n      <td>NaN</td>\n      <td>NaN</td>\n      <td>NaN</td>\n    </tr>\n    <tr>\n      <th>3</th>\n      <td>4</td>\n      <td>NaN</td>\n      <td>NaN</td>\n      <td>NaN</td>\n      <td>NaN</td>\n      <td>NaN</td>\n      <td>NaN</td>\n      <td>NaN</td>\n      <td>NaN</td>\n      <td>NaN</td>\n      <td>...</td>\n      <td>NaN</td>\n      <td>NaN</td>\n      <td>NaN</td>\n      <td>NaN</td>\n      <td>NaN</td>\n      <td>NaN</td>\n      <td>NaN</td>\n      <td>NaN</td>\n      <td>NaN</td>\n      <td>NaN</td>\n    </tr>\n    <tr>\n      <th>4</th>\n      <td>5</td>\n      <td>NaN</td>\n      <td>NaN</td>\n      <td>NaN</td>\n      <td>NaN</td>\n      <td>NaN</td>\n      <td>NaN</td>\n      <td>NaN</td>\n      <td>NaN</td>\n      <td>NaN</td>\n      <td>...</td>\n      <td>NaN</td>\n      <td>NaN</td>\n      <td>NaN</td>\n      <td>NaN</td>\n      <td>NaN</td>\n      <td>NaN</td>\n      <td>NaN</td>\n      <td>NaN</td>\n      <td>NaN</td>\n      <td>NaN</td>\n    </tr>\n    <tr>\n      <th>...</th>\n      <td>...</td>\n      <td>...</td>\n      <td>...</td>\n      <td>...</td>\n      <td>...</td>\n      <td>...</td>\n      <td>...</td>\n      <td>...</td>\n      <td>...</td>\n      <td>...</td>\n      <td>...</td>\n      <td>...</td>\n      <td>...</td>\n      <td>...</td>\n      <td>...</td>\n      <td>...</td>\n      <td>...</td>\n      <td>...</td>\n      <td>...</td>\n      <td>...</td>\n      <td>...</td>\n    </tr>\n    <tr>\n      <th>93099</th>\n      <td>102952</td>\n      <td>No difficulty</td>\n      <td>No difficulty</td>\n      <td>No difficulty</td>\n      <td>No difficulty</td>\n      <td>No difficulty</td>\n      <td>No difficulty</td>\n      <td>No difficulty</td>\n      <td>No difficulty</td>\n      <td>No difficulty</td>\n      <td>...</td>\n      <td>No difficulty</td>\n      <td>No difficulty</td>\n      <td>No difficulty</td>\n      <td>No difficulty</td>\n      <td>No difficulty</td>\n      <td>No difficulty</td>\n      <td>No difficulty</td>\n      <td>No difficulty</td>\n      <td>No difficulty</td>\n      <td>No difficulty</td>\n    </tr>\n    <tr>\n      <th>93100</th>\n      <td>102953</td>\n      <td>NaN</td>\n      <td>NaN</td>\n      <td>NaN</td>\n      <td>NaN</td>\n      <td>NaN</td>\n      <td>NaN</td>\n      <td>NaN</td>\n      <td>NaN</td>\n      <td>NaN</td>\n      <td>...</td>\n      <td>NaN</td>\n      <td>NaN</td>\n      <td>NaN</td>\n      <td>NaN</td>\n      <td>NaN</td>\n      <td>NaN</td>\n      <td>NaN</td>\n      <td>NaN</td>\n      <td>NaN</td>\n      <td>NaN</td>\n    </tr>\n    <tr>\n      <th>93101</th>\n      <td>102954</td>\n      <td>No difficulty</td>\n      <td>No difficulty</td>\n      <td>No difficulty</td>\n      <td>No difficulty</td>\n      <td>No difficulty</td>\n      <td>No difficulty</td>\n      <td>No difficulty</td>\n      <td>No difficulty</td>\n      <td>No difficulty</td>\n      <td>...</td>\n      <td>No difficulty</td>\n      <td>No difficulty</td>\n      <td>No difficulty</td>\n      <td>Some difficulty</td>\n      <td>No difficulty</td>\n      <td>No difficulty</td>\n      <td>No difficulty</td>\n      <td>No difficulty</td>\n      <td>Disability</td>\n      <td>Disability</td>\n    </tr>\n    <tr>\n      <th>93102</th>\n      <td>102955</td>\n      <td>NaN</td>\n      <td>NaN</td>\n      <td>NaN</td>\n      <td>NaN</td>\n      <td>NaN</td>\n      <td>NaN</td>\n      <td>NaN</td>\n      <td>NaN</td>\n      <td>NaN</td>\n      <td>...</td>\n      <td>NaN</td>\n      <td>NaN</td>\n      <td>NaN</td>\n      <td>NaN</td>\n      <td>NaN</td>\n      <td>NaN</td>\n      <td>NaN</td>\n      <td>NaN</td>\n      <td>NaN</td>\n      <td>NaN</td>\n    </tr>\n    <tr>\n      <th>93103</th>\n      <td>102956</td>\n      <td>No difficulty</td>\n      <td>Some difficulty</td>\n      <td>No difficulty</td>\n      <td>No difficulty</td>\n      <td>No difficulty</td>\n      <td>Some difficulty</td>\n      <td>Some difficulty</td>\n      <td>Some difficulty</td>\n      <td>Some difficulty</td>\n      <td>...</td>\n      <td>No difficulty</td>\n      <td>No difficulty</td>\n      <td>No difficulty</td>\n      <td>NaN</td>\n      <td>NaN</td>\n      <td>Disability</td>\n      <td>Disability</td>\n      <td>Disability</td>\n      <td>NaN</td>\n      <td>Disability</td>\n    </tr>\n  </tbody>\n</table>\n<p>93104 rows × 25 columns</p>\n</div>"
     },
     "execution_count": 29,
     "metadata": {},
     "output_type": "execute_result"
    }
   ],
   "source": [
    "df_funcD = read_csv(r'E:\\dataset\\NHANES221224\\GD files\\ques\\Function Disability.csv')\n",
    "df_funcD"
   ],
   "metadata": {
    "collapsed": false,
    "pycharm": {
     "name": "#%%\n"
    }
   }
  },
  {
   "cell_type": "code",
   "execution_count": 30,
   "outputs": [
    {
     "data": {
      "text/plain": "         SEQN            ADL           IADL            LEM            LSA  \\\n0           1            NaN            NaN            NaN            NaN   \n1           2  No difficulty  No difficulty  No difficulty  No difficulty   \n2           3            NaN            NaN            NaN            NaN   \n3           4            NaN            NaN            NaN            NaN   \n4           5            NaN            NaN            NaN            NaN   \n...       ...            ...            ...            ...            ...   \n93099  102952  No difficulty  No difficulty  No difficulty  No difficulty   \n93100  102953            NaN            NaN            NaN            NaN   \n93101  102954  No difficulty  No difficulty     Disability  No difficulty   \n93102  102955            NaN            NaN            NaN            NaN   \n93103  102956     Disability     Disability            NaN     Disability   \n\n                 GPA  \n0                NaN  \n1      No difficulty  \n2                NaN  \n3                NaN  \n4                NaN  \n...              ...  \n93099  No difficulty  \n93100            NaN  \n93101     Disability  \n93102            NaN  \n93103     Disability  \n\n[93104 rows x 6 columns]",
      "text/html": "<div>\n<style scoped>\n    .dataframe tbody tr th:only-of-type {\n        vertical-align: middle;\n    }\n\n    .dataframe tbody tr th {\n        vertical-align: top;\n    }\n\n    .dataframe thead th {\n        text-align: right;\n    }\n</style>\n<table border=\"1\" class=\"dataframe\">\n  <thead>\n    <tr style=\"text-align: right;\">\n      <th></th>\n      <th>SEQN</th>\n      <th>ADL</th>\n      <th>IADL</th>\n      <th>LEM</th>\n      <th>LSA</th>\n      <th>GPA</th>\n    </tr>\n  </thead>\n  <tbody>\n    <tr>\n      <th>0</th>\n      <td>1</td>\n      <td>NaN</td>\n      <td>NaN</td>\n      <td>NaN</td>\n      <td>NaN</td>\n      <td>NaN</td>\n    </tr>\n    <tr>\n      <th>1</th>\n      <td>2</td>\n      <td>No difficulty</td>\n      <td>No difficulty</td>\n      <td>No difficulty</td>\n      <td>No difficulty</td>\n      <td>No difficulty</td>\n    </tr>\n    <tr>\n      <th>2</th>\n      <td>3</td>\n      <td>NaN</td>\n      <td>NaN</td>\n      <td>NaN</td>\n      <td>NaN</td>\n      <td>NaN</td>\n    </tr>\n    <tr>\n      <th>3</th>\n      <td>4</td>\n      <td>NaN</td>\n      <td>NaN</td>\n      <td>NaN</td>\n      <td>NaN</td>\n      <td>NaN</td>\n    </tr>\n    <tr>\n      <th>4</th>\n      <td>5</td>\n      <td>NaN</td>\n      <td>NaN</td>\n      <td>NaN</td>\n      <td>NaN</td>\n      <td>NaN</td>\n    </tr>\n    <tr>\n      <th>...</th>\n      <td>...</td>\n      <td>...</td>\n      <td>...</td>\n      <td>...</td>\n      <td>...</td>\n      <td>...</td>\n    </tr>\n    <tr>\n      <th>93099</th>\n      <td>102952</td>\n      <td>No difficulty</td>\n      <td>No difficulty</td>\n      <td>No difficulty</td>\n      <td>No difficulty</td>\n      <td>No difficulty</td>\n    </tr>\n    <tr>\n      <th>93100</th>\n      <td>102953</td>\n      <td>NaN</td>\n      <td>NaN</td>\n      <td>NaN</td>\n      <td>NaN</td>\n      <td>NaN</td>\n    </tr>\n    <tr>\n      <th>93101</th>\n      <td>102954</td>\n      <td>No difficulty</td>\n      <td>No difficulty</td>\n      <td>Disability</td>\n      <td>No difficulty</td>\n      <td>Disability</td>\n    </tr>\n    <tr>\n      <th>93102</th>\n      <td>102955</td>\n      <td>NaN</td>\n      <td>NaN</td>\n      <td>NaN</td>\n      <td>NaN</td>\n      <td>NaN</td>\n    </tr>\n    <tr>\n      <th>93103</th>\n      <td>102956</td>\n      <td>Disability</td>\n      <td>Disability</td>\n      <td>NaN</td>\n      <td>Disability</td>\n      <td>Disability</td>\n    </tr>\n  </tbody>\n</table>\n<p>93104 rows × 6 columns</p>\n</div>"
     },
     "execution_count": 30,
     "metadata": {},
     "output_type": "execute_result"
    }
   ],
   "source": [
    "df_funcD = df_funcD.loc[:, ['SEQN', 'ADL', 'IADL', 'LEM', 'LSA', 'GPA']]\n",
    "df_funcD"
   ],
   "metadata": {
    "collapsed": false,
    "pycharm": {
     "name": "#%%\n"
    }
   }
  },
  {
   "cell_type": "code",
   "execution_count": 32,
   "outputs": [
    {
     "data": {
      "text/plain": "          SEQN                                        ELIGSTAT  \\\n0            1  Under age 18, not available for public release   \n1            2                                        Eligible   \n2            3  Under age 18, not available for public release   \n3            4  Under age 18, not available for public release   \n4            5                                        Eligible   \n...        ...                                             ...   \n101311  102952                                        Eligible   \n101312  102953                                        Eligible   \n101313  102954                                        Eligible   \n101314  102955  Under age 18, not available for public release   \n101315  102956                                        Eligible   \n\n                MORTSTAT UCOD_LEADING DIABETES HYPERTEN  PERMTH_INT  \\\n0                    NaN          NaN      NaN      NaN         NaN   \n1       Assumed deceased        Other       No       No       177.0   \n2                    NaN          NaN      NaN      NaN         NaN   \n3                    NaN          NaN      NaN      NaN         NaN   \n4          Assumed alive          NaN      NaN      NaN       244.0   \n...                  ...          ...      ...      ...         ...   \n101311     Assumed alive          NaN      NaN      NaN        35.0   \n101312     Assumed alive          NaN      NaN      NaN        31.0   \n101313     Assumed alive          NaN      NaN      NaN        17.0   \n101314               NaN          NaN      NaN      NaN         NaN   \n101315     Assumed alive          NaN      NaN      NaN        27.0   \n\n        PERMTH_EXM  \n0              NaN  \n1            177.0  \n2              NaN  \n3              NaN  \n4            244.0  \n...            ...  \n101311        34.0  \n101312        30.0  \n101313        17.0  \n101314         NaN  \n101315        26.0  \n\n[101316 rows x 8 columns]",
      "text/html": "<div>\n<style scoped>\n    .dataframe tbody tr th:only-of-type {\n        vertical-align: middle;\n    }\n\n    .dataframe tbody tr th {\n        vertical-align: top;\n    }\n\n    .dataframe thead th {\n        text-align: right;\n    }\n</style>\n<table border=\"1\" class=\"dataframe\">\n  <thead>\n    <tr style=\"text-align: right;\">\n      <th></th>\n      <th>SEQN</th>\n      <th>ELIGSTAT</th>\n      <th>MORTSTAT</th>\n      <th>UCOD_LEADING</th>\n      <th>DIABETES</th>\n      <th>HYPERTEN</th>\n      <th>PERMTH_INT</th>\n      <th>PERMTH_EXM</th>\n    </tr>\n  </thead>\n  <tbody>\n    <tr>\n      <th>0</th>\n      <td>1</td>\n      <td>Under age 18, not available for public release</td>\n      <td>NaN</td>\n      <td>NaN</td>\n      <td>NaN</td>\n      <td>NaN</td>\n      <td>NaN</td>\n      <td>NaN</td>\n    </tr>\n    <tr>\n      <th>1</th>\n      <td>2</td>\n      <td>Eligible</td>\n      <td>Assumed deceased</td>\n      <td>Other</td>\n      <td>No</td>\n      <td>No</td>\n      <td>177.0</td>\n      <td>177.0</td>\n    </tr>\n    <tr>\n      <th>2</th>\n      <td>3</td>\n      <td>Under age 18, not available for public release</td>\n      <td>NaN</td>\n      <td>NaN</td>\n      <td>NaN</td>\n      <td>NaN</td>\n      <td>NaN</td>\n      <td>NaN</td>\n    </tr>\n    <tr>\n      <th>3</th>\n      <td>4</td>\n      <td>Under age 18, not available for public release</td>\n      <td>NaN</td>\n      <td>NaN</td>\n      <td>NaN</td>\n      <td>NaN</td>\n      <td>NaN</td>\n      <td>NaN</td>\n    </tr>\n    <tr>\n      <th>4</th>\n      <td>5</td>\n      <td>Eligible</td>\n      <td>Assumed alive</td>\n      <td>NaN</td>\n      <td>NaN</td>\n      <td>NaN</td>\n      <td>244.0</td>\n      <td>244.0</td>\n    </tr>\n    <tr>\n      <th>...</th>\n      <td>...</td>\n      <td>...</td>\n      <td>...</td>\n      <td>...</td>\n      <td>...</td>\n      <td>...</td>\n      <td>...</td>\n      <td>...</td>\n    </tr>\n    <tr>\n      <th>101311</th>\n      <td>102952</td>\n      <td>Eligible</td>\n      <td>Assumed alive</td>\n      <td>NaN</td>\n      <td>NaN</td>\n      <td>NaN</td>\n      <td>35.0</td>\n      <td>34.0</td>\n    </tr>\n    <tr>\n      <th>101312</th>\n      <td>102953</td>\n      <td>Eligible</td>\n      <td>Assumed alive</td>\n      <td>NaN</td>\n      <td>NaN</td>\n      <td>NaN</td>\n      <td>31.0</td>\n      <td>30.0</td>\n    </tr>\n    <tr>\n      <th>101313</th>\n      <td>102954</td>\n      <td>Eligible</td>\n      <td>Assumed alive</td>\n      <td>NaN</td>\n      <td>NaN</td>\n      <td>NaN</td>\n      <td>17.0</td>\n      <td>17.0</td>\n    </tr>\n    <tr>\n      <th>101314</th>\n      <td>102955</td>\n      <td>Under age 18, not available for public release</td>\n      <td>NaN</td>\n      <td>NaN</td>\n      <td>NaN</td>\n      <td>NaN</td>\n      <td>NaN</td>\n      <td>NaN</td>\n    </tr>\n    <tr>\n      <th>101315</th>\n      <td>102956</td>\n      <td>Eligible</td>\n      <td>Assumed alive</td>\n      <td>NaN</td>\n      <td>NaN</td>\n      <td>NaN</td>\n      <td>27.0</td>\n      <td>26.0</td>\n    </tr>\n  </tbody>\n</table>\n<p>101316 rows × 8 columns</p>\n</div>"
     },
     "execution_count": 32,
     "metadata": {},
     "output_type": "execute_result"
    }
   ],
   "source": [
    "df_mort = read_csv(r'E:\\dataset\\NHANES221224\\GD files\\mort\\mortality 1999-2018.csv')\n",
    "df_mort"
   ],
   "metadata": {
    "collapsed": false,
    "pycharm": {
     "name": "#%%\n"
    }
   }
  },
  {
   "cell_type": "code",
   "execution_count": 33,
   "outputs": [],
   "source": [
    "def mort_leading(row):\n",
    "\n",
    "    if row['MORTSTAT'] == 'Assumed alive':\n",
    "        new_row = 'Assumed alive'\n",
    "    elif row['MORTSTAT'] == 'Assumed deceased':\n",
    "        new_row = row['UCOD_LEADING']\n",
    "    else:\n",
    "        new_row = nan\n",
    "    return new_row"
   ],
   "metadata": {
    "collapsed": false,
    "pycharm": {
     "name": "#%%\n"
    }
   }
  },
  {
   "cell_type": "code",
   "execution_count": 34,
   "outputs": [
    {
     "data": {
      "text/plain": "          SEQN                                        ELIGSTAT  \\\n0            1  Under age 18, not available for public release   \n1            2                                        Eligible   \n2            3  Under age 18, not available for public release   \n3            4  Under age 18, not available for public release   \n4            5                                        Eligible   \n...        ...                                             ...   \n101311  102952                                        Eligible   \n101312  102953                                        Eligible   \n101313  102954                                        Eligible   \n101314  102955  Under age 18, not available for public release   \n101315  102956                                        Eligible   \n\n                MORTSTAT UCOD_LEADING DIABETES HYPERTEN  PERMTH_INT  \\\n0                    NaN          NaN      NaN      NaN         NaN   \n1       Assumed deceased        Other       No       No       177.0   \n2                    NaN          NaN      NaN      NaN         NaN   \n3                    NaN          NaN      NaN      NaN         NaN   \n4          Assumed alive          NaN      NaN      NaN       244.0   \n...                  ...          ...      ...      ...         ...   \n101311     Assumed alive          NaN      NaN      NaN        35.0   \n101312     Assumed alive          NaN      NaN      NaN        31.0   \n101313     Assumed alive          NaN      NaN      NaN        17.0   \n101314               NaN          NaN      NaN      NaN         NaN   \n101315     Assumed alive          NaN      NaN      NaN        27.0   \n\n        PERMTH_EXM   mort_leading  \n0              NaN            NaN  \n1            177.0          Other  \n2              NaN            NaN  \n3              NaN            NaN  \n4            244.0  Assumed alive  \n...            ...            ...  \n101311        34.0  Assumed alive  \n101312        30.0  Assumed alive  \n101313        17.0  Assumed alive  \n101314         NaN            NaN  \n101315        26.0  Assumed alive  \n\n[101316 rows x 9 columns]",
      "text/html": "<div>\n<style scoped>\n    .dataframe tbody tr th:only-of-type {\n        vertical-align: middle;\n    }\n\n    .dataframe tbody tr th {\n        vertical-align: top;\n    }\n\n    .dataframe thead th {\n        text-align: right;\n    }\n</style>\n<table border=\"1\" class=\"dataframe\">\n  <thead>\n    <tr style=\"text-align: right;\">\n      <th></th>\n      <th>SEQN</th>\n      <th>ELIGSTAT</th>\n      <th>MORTSTAT</th>\n      <th>UCOD_LEADING</th>\n      <th>DIABETES</th>\n      <th>HYPERTEN</th>\n      <th>PERMTH_INT</th>\n      <th>PERMTH_EXM</th>\n      <th>mort_leading</th>\n    </tr>\n  </thead>\n  <tbody>\n    <tr>\n      <th>0</th>\n      <td>1</td>\n      <td>Under age 18, not available for public release</td>\n      <td>NaN</td>\n      <td>NaN</td>\n      <td>NaN</td>\n      <td>NaN</td>\n      <td>NaN</td>\n      <td>NaN</td>\n      <td>NaN</td>\n    </tr>\n    <tr>\n      <th>1</th>\n      <td>2</td>\n      <td>Eligible</td>\n      <td>Assumed deceased</td>\n      <td>Other</td>\n      <td>No</td>\n      <td>No</td>\n      <td>177.0</td>\n      <td>177.0</td>\n      <td>Other</td>\n    </tr>\n    <tr>\n      <th>2</th>\n      <td>3</td>\n      <td>Under age 18, not available for public release</td>\n      <td>NaN</td>\n      <td>NaN</td>\n      <td>NaN</td>\n      <td>NaN</td>\n      <td>NaN</td>\n      <td>NaN</td>\n      <td>NaN</td>\n    </tr>\n    <tr>\n      <th>3</th>\n      <td>4</td>\n      <td>Under age 18, not available for public release</td>\n      <td>NaN</td>\n      <td>NaN</td>\n      <td>NaN</td>\n      <td>NaN</td>\n      <td>NaN</td>\n      <td>NaN</td>\n      <td>NaN</td>\n    </tr>\n    <tr>\n      <th>4</th>\n      <td>5</td>\n      <td>Eligible</td>\n      <td>Assumed alive</td>\n      <td>NaN</td>\n      <td>NaN</td>\n      <td>NaN</td>\n      <td>244.0</td>\n      <td>244.0</td>\n      <td>Assumed alive</td>\n    </tr>\n    <tr>\n      <th>...</th>\n      <td>...</td>\n      <td>...</td>\n      <td>...</td>\n      <td>...</td>\n      <td>...</td>\n      <td>...</td>\n      <td>...</td>\n      <td>...</td>\n      <td>...</td>\n    </tr>\n    <tr>\n      <th>101311</th>\n      <td>102952</td>\n      <td>Eligible</td>\n      <td>Assumed alive</td>\n      <td>NaN</td>\n      <td>NaN</td>\n      <td>NaN</td>\n      <td>35.0</td>\n      <td>34.0</td>\n      <td>Assumed alive</td>\n    </tr>\n    <tr>\n      <th>101312</th>\n      <td>102953</td>\n      <td>Eligible</td>\n      <td>Assumed alive</td>\n      <td>NaN</td>\n      <td>NaN</td>\n      <td>NaN</td>\n      <td>31.0</td>\n      <td>30.0</td>\n      <td>Assumed alive</td>\n    </tr>\n    <tr>\n      <th>101313</th>\n      <td>102954</td>\n      <td>Eligible</td>\n      <td>Assumed alive</td>\n      <td>NaN</td>\n      <td>NaN</td>\n      <td>NaN</td>\n      <td>17.0</td>\n      <td>17.0</td>\n      <td>Assumed alive</td>\n    </tr>\n    <tr>\n      <th>101314</th>\n      <td>102955</td>\n      <td>Under age 18, not available for public release</td>\n      <td>NaN</td>\n      <td>NaN</td>\n      <td>NaN</td>\n      <td>NaN</td>\n      <td>NaN</td>\n      <td>NaN</td>\n      <td>NaN</td>\n    </tr>\n    <tr>\n      <th>101315</th>\n      <td>102956</td>\n      <td>Eligible</td>\n      <td>Assumed alive</td>\n      <td>NaN</td>\n      <td>NaN</td>\n      <td>NaN</td>\n      <td>27.0</td>\n      <td>26.0</td>\n      <td>Assumed alive</td>\n    </tr>\n  </tbody>\n</table>\n<p>101316 rows × 9 columns</p>\n</div>"
     },
     "execution_count": 34,
     "metadata": {},
     "output_type": "execute_result"
    }
   ],
   "source": [
    "df_mort['mort_leading'] = ''\n",
    "df_mort['mort_leading'] = df_mort.apply(lambda row: mort_leading(row), axis=1 )\n",
    "df_mort"
   ],
   "metadata": {
    "collapsed": false,
    "pycharm": {
     "name": "#%%\n"
    }
   }
  },
  {
   "cell_type": "code",
   "execution_count": 35,
   "outputs": [
    {
     "data": {
      "text/plain": "[['ELIGSTAT',\n  ('Under age 18, not available for public release', 42112),\n  ('Eligible', 59064),\n  ('Ineligible', 140)],\n ['MORTSTAT',\n  (nan, 42252),\n  ('Assumed deceased', 9249),\n  ('Assumed alive', 49815)],\n ['UCOD_LEADING',\n  (nan, 92069),\n  ('Other', 4829),\n  ('Diseases of heart', 2406),\n  ('Malignant neoplasms', 2012)],\n ['DIABETES', (nan, 92069), ('No', 8190), ('Yes', 1057)],\n ['HYPERTEN', (nan, 92069), ('No', 7797), ('Yes', 1450)],\n ['mort_leading',\n  (nan, 42254),\n  ('Other', 4829),\n  ('Assumed alive', 49815),\n  ('Diseases of heart', 2406),\n  ('Malignant neoplasms', 2012)]]"
     },
     "execution_count": 35,
     "metadata": {},
     "output_type": "execute_result"
    }
   ],
   "source": [
    "nhanes.levels(df_mort)"
   ],
   "metadata": {
    "collapsed": false,
    "pycharm": {
     "name": "#%%\n"
    }
   }
  },
  {
   "cell_type": "code",
   "execution_count": 36,
   "outputs": [
    {
     "data": {
      "text/plain": "        SEQN      WTINT2YR      WTINT4YR      WTMEC2YR      WTMEC4YR  SDMVPSU  \\\n0          1   9727.078709   4291.490177  10982.898896   4456.206594      1.0   \n1          2  26678.636376  14203.335998  28325.384898  15336.199717      3.0   \n2          3  43621.680548  20123.763507  46192.256945  21258.466625      2.0   \n3          4  10346.119327   4582.132308  10251.260020   4562.389068      1.0   \n4          5  91050.846620  44161.868201  99445.065735  45985.967832      2.0   \n...      ...           ...           ...           ...           ...      ...   \n20999  21000  33335.342565  19850.059580  35080.855087  20696.212700      1.0   \n21000  21001  13287.462307   7589.221735  14151.003664   8135.841654      1.0   \n21001  21002  35628.840542  19595.022256  37077.391657  20983.212031      2.0   \n21002  21003   7716.225387   4074.083040   7790.272651   4184.827192      2.0   \n21003  21004  22327.399744  11678.039991  25723.758614  13078.595946      2.0   \n\n       SDMVSTRA  \n0           5.0  \n1           1.0  \n2           7.0  \n3           2.0  \n4           8.0  \n...         ...  \n20999      23.0  \n21000      16.0  \n21001      23.0  \n21002      26.0  \n21003      26.0  \n\n[21004 rows x 7 columns]",
      "text/html": "<div>\n<style scoped>\n    .dataframe tbody tr th:only-of-type {\n        vertical-align: middle;\n    }\n\n    .dataframe tbody tr th {\n        vertical-align: top;\n    }\n\n    .dataframe thead th {\n        text-align: right;\n    }\n</style>\n<table border=\"1\" class=\"dataframe\">\n  <thead>\n    <tr style=\"text-align: right;\">\n      <th></th>\n      <th>SEQN</th>\n      <th>WTINT2YR</th>\n      <th>WTINT4YR</th>\n      <th>WTMEC2YR</th>\n      <th>WTMEC4YR</th>\n      <th>SDMVPSU</th>\n      <th>SDMVSTRA</th>\n    </tr>\n  </thead>\n  <tbody>\n    <tr>\n      <th>0</th>\n      <td>1</td>\n      <td>9727.078709</td>\n      <td>4291.490177</td>\n      <td>10982.898896</td>\n      <td>4456.206594</td>\n      <td>1.0</td>\n      <td>5.0</td>\n    </tr>\n    <tr>\n      <th>1</th>\n      <td>2</td>\n      <td>26678.636376</td>\n      <td>14203.335998</td>\n      <td>28325.384898</td>\n      <td>15336.199717</td>\n      <td>3.0</td>\n      <td>1.0</td>\n    </tr>\n    <tr>\n      <th>2</th>\n      <td>3</td>\n      <td>43621.680548</td>\n      <td>20123.763507</td>\n      <td>46192.256945</td>\n      <td>21258.466625</td>\n      <td>2.0</td>\n      <td>7.0</td>\n    </tr>\n    <tr>\n      <th>3</th>\n      <td>4</td>\n      <td>10346.119327</td>\n      <td>4582.132308</td>\n      <td>10251.260020</td>\n      <td>4562.389068</td>\n      <td>1.0</td>\n      <td>2.0</td>\n    </tr>\n    <tr>\n      <th>4</th>\n      <td>5</td>\n      <td>91050.846620</td>\n      <td>44161.868201</td>\n      <td>99445.065735</td>\n      <td>45985.967832</td>\n      <td>2.0</td>\n      <td>8.0</td>\n    </tr>\n    <tr>\n      <th>...</th>\n      <td>...</td>\n      <td>...</td>\n      <td>...</td>\n      <td>...</td>\n      <td>...</td>\n      <td>...</td>\n      <td>...</td>\n    </tr>\n    <tr>\n      <th>20999</th>\n      <td>21000</td>\n      <td>33335.342565</td>\n      <td>19850.059580</td>\n      <td>35080.855087</td>\n      <td>20696.212700</td>\n      <td>1.0</td>\n      <td>23.0</td>\n    </tr>\n    <tr>\n      <th>21000</th>\n      <td>21001</td>\n      <td>13287.462307</td>\n      <td>7589.221735</td>\n      <td>14151.003664</td>\n      <td>8135.841654</td>\n      <td>1.0</td>\n      <td>16.0</td>\n    </tr>\n    <tr>\n      <th>21001</th>\n      <td>21002</td>\n      <td>35628.840542</td>\n      <td>19595.022256</td>\n      <td>37077.391657</td>\n      <td>20983.212031</td>\n      <td>2.0</td>\n      <td>23.0</td>\n    </tr>\n    <tr>\n      <th>21002</th>\n      <td>21003</td>\n      <td>7716.225387</td>\n      <td>4074.083040</td>\n      <td>7790.272651</td>\n      <td>4184.827192</td>\n      <td>2.0</td>\n      <td>26.0</td>\n    </tr>\n    <tr>\n      <th>21003</th>\n      <td>21004</td>\n      <td>22327.399744</td>\n      <td>11678.039991</td>\n      <td>25723.758614</td>\n      <td>13078.595946</td>\n      <td>2.0</td>\n      <td>26.0</td>\n    </tr>\n  </tbody>\n</table>\n<p>21004 rows × 7 columns</p>\n</div>"
     },
     "execution_count": 36,
     "metadata": {},
     "output_type": "execute_result"
    }
   ],
   "source": [
    "df_wt1 = read_csv(r'E:\\dataset\\NHANES221224\\GD files\\WT FILE\\WT 1999-2002.csv')\n",
    "df_wt1"
   ],
   "metadata": {
    "collapsed": false,
    "pycharm": {
     "name": "#%%\n"
    }
   }
  },
  {
   "cell_type": "code",
   "execution_count": 37,
   "outputs": [
    {
     "data": {
      "text/plain": "         SEQN      WTINT2YR      WTMEC2YR  SDMVPSU  SDMVSTRA\n0       21005   5512.320949   5824.782465      2.0      39.0\n1       21006   5422.140453   5564.039715      1.0      41.0\n2       21007  39764.177412  40591.066325      2.0      35.0\n3       21008   5599.499351   5696.750596      1.0      32.0\n4       21009  97593.678977  97731.727244      2.0      31.0\n...       ...           ...           ...      ...       ...\n80307  102952  16896.276203  18338.711104      2.0     138.0\n80308  102953  61630.380013  63661.951573      2.0     137.0\n80309  102954  17160.895269  17694.783346      1.0     144.0\n80310  102955  14238.445922  14871.839636      1.0     136.0\n80311  102956  38645.740291  39426.299948      1.0     142.0\n\n[80312 rows x 5 columns]",
      "text/html": "<div>\n<style scoped>\n    .dataframe tbody tr th:only-of-type {\n        vertical-align: middle;\n    }\n\n    .dataframe tbody tr th {\n        vertical-align: top;\n    }\n\n    .dataframe thead th {\n        text-align: right;\n    }\n</style>\n<table border=\"1\" class=\"dataframe\">\n  <thead>\n    <tr style=\"text-align: right;\">\n      <th></th>\n      <th>SEQN</th>\n      <th>WTINT2YR</th>\n      <th>WTMEC2YR</th>\n      <th>SDMVPSU</th>\n      <th>SDMVSTRA</th>\n    </tr>\n  </thead>\n  <tbody>\n    <tr>\n      <th>0</th>\n      <td>21005</td>\n      <td>5512.320949</td>\n      <td>5824.782465</td>\n      <td>2.0</td>\n      <td>39.0</td>\n    </tr>\n    <tr>\n      <th>1</th>\n      <td>21006</td>\n      <td>5422.140453</td>\n      <td>5564.039715</td>\n      <td>1.0</td>\n      <td>41.0</td>\n    </tr>\n    <tr>\n      <th>2</th>\n      <td>21007</td>\n      <td>39764.177412</td>\n      <td>40591.066325</td>\n      <td>2.0</td>\n      <td>35.0</td>\n    </tr>\n    <tr>\n      <th>3</th>\n      <td>21008</td>\n      <td>5599.499351</td>\n      <td>5696.750596</td>\n      <td>1.0</td>\n      <td>32.0</td>\n    </tr>\n    <tr>\n      <th>4</th>\n      <td>21009</td>\n      <td>97593.678977</td>\n      <td>97731.727244</td>\n      <td>2.0</td>\n      <td>31.0</td>\n    </tr>\n    <tr>\n      <th>...</th>\n      <td>...</td>\n      <td>...</td>\n      <td>...</td>\n      <td>...</td>\n      <td>...</td>\n    </tr>\n    <tr>\n      <th>80307</th>\n      <td>102952</td>\n      <td>16896.276203</td>\n      <td>18338.711104</td>\n      <td>2.0</td>\n      <td>138.0</td>\n    </tr>\n    <tr>\n      <th>80308</th>\n      <td>102953</td>\n      <td>61630.380013</td>\n      <td>63661.951573</td>\n      <td>2.0</td>\n      <td>137.0</td>\n    </tr>\n    <tr>\n      <th>80309</th>\n      <td>102954</td>\n      <td>17160.895269</td>\n      <td>17694.783346</td>\n      <td>1.0</td>\n      <td>144.0</td>\n    </tr>\n    <tr>\n      <th>80310</th>\n      <td>102955</td>\n      <td>14238.445922</td>\n      <td>14871.839636</td>\n      <td>1.0</td>\n      <td>136.0</td>\n    </tr>\n    <tr>\n      <th>80311</th>\n      <td>102956</td>\n      <td>38645.740291</td>\n      <td>39426.299948</td>\n      <td>1.0</td>\n      <td>142.0</td>\n    </tr>\n  </tbody>\n</table>\n<p>80312 rows × 5 columns</p>\n</div>"
     },
     "execution_count": 37,
     "metadata": {},
     "output_type": "execute_result"
    }
   ],
   "source": [
    "df_wt2 = read_csv(r'E:\\dataset\\NHANES221224\\GD files\\WT FILE\\WT 2003-2018.csv')\n",
    "df_wt2"
   ],
   "metadata": {
    "collapsed": false,
    "pycharm": {
     "name": "#%%\n"
    }
   }
  },
  {
   "cell_type": "code",
   "execution_count": 38,
   "outputs": [
    {
     "name": "stdout",
     "output_type": "stream",
     "text": [
      "df 1--> common cols [SEQN]:  RangeSEQN(1, 93702) LengthSEQN=92062\n"
     ]
    },
    {
     "data": {
      "text/plain": "        SEQN       WTINT2YR      WTINT4YR       WTMEC2YR      WTMEC4YR  \\\n0          1    9727.078709   4291.490177   10982.898896   4456.206594   \n1          2   26678.636376  14203.335998   28325.384898  15336.199717   \n2          3   43621.680548  20123.763507   46192.256945  21258.466625   \n3          4   10346.119327   4582.132308   10251.260020   4562.389068   \n4          5   91050.846620  44161.868201   99445.065735  45985.967832   \n...      ...            ...           ...            ...           ...   \n92057  93698    9594.802391           NaN    9896.007775           NaN   \n92058  93699    9871.384668           NaN    9875.921047           NaN   \n92059  93700   42314.288108           NaN   43194.215112           NaN   \n92060  93701   42087.657815           NaN   48252.504294           NaN   \n92061  93702  107361.906644           NaN  105080.445194           NaN   \n\n       SDMVPSU  SDMVSTRA  \n0          1.0       5.0  \n1          3.0       1.0  \n2          2.0       7.0  \n3          1.0       2.0  \n4          2.0       8.0  \n...        ...       ...  \n92057      1.0     121.0  \n92058      1.0     129.0  \n92059      1.0     126.0  \n92060      2.0     124.0  \n92061      2.0     119.0  \n\n[92062 rows x 7 columns]",
      "text/html": "<div>\n<style scoped>\n    .dataframe tbody tr th:only-of-type {\n        vertical-align: middle;\n    }\n\n    .dataframe tbody tr th {\n        vertical-align: top;\n    }\n\n    .dataframe thead th {\n        text-align: right;\n    }\n</style>\n<table border=\"1\" class=\"dataframe\">\n  <thead>\n    <tr style=\"text-align: right;\">\n      <th></th>\n      <th>SEQN</th>\n      <th>WTINT2YR</th>\n      <th>WTINT4YR</th>\n      <th>WTMEC2YR</th>\n      <th>WTMEC4YR</th>\n      <th>SDMVPSU</th>\n      <th>SDMVSTRA</th>\n    </tr>\n  </thead>\n  <tbody>\n    <tr>\n      <th>0</th>\n      <td>1</td>\n      <td>9727.078709</td>\n      <td>4291.490177</td>\n      <td>10982.898896</td>\n      <td>4456.206594</td>\n      <td>1.0</td>\n      <td>5.0</td>\n    </tr>\n    <tr>\n      <th>1</th>\n      <td>2</td>\n      <td>26678.636376</td>\n      <td>14203.335998</td>\n      <td>28325.384898</td>\n      <td>15336.199717</td>\n      <td>3.0</td>\n      <td>1.0</td>\n    </tr>\n    <tr>\n      <th>2</th>\n      <td>3</td>\n      <td>43621.680548</td>\n      <td>20123.763507</td>\n      <td>46192.256945</td>\n      <td>21258.466625</td>\n      <td>2.0</td>\n      <td>7.0</td>\n    </tr>\n    <tr>\n      <th>3</th>\n      <td>4</td>\n      <td>10346.119327</td>\n      <td>4582.132308</td>\n      <td>10251.260020</td>\n      <td>4562.389068</td>\n      <td>1.0</td>\n      <td>2.0</td>\n    </tr>\n    <tr>\n      <th>4</th>\n      <td>5</td>\n      <td>91050.846620</td>\n      <td>44161.868201</td>\n      <td>99445.065735</td>\n      <td>45985.967832</td>\n      <td>2.0</td>\n      <td>8.0</td>\n    </tr>\n    <tr>\n      <th>...</th>\n      <td>...</td>\n      <td>...</td>\n      <td>...</td>\n      <td>...</td>\n      <td>...</td>\n      <td>...</td>\n      <td>...</td>\n    </tr>\n    <tr>\n      <th>92057</th>\n      <td>93698</td>\n      <td>9594.802391</td>\n      <td>NaN</td>\n      <td>9896.007775</td>\n      <td>NaN</td>\n      <td>1.0</td>\n      <td>121.0</td>\n    </tr>\n    <tr>\n      <th>92058</th>\n      <td>93699</td>\n      <td>9871.384668</td>\n      <td>NaN</td>\n      <td>9875.921047</td>\n      <td>NaN</td>\n      <td>1.0</td>\n      <td>129.0</td>\n    </tr>\n    <tr>\n      <th>92059</th>\n      <td>93700</td>\n      <td>42314.288108</td>\n      <td>NaN</td>\n      <td>43194.215112</td>\n      <td>NaN</td>\n      <td>1.0</td>\n      <td>126.0</td>\n    </tr>\n    <tr>\n      <th>92060</th>\n      <td>93701</td>\n      <td>42087.657815</td>\n      <td>NaN</td>\n      <td>48252.504294</td>\n      <td>NaN</td>\n      <td>2.0</td>\n      <td>124.0</td>\n    </tr>\n    <tr>\n      <th>92061</th>\n      <td>93702</td>\n      <td>107361.906644</td>\n      <td>NaN</td>\n      <td>105080.445194</td>\n      <td>NaN</td>\n      <td>2.0</td>\n      <td>119.0</td>\n    </tr>\n  </tbody>\n</table>\n<p>92062 rows × 7 columns</p>\n</div>"
     },
     "execution_count": 38,
     "metadata": {},
     "output_type": "execute_result"
    }
   ],
   "source": [
    "df_Wt = concat([df_wt1, df_wt2], join='outer')\n",
    "df_Wt = nhanes.left_join([df_cycle, df_Wt], by=['SEQN'])\n",
    "df_Wt = df_Wt.loc[:, ['SEQN', 'WTINT2YR', 'WTINT4YR', 'WTMEC2YR', 'WTMEC4YR', 'SDMVPSU', 'SDMVSTRA']]\n",
    "df_Wt"
   ],
   "metadata": {
    "collapsed": false,
    "pycharm": {
     "name": "#%%\n"
    }
   }
  },
  {
   "cell_type": "code",
   "execution_count": 39,
   "outputs": [],
   "source": [
    "def combine_wt(row, col_type = 'int', cyls_num = 9):\n",
    "    col = 'WTINT' if col_type == 'int' else 'WTMEC'\n",
    "    row_new = nan\n",
    "    if row[f\"{col}4YR\"]>=0:\n",
    "        row_new = row[f\"{col}4YR\"]*(2/cyls_num)\n",
    "    elif row[f\"{col}2YR\"]>=0:\n",
    "        row_new = row[f\"{col}2YR\"]*(1/cyls_num)\n",
    "    else:\n",
    "        row_new = nan\n",
    "    return row_new"
   ],
   "metadata": {
    "collapsed": false,
    "pycharm": {
     "name": "#%%\n"
    }
   }
  },
  {
   "cell_type": "code",
   "execution_count": 40,
   "outputs": [
    {
     "data": {
      "text/plain": "        SEQN       WTINT2YR      WTINT4YR       WTMEC2YR      WTMEC4YR  \\\n0          1    9727.078709   4291.490177   10982.898896   4456.206594   \n1          2   26678.636376  14203.335998   28325.384898  15336.199717   \n2          3   43621.680548  20123.763507   46192.256945  21258.466625   \n3          4   10346.119327   4582.132308   10251.260020   4562.389068   \n4          5   91050.846620  44161.868201   99445.065735  45985.967832   \n...      ...            ...           ...            ...           ...   \n92057  93698    9594.802391           NaN    9896.007775           NaN   \n92058  93699    9871.384668           NaN    9875.921047           NaN   \n92059  93700   42314.288108           NaN   43194.215112           NaN   \n92060  93701   42087.657815           NaN   48252.504294           NaN   \n92061  93702  107361.906644           NaN  105080.445194           NaN   \n\n       SDMVPSU  SDMVSTRA  WTINT_cycle9  WTMEC_cycle9  \n0          1.0       5.0    953.664484    990.268132  \n1          3.0       1.0   3156.296888   3408.044382  \n2          2.0       7.0   4471.947446   4724.103694  \n3          1.0       2.0   1018.251624   1013.864237  \n4          2.0       8.0   9813.748489  10219.103963  \n...        ...       ...           ...           ...  \n92057      1.0     121.0   1066.089155   1099.556419  \n92058      1.0     129.0   1096.820519   1097.324561  \n92059      1.0     126.0   4701.587568   4799.357235  \n92060      2.0     124.0   4676.406424   5361.389366  \n92061      2.0     119.0  11929.100738  11675.605022  \n\n[92062 rows x 9 columns]",
      "text/html": "<div>\n<style scoped>\n    .dataframe tbody tr th:only-of-type {\n        vertical-align: middle;\n    }\n\n    .dataframe tbody tr th {\n        vertical-align: top;\n    }\n\n    .dataframe thead th {\n        text-align: right;\n    }\n</style>\n<table border=\"1\" class=\"dataframe\">\n  <thead>\n    <tr style=\"text-align: right;\">\n      <th></th>\n      <th>SEQN</th>\n      <th>WTINT2YR</th>\n      <th>WTINT4YR</th>\n      <th>WTMEC2YR</th>\n      <th>WTMEC4YR</th>\n      <th>SDMVPSU</th>\n      <th>SDMVSTRA</th>\n      <th>WTINT_cycle9</th>\n      <th>WTMEC_cycle9</th>\n    </tr>\n  </thead>\n  <tbody>\n    <tr>\n      <th>0</th>\n      <td>1</td>\n      <td>9727.078709</td>\n      <td>4291.490177</td>\n      <td>10982.898896</td>\n      <td>4456.206594</td>\n      <td>1.0</td>\n      <td>5.0</td>\n      <td>953.664484</td>\n      <td>990.268132</td>\n    </tr>\n    <tr>\n      <th>1</th>\n      <td>2</td>\n      <td>26678.636376</td>\n      <td>14203.335998</td>\n      <td>28325.384898</td>\n      <td>15336.199717</td>\n      <td>3.0</td>\n      <td>1.0</td>\n      <td>3156.296888</td>\n      <td>3408.044382</td>\n    </tr>\n    <tr>\n      <th>2</th>\n      <td>3</td>\n      <td>43621.680548</td>\n      <td>20123.763507</td>\n      <td>46192.256945</td>\n      <td>21258.466625</td>\n      <td>2.0</td>\n      <td>7.0</td>\n      <td>4471.947446</td>\n      <td>4724.103694</td>\n    </tr>\n    <tr>\n      <th>3</th>\n      <td>4</td>\n      <td>10346.119327</td>\n      <td>4582.132308</td>\n      <td>10251.260020</td>\n      <td>4562.389068</td>\n      <td>1.0</td>\n      <td>2.0</td>\n      <td>1018.251624</td>\n      <td>1013.864237</td>\n    </tr>\n    <tr>\n      <th>4</th>\n      <td>5</td>\n      <td>91050.846620</td>\n      <td>44161.868201</td>\n      <td>99445.065735</td>\n      <td>45985.967832</td>\n      <td>2.0</td>\n      <td>8.0</td>\n      <td>9813.748489</td>\n      <td>10219.103963</td>\n    </tr>\n    <tr>\n      <th>...</th>\n      <td>...</td>\n      <td>...</td>\n      <td>...</td>\n      <td>...</td>\n      <td>...</td>\n      <td>...</td>\n      <td>...</td>\n      <td>...</td>\n      <td>...</td>\n    </tr>\n    <tr>\n      <th>92057</th>\n      <td>93698</td>\n      <td>9594.802391</td>\n      <td>NaN</td>\n      <td>9896.007775</td>\n      <td>NaN</td>\n      <td>1.0</td>\n      <td>121.0</td>\n      <td>1066.089155</td>\n      <td>1099.556419</td>\n    </tr>\n    <tr>\n      <th>92058</th>\n      <td>93699</td>\n      <td>9871.384668</td>\n      <td>NaN</td>\n      <td>9875.921047</td>\n      <td>NaN</td>\n      <td>1.0</td>\n      <td>129.0</td>\n      <td>1096.820519</td>\n      <td>1097.324561</td>\n    </tr>\n    <tr>\n      <th>92059</th>\n      <td>93700</td>\n      <td>42314.288108</td>\n      <td>NaN</td>\n      <td>43194.215112</td>\n      <td>NaN</td>\n      <td>1.0</td>\n      <td>126.0</td>\n      <td>4701.587568</td>\n      <td>4799.357235</td>\n    </tr>\n    <tr>\n      <th>92060</th>\n      <td>93701</td>\n      <td>42087.657815</td>\n      <td>NaN</td>\n      <td>48252.504294</td>\n      <td>NaN</td>\n      <td>2.0</td>\n      <td>124.0</td>\n      <td>4676.406424</td>\n      <td>5361.389366</td>\n    </tr>\n    <tr>\n      <th>92061</th>\n      <td>93702</td>\n      <td>107361.906644</td>\n      <td>NaN</td>\n      <td>105080.445194</td>\n      <td>NaN</td>\n      <td>2.0</td>\n      <td>119.0</td>\n      <td>11929.100738</td>\n      <td>11675.605022</td>\n    </tr>\n  </tbody>\n</table>\n<p>92062 rows × 9 columns</p>\n</div>"
     },
     "execution_count": 40,
     "metadata": {},
     "output_type": "execute_result"
    }
   ],
   "source": [
    "df_Wt['WTINT_cycle9'] = ''\n",
    "df_Wt['WTINT_cycle9'] = df_Wt.apply(lambda row: combine_wt(row), axis=1)\n",
    "df_Wt['WTMEC_cycle9'] = df_Wt.apply(lambda row: combine_wt(row, col_type='mec'), axis=1)\n",
    "df_Wt"
   ],
   "metadata": {
    "collapsed": false,
    "pycharm": {
     "name": "#%%\n"
    }
   }
  },
  {
   "cell_type": "code",
   "execution_count": 41,
   "outputs": [
    {
     "name": "stdout",
     "output_type": "stream",
     "text": [
      "relevels={\n",
      "\n",
      "'SEQN': ['int64', (1, 93702), {'breaks': 4, 'mode': '(]', 'intervals': [('(1.0, 23016.2]', ''), ('(23016.2, 46031.5]', ''), ('(46031.5, 69046.8]', ''), ('(69046.8, 93702.0]', '')], 'decimal': 1}     ], \n",
      "\n",
      "'WTINT2YR': ['float64', (974.6652516087383, 236864.13597359005), {'breaks': 4, 'mode': '(]', 'intervals': [('(974.7, 9718.5]', ''), ('(9718.5, 18900.0]', ''), ('(18900.0, 36517.9]', ''), ('(36517.9, 236864.1]', '')], 'decimal': 1}     ], \n",
      "\n",
      "'WTINT4YR': ['float64', (620.682382, 100652.329635), {'breaks': 4, 'mode': '(]', 'intervals': [('(620.7, 3338.8]', ''), ('(3338.8, 7794.8]', ''), ('(7794.8, 18642.4]', ''), ('(18642.4, 100652.3]', '')], 'decimal': 1}     ], \n",
      "\n",
      "'WTMEC2YR': ['float64', (0.0, 261361.33834187195), {'breaks': 4, 'mode': '(]', 'intervals': [('(0.0, 9183.0]', ''), ('(9183.0, 18621.6]', ''), ('(18621.6, 36994.4]', ''), ('(36994.4, 261361.3]', '')], 'decimal': 1}     ], \n",
      "\n",
      "'WTMEC4YR': ['float64', (0.0, 103831.171049), {'breaks': 4, 'mode': '(]', 'intervals': [('(0.0, 3060.2]', ''), ('(3060.2, 7046.4]', ''), ('(7046.4, 18859.1]', ''), ('(18859.1, 103831.2]', '')], 'decimal': 1}     ], \n",
      "\n",
      "'SDMVPSU': ['float64', (1.0, 3.0), {'breaks': 4, 'mode': '(]', 'intervals': [('(1.0, 1.0]', ''), ('(1.0, 2.0]', ''), ('(2.0, 2.0]', ''), ('(2.0, 3.0]', '')], 'decimal': 1}     ], \n",
      "\n",
      "'SDMVSTRA': ['float64', (1.0, 133.0), {'breaks': 4, 'mode': '(]', 'intervals': [('(1.0, 31.0]', ''), ('(31.0, 65.0]', ''), ('(65.0, 99.0]', ''), ('(99.0, 133.0]', '')], 'decimal': 1}     ], \n",
      "\n",
      "'WTINT_cycle9': ['float64', (136.1075591111111, 25972.871316666664), {'breaks': 4, 'mode': '(]', 'intervals': [('(136.1, 1085.2]', ''), ('(1085.2, 2104.1]', ''), ('(2104.1, 4070.3]', ''), ('(4070.3, 25972.9]', '')], 'decimal': 1}     ], \n",
      "\n",
      "'WTMEC_cycle9': ['float64', (0.0, 26931.85119622222), {'breaks': 4, 'mode': '(]', 'intervals': [('(0.0, 1027.9]', ''), ('(1027.9, 2082.6]', ''), ('(2082.6, 4118.7]', ''), ('(4118.7, 26931.9]', '')], 'decimal': 1}     ]\n",
      "      }         \n"
     ]
    }
   ],
   "source": [
    "nhanes.relevels_info(df_Wt)"
   ],
   "metadata": {
    "collapsed": false,
    "pycharm": {
     "name": "#%%\n"
    }
   }
  },
  {
   "cell_type": "code",
   "execution_count": 42,
   "outputs": [
    {
     "data": {
      "text/plain": "          SEQN NSAIDs_gen1 NSAIDs_gen12 NSAIDs_gen2 NSAIDs_gen22 weakOpioid  \\\n0            1          No           No          No           No         No   \n1            2          No           No          No           No         No   \n2            3          No           No          No           No         No   \n3            4          No           No          No           No         No   \n4            5          No           No          No           No         No   \n...        ...         ...          ...         ...          ...        ...   \n101311  102952          No           No          No           No         No   \n101312  102953          No           No          No           No         No   \n101313  102954          No           No          No           No         No   \n101314  102955          No           No          No           No         No   \n101315  102956          No           No          No           No         No   \n\n       weakOpioid2 OADRUG_bind_all OADRUG_bind_all2  \n0               No              No               No  \n1               No              No               No  \n2               No              No               No  \n3               No              No               No  \n4               No              No               No  \n...            ...             ...              ...  \n101311          No              No               No  \n101312          No              No               No  \n101313          No              No               No  \n101314          No              No               No  \n101315          No              No               No  \n\n[101316 rows x 9 columns]",
      "text/html": "<div>\n<style scoped>\n    .dataframe tbody tr th:only-of-type {\n        vertical-align: middle;\n    }\n\n    .dataframe tbody tr th {\n        vertical-align: top;\n    }\n\n    .dataframe thead th {\n        text-align: right;\n    }\n</style>\n<table border=\"1\" class=\"dataframe\">\n  <thead>\n    <tr style=\"text-align: right;\">\n      <th></th>\n      <th>SEQN</th>\n      <th>NSAIDs_gen1</th>\n      <th>NSAIDs_gen12</th>\n      <th>NSAIDs_gen2</th>\n      <th>NSAIDs_gen22</th>\n      <th>weakOpioid</th>\n      <th>weakOpioid2</th>\n      <th>OADRUG_bind_all</th>\n      <th>OADRUG_bind_all2</th>\n    </tr>\n  </thead>\n  <tbody>\n    <tr>\n      <th>0</th>\n      <td>1</td>\n      <td>No</td>\n      <td>No</td>\n      <td>No</td>\n      <td>No</td>\n      <td>No</td>\n      <td>No</td>\n      <td>No</td>\n      <td>No</td>\n    </tr>\n    <tr>\n      <th>1</th>\n      <td>2</td>\n      <td>No</td>\n      <td>No</td>\n      <td>No</td>\n      <td>No</td>\n      <td>No</td>\n      <td>No</td>\n      <td>No</td>\n      <td>No</td>\n    </tr>\n    <tr>\n      <th>2</th>\n      <td>3</td>\n      <td>No</td>\n      <td>No</td>\n      <td>No</td>\n      <td>No</td>\n      <td>No</td>\n      <td>No</td>\n      <td>No</td>\n      <td>No</td>\n    </tr>\n    <tr>\n      <th>3</th>\n      <td>4</td>\n      <td>No</td>\n      <td>No</td>\n      <td>No</td>\n      <td>No</td>\n      <td>No</td>\n      <td>No</td>\n      <td>No</td>\n      <td>No</td>\n    </tr>\n    <tr>\n      <th>4</th>\n      <td>5</td>\n      <td>No</td>\n      <td>No</td>\n      <td>No</td>\n      <td>No</td>\n      <td>No</td>\n      <td>No</td>\n      <td>No</td>\n      <td>No</td>\n    </tr>\n    <tr>\n      <th>...</th>\n      <td>...</td>\n      <td>...</td>\n      <td>...</td>\n      <td>...</td>\n      <td>...</td>\n      <td>...</td>\n      <td>...</td>\n      <td>...</td>\n      <td>...</td>\n    </tr>\n    <tr>\n      <th>101311</th>\n      <td>102952</td>\n      <td>No</td>\n      <td>No</td>\n      <td>No</td>\n      <td>No</td>\n      <td>No</td>\n      <td>No</td>\n      <td>No</td>\n      <td>No</td>\n    </tr>\n    <tr>\n      <th>101312</th>\n      <td>102953</td>\n      <td>No</td>\n      <td>No</td>\n      <td>No</td>\n      <td>No</td>\n      <td>No</td>\n      <td>No</td>\n      <td>No</td>\n      <td>No</td>\n    </tr>\n    <tr>\n      <th>101313</th>\n      <td>102954</td>\n      <td>No</td>\n      <td>No</td>\n      <td>No</td>\n      <td>No</td>\n      <td>No</td>\n      <td>No</td>\n      <td>No</td>\n      <td>No</td>\n    </tr>\n    <tr>\n      <th>101314</th>\n      <td>102955</td>\n      <td>No</td>\n      <td>No</td>\n      <td>No</td>\n      <td>No</td>\n      <td>No</td>\n      <td>No</td>\n      <td>No</td>\n      <td>No</td>\n    </tr>\n    <tr>\n      <th>101315</th>\n      <td>102956</td>\n      <td>No</td>\n      <td>No</td>\n      <td>No</td>\n      <td>No</td>\n      <td>No</td>\n      <td>No</td>\n      <td>No</td>\n      <td>No</td>\n    </tr>\n  </tbody>\n</table>\n<p>101316 rows × 9 columns</p>\n</div>"
     },
     "execution_count": 42,
     "metadata": {},
     "output_type": "execute_result"
    }
   ],
   "source": [
    "df_OADRUG = read_csv(r'E:\\dataset\\NHANES221224\\GD files\\ques\\PRE_OA_DRUGS 1999-2018.csv')\n",
    "df_OADRUG"
   ],
   "metadata": {
    "collapsed": false,
    "pycharm": {
     "name": "#%%\n"
    }
   }
  },
  {
   "cell_type": "code",
   "execution_count": 43,
   "outputs": [
    {
     "data": {
      "text/plain": "          SEQN NSAIDs_gen12 NSAIDs_gen22 weakOpioid2 OADRUG_bind_all2\n0            1           No           No          No               No\n1            2           No           No          No               No\n2            3           No           No          No               No\n3            4           No           No          No               No\n4            5           No           No          No               No\n...        ...          ...          ...         ...              ...\n101311  102952           No           No          No               No\n101312  102953           No           No          No               No\n101313  102954           No           No          No               No\n101314  102955           No           No          No               No\n101315  102956           No           No          No               No\n\n[101316 rows x 5 columns]",
      "text/html": "<div>\n<style scoped>\n    .dataframe tbody tr th:only-of-type {\n        vertical-align: middle;\n    }\n\n    .dataframe tbody tr th {\n        vertical-align: top;\n    }\n\n    .dataframe thead th {\n        text-align: right;\n    }\n</style>\n<table border=\"1\" class=\"dataframe\">\n  <thead>\n    <tr style=\"text-align: right;\">\n      <th></th>\n      <th>SEQN</th>\n      <th>NSAIDs_gen12</th>\n      <th>NSAIDs_gen22</th>\n      <th>weakOpioid2</th>\n      <th>OADRUG_bind_all2</th>\n    </tr>\n  </thead>\n  <tbody>\n    <tr>\n      <th>0</th>\n      <td>1</td>\n      <td>No</td>\n      <td>No</td>\n      <td>No</td>\n      <td>No</td>\n    </tr>\n    <tr>\n      <th>1</th>\n      <td>2</td>\n      <td>No</td>\n      <td>No</td>\n      <td>No</td>\n      <td>No</td>\n    </tr>\n    <tr>\n      <th>2</th>\n      <td>3</td>\n      <td>No</td>\n      <td>No</td>\n      <td>No</td>\n      <td>No</td>\n    </tr>\n    <tr>\n      <th>3</th>\n      <td>4</td>\n      <td>No</td>\n      <td>No</td>\n      <td>No</td>\n      <td>No</td>\n    </tr>\n    <tr>\n      <th>4</th>\n      <td>5</td>\n      <td>No</td>\n      <td>No</td>\n      <td>No</td>\n      <td>No</td>\n    </tr>\n    <tr>\n      <th>...</th>\n      <td>...</td>\n      <td>...</td>\n      <td>...</td>\n      <td>...</td>\n      <td>...</td>\n    </tr>\n    <tr>\n      <th>101311</th>\n      <td>102952</td>\n      <td>No</td>\n      <td>No</td>\n      <td>No</td>\n      <td>No</td>\n    </tr>\n    <tr>\n      <th>101312</th>\n      <td>102953</td>\n      <td>No</td>\n      <td>No</td>\n      <td>No</td>\n      <td>No</td>\n    </tr>\n    <tr>\n      <th>101313</th>\n      <td>102954</td>\n      <td>No</td>\n      <td>No</td>\n      <td>No</td>\n      <td>No</td>\n    </tr>\n    <tr>\n      <th>101314</th>\n      <td>102955</td>\n      <td>No</td>\n      <td>No</td>\n      <td>No</td>\n      <td>No</td>\n    </tr>\n    <tr>\n      <th>101315</th>\n      <td>102956</td>\n      <td>No</td>\n      <td>No</td>\n      <td>No</td>\n      <td>No</td>\n    </tr>\n  </tbody>\n</table>\n<p>101316 rows × 5 columns</p>\n</div>"
     },
     "execution_count": 43,
     "metadata": {},
     "output_type": "execute_result"
    }
   ],
   "source": [
    "df_OADRUG = df_OADRUG.loc[:, ['SEQN', 'NSAIDs_gen12',\n",
    "                              'NSAIDs_gen22',\n",
    "                              'weakOpioid2',\n",
    "                              'OADRUG_bind_all2']]\n",
    "df_OADRUG"
   ],
   "metadata": {
    "collapsed": false,
    "pycharm": {
     "name": "#%%\n"
    }
   }
  },
  {
   "cell_type": "code",
   "execution_count": 43,
   "outputs": [],
   "source": [],
   "metadata": {
    "collapsed": false,
    "pycharm": {
     "name": "#%%\n"
    }
   }
  },
  {
   "cell_type": "code",
   "execution_count": 44,
   "outputs": [
    {
     "data": {
      "text/plain": "        SEQN   age  gender     race4                education20  \\\n0          1   2.0  Female     Black                        NaN   \n1          2  77.0    Male     White  College Graduate or above   \n2          3  10.0  Female     White                        NaN   \n3          4   1.0    Male     Black                        NaN   \n4          5  49.0    Male     White  College Graduate or above   \n...      ...   ...     ...       ...                        ...   \n92057  93698   2.0    Male  Hispanic                        NaN   \n92058  93699   6.0  Female     Black                        NaN   \n92059  93700  35.0    Male     White              Under College   \n92060  93701   8.0    Male     White                        NaN   \n92061  93702  24.0  Female     White  College Graduate or above   \n\n          family_income  family_pir SMQ020      SMQ040 smoking_status  ...  \\\n0         Under $20,000        0.86    NaN         NaN            NaN  ...   \n1      $20,000 and over        5.00     No         NaN          Never  ...   \n2      $20,000 and over        1.47    NaN         NaN            NaN  ...   \n3         Under $20,000        0.57    NaN         NaN            NaN  ...   \n4      $20,000 and over        5.00    Yes  Not at all         Former  ...   \n...                 ...         ...    ...         ...            ...  ...   \n92057  $20,000 and over        0.51    NaN         NaN            NaN  ...   \n92058  $20,000 and over        4.58    NaN         NaN            NaN  ...   \n92059     Under $20,000        0.00    Yes   Every day        Current  ...   \n92060  $20,000 and over        4.22    NaN         NaN            NaN  ...   \n92061  $20,000 and over        3.54     No         NaN          Never  ...   \n\n      PERMTH_EXM   mort_leading       WTINT2YR      WTINT4YR       WTMEC2YR  \\\n0            NaN            NaN    9727.078709   4291.490177   10982.898896   \n1          177.0          Other   26678.636376  14203.335998   28325.384898   \n2            NaN            NaN   43621.680548  20123.763507   46192.256945   \n3            NaN            NaN   10346.119327   4582.132308   10251.260020   \n4          244.0  Assumed alive   91050.846620  44161.868201   99445.065735   \n...          ...            ...            ...           ...            ...   \n92057        NaN            NaN    9594.802391           NaN    9896.007775   \n92058        NaN            NaN    9871.384668           NaN    9875.921047   \n92059       50.0  Assumed alive   42314.288108           NaN   43194.215112   \n92060        NaN            NaN   42087.657815           NaN   48252.504294   \n92061       52.0  Assumed alive  107361.906644           NaN  105080.445194   \n\n           WTMEC4YR  SDMVPSU  SDMVSTRA  WTINT_cycle9  WTMEC_cycle9  \n0       4456.206594      1.0       5.0    953.664484    990.268132  \n1      15336.199717      3.0       1.0   3156.296888   3408.044382  \n2      21258.466625      2.0       7.0   4471.947446   4724.103694  \n3       4562.389068      1.0       2.0   1018.251624   1013.864237  \n4      45985.967832      2.0       8.0   9813.748489  10219.103963  \n...             ...      ...       ...           ...           ...  \n92057           NaN      1.0     121.0   1066.089155   1099.556419  \n92058           NaN      1.0     129.0   1096.820519   1097.324561  \n92059           NaN      1.0     126.0   4701.587568   4799.357235  \n92060           NaN      2.0     124.0   4676.406424   5361.389366  \n92061           NaN      2.0     119.0  11929.100738  11675.605022  \n\n[92062 rows x 89 columns]",
      "text/html": "<div>\n<style scoped>\n    .dataframe tbody tr th:only-of-type {\n        vertical-align: middle;\n    }\n\n    .dataframe tbody tr th {\n        vertical-align: top;\n    }\n\n    .dataframe thead th {\n        text-align: right;\n    }\n</style>\n<table border=\"1\" class=\"dataframe\">\n  <thead>\n    <tr style=\"text-align: right;\">\n      <th></th>\n      <th>SEQN</th>\n      <th>age</th>\n      <th>gender</th>\n      <th>race4</th>\n      <th>education20</th>\n      <th>family_income</th>\n      <th>family_pir</th>\n      <th>SMQ020</th>\n      <th>SMQ040</th>\n      <th>smoking_status</th>\n      <th>...</th>\n      <th>PERMTH_EXM</th>\n      <th>mort_leading</th>\n      <th>WTINT2YR</th>\n      <th>WTINT4YR</th>\n      <th>WTMEC2YR</th>\n      <th>WTMEC4YR</th>\n      <th>SDMVPSU</th>\n      <th>SDMVSTRA</th>\n      <th>WTINT_cycle9</th>\n      <th>WTMEC_cycle9</th>\n    </tr>\n  </thead>\n  <tbody>\n    <tr>\n      <th>0</th>\n      <td>1</td>\n      <td>2.0</td>\n      <td>Female</td>\n      <td>Black</td>\n      <td>NaN</td>\n      <td>Under $20,000</td>\n      <td>0.86</td>\n      <td>NaN</td>\n      <td>NaN</td>\n      <td>NaN</td>\n      <td>...</td>\n      <td>NaN</td>\n      <td>NaN</td>\n      <td>9727.078709</td>\n      <td>4291.490177</td>\n      <td>10982.898896</td>\n      <td>4456.206594</td>\n      <td>1.0</td>\n      <td>5.0</td>\n      <td>953.664484</td>\n      <td>990.268132</td>\n    </tr>\n    <tr>\n      <th>1</th>\n      <td>2</td>\n      <td>77.0</td>\n      <td>Male</td>\n      <td>White</td>\n      <td>College Graduate or above</td>\n      <td>$20,000 and over</td>\n      <td>5.00</td>\n      <td>No</td>\n      <td>NaN</td>\n      <td>Never</td>\n      <td>...</td>\n      <td>177.0</td>\n      <td>Other</td>\n      <td>26678.636376</td>\n      <td>14203.335998</td>\n      <td>28325.384898</td>\n      <td>15336.199717</td>\n      <td>3.0</td>\n      <td>1.0</td>\n      <td>3156.296888</td>\n      <td>3408.044382</td>\n    </tr>\n    <tr>\n      <th>2</th>\n      <td>3</td>\n      <td>10.0</td>\n      <td>Female</td>\n      <td>White</td>\n      <td>NaN</td>\n      <td>$20,000 and over</td>\n      <td>1.47</td>\n      <td>NaN</td>\n      <td>NaN</td>\n      <td>NaN</td>\n      <td>...</td>\n      <td>NaN</td>\n      <td>NaN</td>\n      <td>43621.680548</td>\n      <td>20123.763507</td>\n      <td>46192.256945</td>\n      <td>21258.466625</td>\n      <td>2.0</td>\n      <td>7.0</td>\n      <td>4471.947446</td>\n      <td>4724.103694</td>\n    </tr>\n    <tr>\n      <th>3</th>\n      <td>4</td>\n      <td>1.0</td>\n      <td>Male</td>\n      <td>Black</td>\n      <td>NaN</td>\n      <td>Under $20,000</td>\n      <td>0.57</td>\n      <td>NaN</td>\n      <td>NaN</td>\n      <td>NaN</td>\n      <td>...</td>\n      <td>NaN</td>\n      <td>NaN</td>\n      <td>10346.119327</td>\n      <td>4582.132308</td>\n      <td>10251.260020</td>\n      <td>4562.389068</td>\n      <td>1.0</td>\n      <td>2.0</td>\n      <td>1018.251624</td>\n      <td>1013.864237</td>\n    </tr>\n    <tr>\n      <th>4</th>\n      <td>5</td>\n      <td>49.0</td>\n      <td>Male</td>\n      <td>White</td>\n      <td>College Graduate or above</td>\n      <td>$20,000 and over</td>\n      <td>5.00</td>\n      <td>Yes</td>\n      <td>Not at all</td>\n      <td>Former</td>\n      <td>...</td>\n      <td>244.0</td>\n      <td>Assumed alive</td>\n      <td>91050.846620</td>\n      <td>44161.868201</td>\n      <td>99445.065735</td>\n      <td>45985.967832</td>\n      <td>2.0</td>\n      <td>8.0</td>\n      <td>9813.748489</td>\n      <td>10219.103963</td>\n    </tr>\n    <tr>\n      <th>...</th>\n      <td>...</td>\n      <td>...</td>\n      <td>...</td>\n      <td>...</td>\n      <td>...</td>\n      <td>...</td>\n      <td>...</td>\n      <td>...</td>\n      <td>...</td>\n      <td>...</td>\n      <td>...</td>\n      <td>...</td>\n      <td>...</td>\n      <td>...</td>\n      <td>...</td>\n      <td>...</td>\n      <td>...</td>\n      <td>...</td>\n      <td>...</td>\n      <td>...</td>\n      <td>...</td>\n    </tr>\n    <tr>\n      <th>92057</th>\n      <td>93698</td>\n      <td>2.0</td>\n      <td>Male</td>\n      <td>Hispanic</td>\n      <td>NaN</td>\n      <td>$20,000 and over</td>\n      <td>0.51</td>\n      <td>NaN</td>\n      <td>NaN</td>\n      <td>NaN</td>\n      <td>...</td>\n      <td>NaN</td>\n      <td>NaN</td>\n      <td>9594.802391</td>\n      <td>NaN</td>\n      <td>9896.007775</td>\n      <td>NaN</td>\n      <td>1.0</td>\n      <td>121.0</td>\n      <td>1066.089155</td>\n      <td>1099.556419</td>\n    </tr>\n    <tr>\n      <th>92058</th>\n      <td>93699</td>\n      <td>6.0</td>\n      <td>Female</td>\n      <td>Black</td>\n      <td>NaN</td>\n      <td>$20,000 and over</td>\n      <td>4.58</td>\n      <td>NaN</td>\n      <td>NaN</td>\n      <td>NaN</td>\n      <td>...</td>\n      <td>NaN</td>\n      <td>NaN</td>\n      <td>9871.384668</td>\n      <td>NaN</td>\n      <td>9875.921047</td>\n      <td>NaN</td>\n      <td>1.0</td>\n      <td>129.0</td>\n      <td>1096.820519</td>\n      <td>1097.324561</td>\n    </tr>\n    <tr>\n      <th>92059</th>\n      <td>93700</td>\n      <td>35.0</td>\n      <td>Male</td>\n      <td>White</td>\n      <td>Under College</td>\n      <td>Under $20,000</td>\n      <td>0.00</td>\n      <td>Yes</td>\n      <td>Every day</td>\n      <td>Current</td>\n      <td>...</td>\n      <td>50.0</td>\n      <td>Assumed alive</td>\n      <td>42314.288108</td>\n      <td>NaN</td>\n      <td>43194.215112</td>\n      <td>NaN</td>\n      <td>1.0</td>\n      <td>126.0</td>\n      <td>4701.587568</td>\n      <td>4799.357235</td>\n    </tr>\n    <tr>\n      <th>92060</th>\n      <td>93701</td>\n      <td>8.0</td>\n      <td>Male</td>\n      <td>White</td>\n      <td>NaN</td>\n      <td>$20,000 and over</td>\n      <td>4.22</td>\n      <td>NaN</td>\n      <td>NaN</td>\n      <td>NaN</td>\n      <td>...</td>\n      <td>NaN</td>\n      <td>NaN</td>\n      <td>42087.657815</td>\n      <td>NaN</td>\n      <td>48252.504294</td>\n      <td>NaN</td>\n      <td>2.0</td>\n      <td>124.0</td>\n      <td>4676.406424</td>\n      <td>5361.389366</td>\n    </tr>\n    <tr>\n      <th>92061</th>\n      <td>93702</td>\n      <td>24.0</td>\n      <td>Female</td>\n      <td>White</td>\n      <td>College Graduate or above</td>\n      <td>$20,000 and over</td>\n      <td>3.54</td>\n      <td>No</td>\n      <td>NaN</td>\n      <td>Never</td>\n      <td>...</td>\n      <td>52.0</td>\n      <td>Assumed alive</td>\n      <td>107361.906644</td>\n      <td>NaN</td>\n      <td>105080.445194</td>\n      <td>NaN</td>\n      <td>2.0</td>\n      <td>119.0</td>\n      <td>11929.100738</td>\n      <td>11675.605022</td>\n    </tr>\n  </tbody>\n</table>\n<p>92062 rows × 89 columns</p>\n</div>"
     },
     "execution_count": 44,
     "metadata": {},
     "output_type": "execute_result"
    }
   ],
   "source": [
    "df_all = nhanes.join_df([df_cycle, df_edu, df_pir, df_smoke, df_drink, df_BMI, df_phq9, df_pa, df_arthritis, df_funcD, df_htn, df_DM, df_RD, df_CVD,df_stroke, df_cancer, df_OADRUG, df_mort, df_Wt], by=['SEQN'])\n",
    "df_all"
   ],
   "metadata": {
    "collapsed": false,
    "pycharm": {
     "name": "#%%\n"
    }
   }
  },
  {
   "cell_type": "code",
   "execution_count": 45,
   "outputs": [
    {
     "name": "stdout",
     "output_type": "stream",
     "text": [
      "relevels={\n",
      "\n",
      "'SEQN': ['int64', (1, 93702), {'breaks': 4, 'mode': '(]', 'intervals': [('(1.0, 23016.2]', ''), ('(23016.2, 46031.5]', ''), ('(46031.5, 69046.8]', ''), ('(69046.8, 93702.0]', '')], 'decimal': 1}     ], \n",
      "\n",
      "'age': ['float64', (0.0, 80.0), {'breaks': 4, 'mode': '(]', 'intervals': [('(0.0, 10.0]', ''), ('(10.0, 23.0]', ''), ('(23.0, 51.0]', ''), ('(51.0, 80.0]', '')], 'decimal': 1}     ], \n",
      "\n",
      "'gender': ['object', ('Female', ''), ('Male', '')], \n",
      "\n",
      "'race4': ['object', ('Black', ''), ('White', ''), ('Other', ''), ('Hispanic', '')], \n",
      "\n",
      "'education20': ['object', (nan, ''), ('College Graduate or above', ''), ('Under College', '')], \n",
      "\n",
      "'family_income': ['object', ('Under $20,000', ''), ('$20,000 and over', ''), (nan, '')], \n",
      "\n",
      "'family_pir': ['float64', (0.0, 5.0), {'breaks': 4, 'mode': '(]', 'intervals': [('(0.0, 0.9]', ''), ('(0.9, 1.8]', ''), ('(1.8, 3.5]', ''), ('(3.5, 5.0]', '')], 'decimal': 1}     ], \n",
      "\n",
      "'SMQ020': ['object', (nan, ''), ('No', ''), ('Yes', '')], \n",
      "\n",
      "'SMQ040': ['object', (nan, ''), ('Not at all', ''), ('Every day', ''), ('Some days', '')], \n",
      "\n",
      "'smoking_status': ['object', (nan, ''), ('Never', ''), ('Former', ''), ('Current', '')], \n",
      "\n",
      "'alcohol_12_any_1_year': ['object', (nan, ''), ('Yes', ''), ('No', '')], \n",
      "\n",
      "'alcohol_12_lifetime': ['object', (nan, ''), ('No', ''), ('Yes', '')], \n",
      "\n",
      "'times': ['float64', (0.0, 365.0), {'breaks': 4, 'mode': '(]', 'intervals': [('(0.0, 1.0]', ''), ('(1.0, 2.0]', ''), ('(2.0, 4.0]', ''), ('(4.0, 365.0]', '')], 'decimal': 1}     ], \n",
      "\n",
      "'unit': ['float64', (7.0, 365.0), {'breaks': 4, 'mode': '(]', 'intervals': [('(7.0, 7.0]', ''), ('(7.0, 30.0]', ''), ('(30.0, 365.0]', ''), ('(365.0, 365.0]', '')], 'decimal': 1}     ], \n",
      "\n",
      "'drinks': ['float64', (1.0, 83.0), {'breaks': 4, 'mode': '(]', 'intervals': [('(1.0, 1.0]', ''), ('(1.0, 2.0]', ''), ('(2.0, 3.0]', ''), ('(3.0, 83.0]', '')], 'decimal': 1}     ], \n",
      "\n",
      "'alcohol_12': ['object', (nan, ''), ('Yes', ''), ('No', '')], \n",
      "\n",
      "'drinks_per_day': ['float64', (0.0, 28.285714285714285), {'breaks': 4, 'mode': '(]', 'intervals': [('(0.0, 0.0]', ''), ('(0.0, 0.1]', ''), ('(0.1, 0.6]', ''), ('(0.6, 28.3]', '')], 'decimal': 1}     ], \n",
      "\n",
      "'alcohol_per_day': ['float64', (0.0, 396.0), {'breaks': 4, 'mode': '(]', 'intervals': [('(0.0, 0.0]', ''), ('(0.0, 0.9]', ''), ('(0.9, 8.0]', ''), ('(8.0, 396.0]', '')], 'decimal': 1}     ], \n",
      "\n",
      "'drinker': ['object', (nan, ''), ('Yes', ''), ('No', '')], \n",
      "\n",
      "'weight_kg': ['float64', (2.4, 371.0), {'breaks': 4, 'mode': '(]', 'intervals': [('(2.4, 37.4]', ''), ('(37.4, 64.6]', ''), ('(64.6, 82.2]', ''), ('(82.2, 371.0]', '')], 'decimal': 1}     ], \n",
      "\n",
      "'height_cm': ['float64', (79.0, 204.5), {'breaks': 4, 'mode': '(]', 'intervals': [('(79.0, 150.3]', ''), ('(150.3, 162.2]', ''), ('(162.2, 171.3]', ''), ('(171.3, 204.5]', '')], 'decimal': 1}     ], \n",
      "\n",
      "'bmi_kg_m2': ['float64', (7.99, 130.21), {'breaks': 4, 'mode': '(]', 'intervals': [('(8.0, 19.7]', ''), ('(19.7, 24.6]', ''), ('(24.6, 29.7]', ''), ('(29.7, 130.2]', '')], 'decimal': 1}     ], \n",
      "\n",
      "'BMI3': ['object', ('Normal', ''), (nan, ''), ('Overweight', ''), ('Obesity', '')], \n",
      "\n",
      "'DPQ010': ['float64', (0.0, 3.0), {'breaks': 4, 'mode': '(]', 'intervals': [('(0.0, 0.0]', ''), ('(0.0, 0.0]', ''), ('(0.0, 0.0]', ''), ('(0.0, 3.0]', '')], 'decimal': 1}     ], \n",
      "\n",
      "'DPQ020': ['float64', (0.0, 3.0), {'breaks': 4, 'mode': '(]', 'intervals': [('(0.0, 0.0]', ''), ('(0.0, 0.0]', ''), ('(0.0, 0.0]', ''), ('(0.0, 3.0]', '')], 'decimal': 1}     ], \n",
      "\n",
      "'DPQ030': ['float64', (0.0, 3.0), {'breaks': 4, 'mode': '(]', 'intervals': [('(0.0, 0.0]', ''), ('(0.0, 0.0]', ''), ('(0.0, 1.0]', ''), ('(1.0, 3.0]', '')], 'decimal': 1}     ], \n",
      "\n",
      "'DPQ040': ['float64', (0.0, 3.0), {'breaks': 4, 'mode': '(]', 'intervals': [('(0.0, 0.0]', ''), ('(0.0, 0.0]', ''), ('(0.0, 1.0]', ''), ('(1.0, 3.0]', '')], 'decimal': 1}     ], \n",
      "\n",
      "'DPQ050': ['float64', (0.0, 3.0), {'breaks': 4, 'mode': '(]', 'intervals': [('(0.0, 0.0]', ''), ('(0.0, 0.0]', ''), ('(0.0, 0.0]', ''), ('(0.0, 3.0]', '')], 'decimal': 1}     ], \n",
      "\n",
      "'DPQ060': ['float64', (0.0, 3.0), {'breaks': 4, 'mode': '(]', 'intervals': [('(0.0, 0.0]', ''), ('(0.0, 0.0]', ''), ('(0.0, 0.0]', ''), ('(0.0, 3.0]', '')], 'decimal': 1}     ], \n",
      "\n",
      "'DPQ070': ['float64', (0.0, 3.0), {'breaks': 4, 'mode': '(]', 'intervals': [('(0.0, 0.0]', ''), ('(0.0, 0.0]', ''), ('(0.0, 0.0]', ''), ('(0.0, 3.0]', '')], 'decimal': 1}     ], \n",
      "\n",
      "'DPQ080': ['float64', (0.0, 3.0), {'breaks': 4, 'mode': '(]', 'intervals': [('(0.0, 0.0]', ''), ('(0.0, 0.0]', ''), ('(0.0, 0.0]', ''), ('(0.0, 3.0]', '')], 'decimal': 1}     ], \n",
      "\n",
      "'DPQ090': ['float64', (0.0, 3.0), {'breaks': 4, 'mode': '(]', 'intervals': [('(0.0, 0.0]', ''), ('(0.0, 0.0]', ''), ('(0.0, 0.0]', ''), ('(0.0, 3.0]', '')], 'decimal': 1}     ], \n",
      "\n",
      "'DPQ100': ['float64', (0.0, 3.0), {'breaks': 4, 'mode': '(]', 'intervals': [('(0.0, 0.0]', ''), ('(0.0, 0.0]', ''), ('(0.0, 1.0]', ''), ('(1.0, 3.0]', '')], 'decimal': 1}     ], \n",
      "\n",
      "'PHQ9': ['float64', (0.0, 27.0), {'breaks': 4, 'mode': '(]', 'intervals': [('(0.0, 0.0]', ''), ('(0.0, 2.0]', ''), ('(2.0, 4.0]', ''), ('(4.0, 27.0]', '')], 'decimal': 1}     ], \n",
      "\n",
      "'depression': ['object', (nan, ''), ('No', ''), ('Yes', '')], \n",
      "\n",
      "'vig_total': ['float64', (4.666666666666667, 15736.0), {'breaks': 4, 'mode': '(]', 'intervals': [('(4.7, 180.0]', ''), ('(180.0, 360.0]', ''), ('(360.0, 720.0]', ''), ('(720.0, 15736.0]', '')], 'decimal': 1}     ], \n",
      "\n",
      "'mod_total': ['float64', (2.333333333333333, 5040.0), {'breaks': 4, 'mode': '(]', 'intervals': [('(2.3, 60.0]', ''), ('(60.0, 135.0]', ''), ('(135.0, 270.0]', ''), ('(270.0, 5040.0]', '')], 'decimal': 1}     ], \n",
      "\n",
      "'pa_both': ['object', (nan, ''), ('No', ''), ('Yes', '')], \n",
      "\n",
      "'vig_freq': ['object', (nan, ''), ('Regular', ''), ('Irregular', '')], \n",
      "\n",
      "'mod_freq': ['object', (nan, ''), ('Irregular', ''), ('Regular', '')], \n",
      "\n",
      "'LTPA_time_total': ['float64', (0.0, 15736.0), {'breaks': 4, 'mode': '(]', 'intervals': [('(0.0, 0.0]', ''), ('(0.0, 60.0]', ''), ('(60.0, 360.0]', ''), ('(360.0, 15736.0]', '')], 'decimal': 1}     ], \n",
      "\n",
      "'LTPA_time_estimate': ['object', (nan, ''), ('No LTPA', ''), ('Adequate', ''), ('Inadequate', '')], \n",
      "\n",
      "'LTPA_freq_estimate': ['object', (nan, ''), ('No LTPA', ''), ('Regular', ''), ('Irregular', '')], \n",
      "\n",
      "'has_OA': ['object', (nan, ''), ('Yes', ''), ('No', '')], \n",
      "\n",
      "'type_OA': ['object', (nan, ''), ('Rheumatoid arthritis', ''), ('Osteoarthritis', ''), ('Other', '')], \n",
      "\n",
      "'OA_type': ['object', (nan, ''), ('Rheumatoid arthritis', ''), ('No', ''), ('yes but unknown type', ''), ('Osteoarthritis', ''), ('Other', '')], \n",
      "\n",
      "'OA': ['object', (nan, ''), ('Rheumatoid arthritis', ''), ('No', ''), ('Other', ''), ('Osteoarthritis', '')], \n",
      "\n",
      "'ADL': ['object', (nan, ''), ('No difficulty', ''), ('Disability', '')], \n",
      "\n",
      "'IADL': ['object', (nan, ''), ('No difficulty', ''), ('Disability', '')], \n",
      "\n",
      "'LEM': ['object', (nan, ''), ('No difficulty', ''), ('Disability', '')], \n",
      "\n",
      "'LSA': ['object', (nan, ''), ('No difficulty', ''), ('Disability', '')], \n",
      "\n",
      "'GPA': ['object', (nan, ''), ('No difficulty', ''), ('Disability', '')], \n",
      "\n",
      "'HTN_que': ['object', (nan, ''), ('No', ''), ('Yes', '')], \n",
      "\n",
      "'DM_que': ['object', ('No', ''), ('Yes', ''), (nan, '')], \n",
      "\n",
      "'asthma': ['object', ('No', ''), ('Yes', ''), (nan, '')], \n",
      "\n",
      "'emphysema': ['object', (nan, ''), ('No', ''), ('Yes', '')], \n",
      "\n",
      "'chronic_bronchitis': ['object', (nan, ''), ('No', ''), ('Yes', '')], \n",
      "\n",
      "'RD': ['object', (nan, ''), ('No', ''), ('Yes', '')], \n",
      "\n",
      "'heart_failure': ['object', (nan, ''), ('No', ''), ('Yes', '')], \n",
      "\n",
      "'CHD': ['object', (nan, ''), ('No', ''), ('Yes', '')], \n",
      "\n",
      "'angina_pectoris': ['object', (nan, ''), ('No', ''), ('Yes', '')], \n",
      "\n",
      "'heart_attack': ['object', (nan, ''), ('No', ''), ('Yes', '')], \n",
      "\n",
      "'CVD': ['object', (nan, ''), ('No', ''), ('Yes', '')], \n",
      "\n",
      "'stroke': ['object', (nan, ''), ('No', ''), ('Yes', '')], \n",
      "\n",
      "'cancer': ['object', (nan, ''), ('Yes', ''), ('No', '')], \n",
      "\n",
      "'type1': ['object', (nan, ''), ('Skin (non-melanoma)', ''), ('Ovary (ovarian)', ''), ('Mouth/tongue/lip', ''), ('Breast', ''), ('Testis (testicular)', ''), ('Melanoma', ''), (\"Skin (don't know what kind)\", ''), ('Other', ''), ('Esophagus (esophageal)', ''), ('Colon', ''), ('Lung', ''), ('Prostate', ''), ('Cervix (cervical)', ''), ('Soft tissue (muscle or fat)', ''), (\"Lymphoma/Hodgkin's disease\", ''), ('Kidney', ''), ('Uterus (uterine)', ''), ('Stomach', ''), ('Bone', ''), ('Thyroid', ''), ('Rectum (rectal)', ''), ('Leukemia', ''), ('Larynx/ windpipe', ''), ('Bladder', ''), ('Blood', ''), ('Liver', ''), ('Brain', ''), ('Gallbladder', ''), ('Pancreas (pancreatic)', ''), ('Nervous system', ''), (\"Lymphoma/ Hodgkin's disease\", '')], \n",
      "\n",
      "'type2': ['object', (nan, ''), ('Melanoma', ''), ('Larynx/ windpipe', ''), ('Liver', ''), ('Cervix (cervical)', ''), ('Ovary (ovarian)', ''), ('Lung', ''), ('Uterus (uterine)', ''), ('Prostate', ''), ('Mouth/tongue/lip', ''), ('Testis (testicular)', ''), (\"Lymphoma/Hodgkin's disease\", ''), ('Breast', ''), (\"Skin (don't know what kind)\", ''), ('Skin (non-melanoma)', ''), ('Rectum (rectal)', ''), ('Other', ''), ('Colon', ''), ('Leukemia', ''), ('Bone', ''), ('Stomach', ''), ('Thyroid', ''), ('Bladder', ''), ('Soft tissue (muscle or fat)', ''), ('Kidney', ''), ('Pancreas (pancreatic)', ''), ('Esophagus (esophageal)', ''), ('Blood', ''), ('Lymphoma/ Hodgkins disease', ''), ('Brain', '')], \n",
      "\n",
      "'type3': ['object', (nan, ''), ('Lung', ''), ('Liver', ''), ('Uterus (uterine)', ''), (\"Skin (don't know what kind)\", ''), ('Breast', ''), ('Other', ''), ('Larynx/ windpipe', ''), ('Prostate', ''), ('Bladder', ''), ('Blood', ''), ('Skin (non-melanoma)', ''), ('Ovary (ovarian)', ''), ('Brain', ''), ('Melanoma', ''), ('Bone', ''), ('Thyroid', ''), ('Colon', ''), ('Cervix (cervical)', '')], \n",
      "\n",
      "'type4': ['object', (nan, ''), ('More than 3 kinds', '')], \n",
      "\n",
      "'NSAIDs_gen12': ['object', ('No', ''), ('Yes', ''), (nan, '')], \n",
      "\n",
      "'NSAIDs_gen22': ['object', ('No', ''), ('Yes', ''), (nan, '')], \n",
      "\n",
      "'weakOpioid2': ['object', ('No', ''), ('Yes', ''), (nan, '')], \n",
      "\n",
      "'OADRUG_bind_all2': ['object', ('No', ''), ('Yes', ''), (nan, '')], \n",
      "\n",
      "'ELIGSTAT': ['object', ('Under age 18, not available for public release', ''), ('Eligible', ''), ('Ineligible', '')], \n",
      "\n",
      "'MORTSTAT': ['object', (nan, ''), ('Assumed deceased', ''), ('Assumed alive', '')], \n",
      "\n",
      "'UCOD_LEADING': ['object', (nan, ''), ('Other', ''), ('Diseases of heart', ''), ('Malignant neoplasms', '')], \n",
      "\n",
      "'DIABETES': ['object', (nan, ''), ('No', ''), ('Yes', '')], \n",
      "\n",
      "'HYPERTEN': ['object', (nan, ''), ('No', ''), ('Yes', '')], \n",
      "\n",
      "'PERMTH_INT': ['float64', (0.0, 250.0), {'breaks': 4, 'mode': '(]', 'intervals': [('(0.0, 75.0]', ''), ('(75.0, 123.0]', ''), ('(123.0, 179.0]', ''), ('(179.0, 250.0]', '')], 'decimal': 1}     ], \n",
      "\n",
      "'PERMTH_EXM': ['float64', (0.0, 249.0), {'breaks': 4, 'mode': '(]', 'intervals': [('(0.0, 75.0]', ''), ('(75.0, 122.0]', ''), ('(122.0, 178.0]', ''), ('(178.0, 249.0]', '')], 'decimal': 1}     ], \n",
      "\n",
      "'mort_leading': ['object', (nan, ''), ('Other', ''), ('Assumed alive', ''), ('Diseases of heart', ''), ('Malignant neoplasms', '')], \n",
      "\n",
      "'WTINT2YR': ['float64', (974.6652516087383, 236864.13597359005), {'breaks': 4, 'mode': '(]', 'intervals': [('(974.7, 9718.5]', ''), ('(9718.5, 18900.0]', ''), ('(18900.0, 36517.9]', ''), ('(36517.9, 236864.1]', '')], 'decimal': 1}     ], \n",
      "\n",
      "'WTINT4YR': ['float64', (620.682382, 100652.329635), {'breaks': 4, 'mode': '(]', 'intervals': [('(620.7, 3338.8]', ''), ('(3338.8, 7794.8]', ''), ('(7794.8, 18642.4]', ''), ('(18642.4, 100652.3]', '')], 'decimal': 1}     ], \n",
      "\n",
      "'WTMEC2YR': ['float64', (0.0, 261361.33834187195), {'breaks': 4, 'mode': '(]', 'intervals': [('(0.0, 9183.0]', ''), ('(9183.0, 18621.6]', ''), ('(18621.6, 36994.4]', ''), ('(36994.4, 261361.3]', '')], 'decimal': 1}     ], \n",
      "\n",
      "'WTMEC4YR': ['float64', (0.0, 103831.171049), {'breaks': 4, 'mode': '(]', 'intervals': [('(0.0, 3060.2]', ''), ('(3060.2, 7046.4]', ''), ('(7046.4, 18859.1]', ''), ('(18859.1, 103831.2]', '')], 'decimal': 1}     ], \n",
      "\n",
      "'SDMVPSU': ['float64', (1.0, 3.0), {'breaks': 4, 'mode': '(]', 'intervals': [('(1.0, 1.0]', ''), ('(1.0, 2.0]', ''), ('(2.0, 2.0]', ''), ('(2.0, 3.0]', '')], 'decimal': 1}     ], \n",
      "\n",
      "'SDMVSTRA': ['float64', (1.0, 133.0), {'breaks': 4, 'mode': '(]', 'intervals': [('(1.0, 31.0]', ''), ('(31.0, 65.0]', ''), ('(65.0, 99.0]', ''), ('(99.0, 133.0]', '')], 'decimal': 1}     ], \n",
      "\n",
      "'WTINT_cycle9': ['float64', (136.1075591111111, 25972.871316666664), {'breaks': 4, 'mode': '(]', 'intervals': [('(136.1, 1085.2]', ''), ('(1085.2, 2104.1]', ''), ('(2104.1, 4070.3]', ''), ('(4070.3, 25972.9]', '')], 'decimal': 1}     ], \n",
      "\n",
      "'WTMEC_cycle9': ['float64', (0.0, 26931.85119622222), {'breaks': 4, 'mode': '(]', 'intervals': [('(0.0, 1027.9]', ''), ('(1027.9, 2082.6]', ''), ('(2082.6, 4118.7]', ''), ('(4118.7, 26931.9]', '')], 'decimal': 1}     ]\n",
      "      }         \n"
     ]
    }
   ],
   "source": [
    "nhanes.relevels_info(df_all)"
   ],
   "metadata": {
    "collapsed": false,
    "pycharm": {
     "name": "#%%\n"
    }
   }
  },
  {
   "cell_type": "markdown",
   "source": [
    "定义下饮酒这个变量；"
   ],
   "metadata": {
    "collapsed": false,
    "pycharm": {
     "name": "#%% md\n"
    }
   }
  },
  {
   "cell_type": "code",
   "execution_count": 46,
   "outputs": [
    {
     "data": {
      "text/plain": "[['alcohol_12_any_1_year', ('Yes', 30261), ('No', 13325), (nan, 4440)],\n ['alcohol_12_lifetime', (nan, 34703), ('No', 6764), ('Yes', 6559)],\n ['alcohol_12', ('Yes', 36806), ('No', 6797), (nan, 4423)],\n ['drinker', ('Yes', 28412), ('No', 15158), (nan, 4456)]]"
     },
     "execution_count": 46,
     "metadata": {},
     "output_type": "execute_result"
    }
   ],
   "source": [
    "nhanes.levels(df_drink)"
   ],
   "metadata": {
    "collapsed": false,
    "pycharm": {
     "name": "#%%\n"
    }
   }
  },
  {
   "cell_type": "code",
   "execution_count": 47,
   "outputs": [],
   "source": [
    "def excessive_drink(row):\n",
    "    # row = [row[col] for col in cols]\n",
    "    if row['drinks_per_day'] >=0:\n",
    "        if (row['gender']=='Male' and row['drinks_per_day'] >2) or (row['gender']=='Female' and row['drinks_per_day'] >1):\n",
    "            row_new = 'Excessive drinker'\n",
    "        else:\n",
    "            row_new = 'Non-excessive drinker'\n",
    "    elif row['drinker'] == 'No':\n",
    "        row_new = 'Non-drinker'\n",
    "    else:\n",
    "        row_new = nan\n",
    "    return row_new\n"
   ],
   "metadata": {
    "collapsed": false,
    "pycharm": {
     "name": "#%%\n"
    }
   }
  },
  {
   "cell_type": "code",
   "execution_count": 48,
   "outputs": [
    {
     "data": {
      "text/plain": "        SEQN   age  gender     race4                education20  \\\n0          1   2.0  Female     Black                        NaN   \n1          2  77.0    Male     White  College Graduate or above   \n2          3  10.0  Female     White                        NaN   \n3          4   1.0    Male     Black                        NaN   \n4          5  49.0    Male     White  College Graduate or above   \n...      ...   ...     ...       ...                        ...   \n92057  93698   2.0    Male  Hispanic                        NaN   \n92058  93699   6.0  Female     Black                        NaN   \n92059  93700  35.0    Male     White              Under College   \n92060  93701   8.0    Male     White                        NaN   \n92061  93702  24.0  Female     White  College Graduate or above   \n\n          family_income  family_pir SMQ020      SMQ040 smoking_status  ...  \\\n0         Under $20,000        0.86    NaN         NaN            NaN  ...   \n1      $20,000 and over        5.00     No         NaN          Never  ...   \n2      $20,000 and over        1.47    NaN         NaN            NaN  ...   \n3         Under $20,000        0.57    NaN         NaN            NaN  ...   \n4      $20,000 and over        5.00    Yes  Not at all         Former  ...   \n...                 ...         ...    ...         ...            ...  ...   \n92057  $20,000 and over        0.51    NaN         NaN            NaN  ...   \n92058  $20,000 and over        4.58    NaN         NaN            NaN  ...   \n92059     Under $20,000        0.00    Yes   Every day        Current  ...   \n92060  $20,000 and over        4.22    NaN         NaN            NaN  ...   \n92061  $20,000 and over        3.54     No         NaN          Never  ...   \n\n        mort_leading       WTINT2YR      WTINT4YR       WTMEC2YR  \\\n0                NaN    9727.078709   4291.490177   10982.898896   \n1              Other   26678.636376  14203.335998   28325.384898   \n2                NaN   43621.680548  20123.763507   46192.256945   \n3                NaN   10346.119327   4582.132308   10251.260020   \n4      Assumed alive   91050.846620  44161.868201   99445.065735   \n...              ...            ...           ...            ...   \n92057            NaN    9594.802391           NaN    9896.007775   \n92058            NaN    9871.384668           NaN    9875.921047   \n92059  Assumed alive   42314.288108           NaN   43194.215112   \n92060            NaN   42087.657815           NaN   48252.504294   \n92061  Assumed alive  107361.906644           NaN  105080.445194   \n\n           WTMEC4YR SDMVPSU  SDMVSTRA  WTINT_cycle9  WTMEC_cycle9  \\\n0       4456.206594     1.0       5.0    953.664484    990.268132   \n1      15336.199717     3.0       1.0   3156.296888   3408.044382   \n2      21258.466625     2.0       7.0   4471.947446   4724.103694   \n3       4562.389068     1.0       2.0   1018.251624   1013.864237   \n4      45985.967832     2.0       8.0   9813.748489  10219.103963   \n...             ...     ...       ...           ...           ...   \n92057           NaN     1.0     121.0   1066.089155   1099.556419   \n92058           NaN     1.0     129.0   1096.820519   1097.324561   \n92059           NaN     1.0     126.0   4701.587568   4799.357235   \n92060           NaN     2.0     124.0   4676.406424   5361.389366   \n92061           NaN     2.0     119.0  11929.100738  11675.605022   \n\n           excessive_drinker  \n0                        NaN  \n1      Non-excessive drinker  \n2                        NaN  \n3                        NaN  \n4      Non-excessive drinker  \n...                      ...  \n92057                    NaN  \n92058                    NaN  \n92059                    NaN  \n92060                    NaN  \n92061  Non-excessive drinker  \n\n[92062 rows x 90 columns]",
      "text/html": "<div>\n<style scoped>\n    .dataframe tbody tr th:only-of-type {\n        vertical-align: middle;\n    }\n\n    .dataframe tbody tr th {\n        vertical-align: top;\n    }\n\n    .dataframe thead th {\n        text-align: right;\n    }\n</style>\n<table border=\"1\" class=\"dataframe\">\n  <thead>\n    <tr style=\"text-align: right;\">\n      <th></th>\n      <th>SEQN</th>\n      <th>age</th>\n      <th>gender</th>\n      <th>race4</th>\n      <th>education20</th>\n      <th>family_income</th>\n      <th>family_pir</th>\n      <th>SMQ020</th>\n      <th>SMQ040</th>\n      <th>smoking_status</th>\n      <th>...</th>\n      <th>mort_leading</th>\n      <th>WTINT2YR</th>\n      <th>WTINT4YR</th>\n      <th>WTMEC2YR</th>\n      <th>WTMEC4YR</th>\n      <th>SDMVPSU</th>\n      <th>SDMVSTRA</th>\n      <th>WTINT_cycle9</th>\n      <th>WTMEC_cycle9</th>\n      <th>excessive_drinker</th>\n    </tr>\n  </thead>\n  <tbody>\n    <tr>\n      <th>0</th>\n      <td>1</td>\n      <td>2.0</td>\n      <td>Female</td>\n      <td>Black</td>\n      <td>NaN</td>\n      <td>Under $20,000</td>\n      <td>0.86</td>\n      <td>NaN</td>\n      <td>NaN</td>\n      <td>NaN</td>\n      <td>...</td>\n      <td>NaN</td>\n      <td>9727.078709</td>\n      <td>4291.490177</td>\n      <td>10982.898896</td>\n      <td>4456.206594</td>\n      <td>1.0</td>\n      <td>5.0</td>\n      <td>953.664484</td>\n      <td>990.268132</td>\n      <td>NaN</td>\n    </tr>\n    <tr>\n      <th>1</th>\n      <td>2</td>\n      <td>77.0</td>\n      <td>Male</td>\n      <td>White</td>\n      <td>College Graduate or above</td>\n      <td>$20,000 and over</td>\n      <td>5.00</td>\n      <td>No</td>\n      <td>NaN</td>\n      <td>Never</td>\n      <td>...</td>\n      <td>Other</td>\n      <td>26678.636376</td>\n      <td>14203.335998</td>\n      <td>28325.384898</td>\n      <td>15336.199717</td>\n      <td>3.0</td>\n      <td>1.0</td>\n      <td>3156.296888</td>\n      <td>3408.044382</td>\n      <td>Non-excessive drinker</td>\n    </tr>\n    <tr>\n      <th>2</th>\n      <td>3</td>\n      <td>10.0</td>\n      <td>Female</td>\n      <td>White</td>\n      <td>NaN</td>\n      <td>$20,000 and over</td>\n      <td>1.47</td>\n      <td>NaN</td>\n      <td>NaN</td>\n      <td>NaN</td>\n      <td>...</td>\n      <td>NaN</td>\n      <td>43621.680548</td>\n      <td>20123.763507</td>\n      <td>46192.256945</td>\n      <td>21258.466625</td>\n      <td>2.0</td>\n      <td>7.0</td>\n      <td>4471.947446</td>\n      <td>4724.103694</td>\n      <td>NaN</td>\n    </tr>\n    <tr>\n      <th>3</th>\n      <td>4</td>\n      <td>1.0</td>\n      <td>Male</td>\n      <td>Black</td>\n      <td>NaN</td>\n      <td>Under $20,000</td>\n      <td>0.57</td>\n      <td>NaN</td>\n      <td>NaN</td>\n      <td>NaN</td>\n      <td>...</td>\n      <td>NaN</td>\n      <td>10346.119327</td>\n      <td>4582.132308</td>\n      <td>10251.260020</td>\n      <td>4562.389068</td>\n      <td>1.0</td>\n      <td>2.0</td>\n      <td>1018.251624</td>\n      <td>1013.864237</td>\n      <td>NaN</td>\n    </tr>\n    <tr>\n      <th>4</th>\n      <td>5</td>\n      <td>49.0</td>\n      <td>Male</td>\n      <td>White</td>\n      <td>College Graduate or above</td>\n      <td>$20,000 and over</td>\n      <td>5.00</td>\n      <td>Yes</td>\n      <td>Not at all</td>\n      <td>Former</td>\n      <td>...</td>\n      <td>Assumed alive</td>\n      <td>91050.846620</td>\n      <td>44161.868201</td>\n      <td>99445.065735</td>\n      <td>45985.967832</td>\n      <td>2.0</td>\n      <td>8.0</td>\n      <td>9813.748489</td>\n      <td>10219.103963</td>\n      <td>Non-excessive drinker</td>\n    </tr>\n    <tr>\n      <th>...</th>\n      <td>...</td>\n      <td>...</td>\n      <td>...</td>\n      <td>...</td>\n      <td>...</td>\n      <td>...</td>\n      <td>...</td>\n      <td>...</td>\n      <td>...</td>\n      <td>...</td>\n      <td>...</td>\n      <td>...</td>\n      <td>...</td>\n      <td>...</td>\n      <td>...</td>\n      <td>...</td>\n      <td>...</td>\n      <td>...</td>\n      <td>...</td>\n      <td>...</td>\n      <td>...</td>\n    </tr>\n    <tr>\n      <th>92057</th>\n      <td>93698</td>\n      <td>2.0</td>\n      <td>Male</td>\n      <td>Hispanic</td>\n      <td>NaN</td>\n      <td>$20,000 and over</td>\n      <td>0.51</td>\n      <td>NaN</td>\n      <td>NaN</td>\n      <td>NaN</td>\n      <td>...</td>\n      <td>NaN</td>\n      <td>9594.802391</td>\n      <td>NaN</td>\n      <td>9896.007775</td>\n      <td>NaN</td>\n      <td>1.0</td>\n      <td>121.0</td>\n      <td>1066.089155</td>\n      <td>1099.556419</td>\n      <td>NaN</td>\n    </tr>\n    <tr>\n      <th>92058</th>\n      <td>93699</td>\n      <td>6.0</td>\n      <td>Female</td>\n      <td>Black</td>\n      <td>NaN</td>\n      <td>$20,000 and over</td>\n      <td>4.58</td>\n      <td>NaN</td>\n      <td>NaN</td>\n      <td>NaN</td>\n      <td>...</td>\n      <td>NaN</td>\n      <td>9871.384668</td>\n      <td>NaN</td>\n      <td>9875.921047</td>\n      <td>NaN</td>\n      <td>1.0</td>\n      <td>129.0</td>\n      <td>1096.820519</td>\n      <td>1097.324561</td>\n      <td>NaN</td>\n    </tr>\n    <tr>\n      <th>92059</th>\n      <td>93700</td>\n      <td>35.0</td>\n      <td>Male</td>\n      <td>White</td>\n      <td>Under College</td>\n      <td>Under $20,000</td>\n      <td>0.00</td>\n      <td>Yes</td>\n      <td>Every day</td>\n      <td>Current</td>\n      <td>...</td>\n      <td>Assumed alive</td>\n      <td>42314.288108</td>\n      <td>NaN</td>\n      <td>43194.215112</td>\n      <td>NaN</td>\n      <td>1.0</td>\n      <td>126.0</td>\n      <td>4701.587568</td>\n      <td>4799.357235</td>\n      <td>NaN</td>\n    </tr>\n    <tr>\n      <th>92060</th>\n      <td>93701</td>\n      <td>8.0</td>\n      <td>Male</td>\n      <td>White</td>\n      <td>NaN</td>\n      <td>$20,000 and over</td>\n      <td>4.22</td>\n      <td>NaN</td>\n      <td>NaN</td>\n      <td>NaN</td>\n      <td>...</td>\n      <td>NaN</td>\n      <td>42087.657815</td>\n      <td>NaN</td>\n      <td>48252.504294</td>\n      <td>NaN</td>\n      <td>2.0</td>\n      <td>124.0</td>\n      <td>4676.406424</td>\n      <td>5361.389366</td>\n      <td>NaN</td>\n    </tr>\n    <tr>\n      <th>92061</th>\n      <td>93702</td>\n      <td>24.0</td>\n      <td>Female</td>\n      <td>White</td>\n      <td>College Graduate or above</td>\n      <td>$20,000 and over</td>\n      <td>3.54</td>\n      <td>No</td>\n      <td>NaN</td>\n      <td>Never</td>\n      <td>...</td>\n      <td>Assumed alive</td>\n      <td>107361.906644</td>\n      <td>NaN</td>\n      <td>105080.445194</td>\n      <td>NaN</td>\n      <td>2.0</td>\n      <td>119.0</td>\n      <td>11929.100738</td>\n      <td>11675.605022</td>\n      <td>Non-excessive drinker</td>\n    </tr>\n  </tbody>\n</table>\n<p>92062 rows × 90 columns</p>\n</div>"
     },
     "execution_count": 48,
     "metadata": {},
     "output_type": "execute_result"
    }
   ],
   "source": [
    "df_all['excessive_drinker'] = ''\n",
    "df_all['excessive_drinker'] = df_all.apply(lambda row: excessive_drink(row), axis=1)\n",
    "df_all"
   ],
   "metadata": {
    "collapsed": false,
    "pycharm": {
     "name": "#%%\n"
    }
   }
  },
  {
   "cell_type": "code",
   "execution_count": 49,
   "outputs": [
    {
     "data": {
      "text/plain": "[['drinker', (nan, 48492), ('Yes', 28412), ('No', 15158)],\n ['excessive_drinker',\n  (nan, 48519),\n  ('Non-excessive drinker', 33789),\n  ('Non-drinker', 6797),\n  ('Excessive drinker', 2957)]]"
     },
     "execution_count": 49,
     "metadata": {},
     "output_type": "execute_result"
    }
   ],
   "source": [
    "nhanes.levels(df_all.loc[:, ['drinker', 'excessive_drinker']])"
   ],
   "metadata": {
    "collapsed": false,
    "pycharm": {
     "name": "#%%\n"
    }
   }
  },
  {
   "cell_type": "markdown",
   "source": [
    "选取变量"
   ],
   "metadata": {
    "collapsed": false,
    "pycharm": {
     "name": "#%% md\n"
    }
   }
  },
  {
   "cell_type": "code",
   "execution_count": 50,
   "outputs": [],
   "source": [
    "df_OApj = df_all.loc[:, ['SEQN', 'age', 'gender', 'race4', 'education20', 'family_income', 'family_pir', 'smoking_status', 'drinker', 'excessive_drinker', 'BMI3', 'depression','LTPA_time_total', 'LTPA_freq_estimate', 'LTPA_time_estimate', 'HTN_que', 'DM_que', 'RD', 'CVD', 'stroke', 'cancer', 'NSAIDs_gen12', 'NSAIDs_gen22', 'weakOpioid2', 'OADRUG_bind_all2', 'OA', 'ADL', 'LSA', 'IADL', 'LEM', 'GPA', 'ELIGSTAT', 'MORTSTAT', 'mort_leading', 'PERMTH_INT', 'PERMTH_EXM', 'SDMVPSU', 'SDMVSTRA', 'WTINT_cycle9', 'WTMEC_cycle9']]"
   ],
   "metadata": {
    "collapsed": false,
    "pycharm": {
     "name": "#%%\n"
    }
   }
  },
  {
   "cell_type": "code",
   "execution_count": 51,
   "outputs": [
    {
     "data": {
      "text/plain": "        SEQN   age  gender     race4                education20  \\\n0          1   2.0  Female     Black                        NaN   \n1          2  77.0    Male     White  College Graduate or above   \n2          3  10.0  Female     White                        NaN   \n3          4   1.0    Male     Black                        NaN   \n4          5  49.0    Male     White  College Graduate or above   \n...      ...   ...     ...       ...                        ...   \n92057  93698   2.0    Male  Hispanic                        NaN   \n92058  93699   6.0  Female     Black                        NaN   \n92059  93700  35.0    Male     White              Under College   \n92060  93701   8.0    Male     White                        NaN   \n92061  93702  24.0  Female     White  College Graduate or above   \n\n          family_income  family_pir smoking_status drinker  \\\n0         Under $20,000        0.86            NaN     NaN   \n1      $20,000 and over        5.00          Never     Yes   \n2      $20,000 and over        1.47            NaN     NaN   \n3         Under $20,000        0.57            NaN     NaN   \n4      $20,000 and over        5.00         Former     Yes   \n...                 ...         ...            ...     ...   \n92057  $20,000 and over        0.51            NaN     NaN   \n92058  $20,000 and over        4.58            NaN     NaN   \n92059     Under $20,000        0.00        Current     NaN   \n92060  $20,000 and over        4.22            NaN     NaN   \n92061  $20,000 and over        3.54          Never     Yes   \n\n           excessive_drinker  ...            GPA  \\\n0                        NaN  ...            NaN   \n1      Non-excessive drinker  ...  No difficulty   \n2                        NaN  ...            NaN   \n3                        NaN  ...            NaN   \n4      Non-excessive drinker  ...            NaN   \n...                      ...  ...            ...   \n92057                    NaN  ...            NaN   \n92058                    NaN  ...            NaN   \n92059                    NaN  ...     Disability   \n92060                    NaN  ...            NaN   \n92061  Non-excessive drinker  ...            NaN   \n\n                                             ELIGSTAT          MORTSTAT  \\\n0      Under age 18, not available for public release               NaN   \n1                                            Eligible  Assumed deceased   \n2      Under age 18, not available for public release               NaN   \n3      Under age 18, not available for public release               NaN   \n4                                            Eligible     Assumed alive   \n...                                               ...               ...   \n92057  Under age 18, not available for public release               NaN   \n92058  Under age 18, not available for public release               NaN   \n92059                                        Eligible     Assumed alive   \n92060  Under age 18, not available for public release               NaN   \n92061                                        Eligible     Assumed alive   \n\n        mort_leading PERMTH_INT PERMTH_EXM SDMVPSU SDMVSTRA  WTINT_cycle9  \\\n0                NaN        NaN        NaN     1.0      5.0    953.664484   \n1              Other      177.0      177.0     3.0      1.0   3156.296888   \n2                NaN        NaN        NaN     2.0      7.0   4471.947446   \n3                NaN        NaN        NaN     1.0      2.0   1018.251624   \n4      Assumed alive      244.0      244.0     2.0      8.0   9813.748489   \n...              ...        ...        ...     ...      ...           ...   \n92057            NaN        NaN        NaN     1.0    121.0   1066.089155   \n92058            NaN        NaN        NaN     1.0    129.0   1096.820519   \n92059  Assumed alive       50.0       50.0     1.0    126.0   4701.587568   \n92060            NaN        NaN        NaN     2.0    124.0   4676.406424   \n92061  Assumed alive       53.0       52.0     2.0    119.0  11929.100738   \n\n       WTMEC_cycle9  \n0        990.268132  \n1       3408.044382  \n2       4724.103694  \n3       1013.864237  \n4      10219.103963  \n...             ...  \n92057   1099.556419  \n92058   1097.324561  \n92059   4799.357235  \n92060   5361.389366  \n92061  11675.605022  \n\n[92062 rows x 40 columns]",
      "text/html": "<div>\n<style scoped>\n    .dataframe tbody tr th:only-of-type {\n        vertical-align: middle;\n    }\n\n    .dataframe tbody tr th {\n        vertical-align: top;\n    }\n\n    .dataframe thead th {\n        text-align: right;\n    }\n</style>\n<table border=\"1\" class=\"dataframe\">\n  <thead>\n    <tr style=\"text-align: right;\">\n      <th></th>\n      <th>SEQN</th>\n      <th>age</th>\n      <th>gender</th>\n      <th>race4</th>\n      <th>education20</th>\n      <th>family_income</th>\n      <th>family_pir</th>\n      <th>smoking_status</th>\n      <th>drinker</th>\n      <th>excessive_drinker</th>\n      <th>...</th>\n      <th>GPA</th>\n      <th>ELIGSTAT</th>\n      <th>MORTSTAT</th>\n      <th>mort_leading</th>\n      <th>PERMTH_INT</th>\n      <th>PERMTH_EXM</th>\n      <th>SDMVPSU</th>\n      <th>SDMVSTRA</th>\n      <th>WTINT_cycle9</th>\n      <th>WTMEC_cycle9</th>\n    </tr>\n  </thead>\n  <tbody>\n    <tr>\n      <th>0</th>\n      <td>1</td>\n      <td>2.0</td>\n      <td>Female</td>\n      <td>Black</td>\n      <td>NaN</td>\n      <td>Under $20,000</td>\n      <td>0.86</td>\n      <td>NaN</td>\n      <td>NaN</td>\n      <td>NaN</td>\n      <td>...</td>\n      <td>NaN</td>\n      <td>Under age 18, not available for public release</td>\n      <td>NaN</td>\n      <td>NaN</td>\n      <td>NaN</td>\n      <td>NaN</td>\n      <td>1.0</td>\n      <td>5.0</td>\n      <td>953.664484</td>\n      <td>990.268132</td>\n    </tr>\n    <tr>\n      <th>1</th>\n      <td>2</td>\n      <td>77.0</td>\n      <td>Male</td>\n      <td>White</td>\n      <td>College Graduate or above</td>\n      <td>$20,000 and over</td>\n      <td>5.00</td>\n      <td>Never</td>\n      <td>Yes</td>\n      <td>Non-excessive drinker</td>\n      <td>...</td>\n      <td>No difficulty</td>\n      <td>Eligible</td>\n      <td>Assumed deceased</td>\n      <td>Other</td>\n      <td>177.0</td>\n      <td>177.0</td>\n      <td>3.0</td>\n      <td>1.0</td>\n      <td>3156.296888</td>\n      <td>3408.044382</td>\n    </tr>\n    <tr>\n      <th>2</th>\n      <td>3</td>\n      <td>10.0</td>\n      <td>Female</td>\n      <td>White</td>\n      <td>NaN</td>\n      <td>$20,000 and over</td>\n      <td>1.47</td>\n      <td>NaN</td>\n      <td>NaN</td>\n      <td>NaN</td>\n      <td>...</td>\n      <td>NaN</td>\n      <td>Under age 18, not available for public release</td>\n      <td>NaN</td>\n      <td>NaN</td>\n      <td>NaN</td>\n      <td>NaN</td>\n      <td>2.0</td>\n      <td>7.0</td>\n      <td>4471.947446</td>\n      <td>4724.103694</td>\n    </tr>\n    <tr>\n      <th>3</th>\n      <td>4</td>\n      <td>1.0</td>\n      <td>Male</td>\n      <td>Black</td>\n      <td>NaN</td>\n      <td>Under $20,000</td>\n      <td>0.57</td>\n      <td>NaN</td>\n      <td>NaN</td>\n      <td>NaN</td>\n      <td>...</td>\n      <td>NaN</td>\n      <td>Under age 18, not available for public release</td>\n      <td>NaN</td>\n      <td>NaN</td>\n      <td>NaN</td>\n      <td>NaN</td>\n      <td>1.0</td>\n      <td>2.0</td>\n      <td>1018.251624</td>\n      <td>1013.864237</td>\n    </tr>\n    <tr>\n      <th>4</th>\n      <td>5</td>\n      <td>49.0</td>\n      <td>Male</td>\n      <td>White</td>\n      <td>College Graduate or above</td>\n      <td>$20,000 and over</td>\n      <td>5.00</td>\n      <td>Former</td>\n      <td>Yes</td>\n      <td>Non-excessive drinker</td>\n      <td>...</td>\n      <td>NaN</td>\n      <td>Eligible</td>\n      <td>Assumed alive</td>\n      <td>Assumed alive</td>\n      <td>244.0</td>\n      <td>244.0</td>\n      <td>2.0</td>\n      <td>8.0</td>\n      <td>9813.748489</td>\n      <td>10219.103963</td>\n    </tr>\n    <tr>\n      <th>...</th>\n      <td>...</td>\n      <td>...</td>\n      <td>...</td>\n      <td>...</td>\n      <td>...</td>\n      <td>...</td>\n      <td>...</td>\n      <td>...</td>\n      <td>...</td>\n      <td>...</td>\n      <td>...</td>\n      <td>...</td>\n      <td>...</td>\n      <td>...</td>\n      <td>...</td>\n      <td>...</td>\n      <td>...</td>\n      <td>...</td>\n      <td>...</td>\n      <td>...</td>\n      <td>...</td>\n    </tr>\n    <tr>\n      <th>92057</th>\n      <td>93698</td>\n      <td>2.0</td>\n      <td>Male</td>\n      <td>Hispanic</td>\n      <td>NaN</td>\n      <td>$20,000 and over</td>\n      <td>0.51</td>\n      <td>NaN</td>\n      <td>NaN</td>\n      <td>NaN</td>\n      <td>...</td>\n      <td>NaN</td>\n      <td>Under age 18, not available for public release</td>\n      <td>NaN</td>\n      <td>NaN</td>\n      <td>NaN</td>\n      <td>NaN</td>\n      <td>1.0</td>\n      <td>121.0</td>\n      <td>1066.089155</td>\n      <td>1099.556419</td>\n    </tr>\n    <tr>\n      <th>92058</th>\n      <td>93699</td>\n      <td>6.0</td>\n      <td>Female</td>\n      <td>Black</td>\n      <td>NaN</td>\n      <td>$20,000 and over</td>\n      <td>4.58</td>\n      <td>NaN</td>\n      <td>NaN</td>\n      <td>NaN</td>\n      <td>...</td>\n      <td>NaN</td>\n      <td>Under age 18, not available for public release</td>\n      <td>NaN</td>\n      <td>NaN</td>\n      <td>NaN</td>\n      <td>NaN</td>\n      <td>1.0</td>\n      <td>129.0</td>\n      <td>1096.820519</td>\n      <td>1097.324561</td>\n    </tr>\n    <tr>\n      <th>92059</th>\n      <td>93700</td>\n      <td>35.0</td>\n      <td>Male</td>\n      <td>White</td>\n      <td>Under College</td>\n      <td>Under $20,000</td>\n      <td>0.00</td>\n      <td>Current</td>\n      <td>NaN</td>\n      <td>NaN</td>\n      <td>...</td>\n      <td>Disability</td>\n      <td>Eligible</td>\n      <td>Assumed alive</td>\n      <td>Assumed alive</td>\n      <td>50.0</td>\n      <td>50.0</td>\n      <td>1.0</td>\n      <td>126.0</td>\n      <td>4701.587568</td>\n      <td>4799.357235</td>\n    </tr>\n    <tr>\n      <th>92060</th>\n      <td>93701</td>\n      <td>8.0</td>\n      <td>Male</td>\n      <td>White</td>\n      <td>NaN</td>\n      <td>$20,000 and over</td>\n      <td>4.22</td>\n      <td>NaN</td>\n      <td>NaN</td>\n      <td>NaN</td>\n      <td>...</td>\n      <td>NaN</td>\n      <td>Under age 18, not available for public release</td>\n      <td>NaN</td>\n      <td>NaN</td>\n      <td>NaN</td>\n      <td>NaN</td>\n      <td>2.0</td>\n      <td>124.0</td>\n      <td>4676.406424</td>\n      <td>5361.389366</td>\n    </tr>\n    <tr>\n      <th>92061</th>\n      <td>93702</td>\n      <td>24.0</td>\n      <td>Female</td>\n      <td>White</td>\n      <td>College Graduate or above</td>\n      <td>$20,000 and over</td>\n      <td>3.54</td>\n      <td>Never</td>\n      <td>Yes</td>\n      <td>Non-excessive drinker</td>\n      <td>...</td>\n      <td>NaN</td>\n      <td>Eligible</td>\n      <td>Assumed alive</td>\n      <td>Assumed alive</td>\n      <td>53.0</td>\n      <td>52.0</td>\n      <td>2.0</td>\n      <td>119.0</td>\n      <td>11929.100738</td>\n      <td>11675.605022</td>\n    </tr>\n  </tbody>\n</table>\n<p>92062 rows × 40 columns</p>\n</div>"
     },
     "execution_count": 51,
     "metadata": {},
     "output_type": "execute_result"
    }
   ],
   "source": [
    "df_OApj"
   ],
   "metadata": {
    "collapsed": false,
    "pycharm": {
     "name": "#%%\n"
    }
   }
  },
  {
   "cell_type": "code",
   "execution_count": 52,
   "outputs": [
    {
     "data": {
      "text/plain": "SEQN                    int64\nage                   float64\ngender                 object\nrace4                  object\neducation20            object\nfamily_income          object\nfamily_pir            float64\nsmoking_status         object\ndrinker                object\nexcessive_drinker      object\nBMI3                   object\ndepression             object\nLTPA_time_total       float64\nLTPA_freq_estimate     object\nLTPA_time_estimate     object\nHTN_que                object\nDM_que                 object\nRD                     object\nCVD                    object\nstroke                 object\ncancer                 object\nNSAIDs_gen12           object\nNSAIDs_gen22           object\nweakOpioid2            object\nOADRUG_bind_all2       object\nOA                     object\nADL                    object\nLSA                    object\nIADL                   object\nLEM                    object\nGPA                    object\nELIGSTAT               object\nMORTSTAT               object\nmort_leading           object\nPERMTH_INT            float64\nPERMTH_EXM            float64\nSDMVPSU               float64\nSDMVSTRA              float64\nWTINT_cycle9          float64\nWTMEC_cycle9          float64\ndtype: object"
     },
     "execution_count": 52,
     "metadata": {},
     "output_type": "execute_result"
    }
   ],
   "source": [
    "df_OApj.dtypes"
   ],
   "metadata": {
    "collapsed": false,
    "pycharm": {
     "name": "#%%\n"
    }
   }
  },
  {
   "cell_type": "markdown",
   "source": [
    "检验下变量  levels 清理完成？"
   ],
   "metadata": {
    "collapsed": false,
    "pycharm": {
     "name": "#%% md\n"
    }
   }
  },
  {
   "cell_type": "code",
   "execution_count": 53,
   "outputs": [
    {
     "name": "stdout",
     "output_type": "stream",
     "text": [
      "relevels={\n",
      "\n",
      "'SEQN': ['int64', (1, 93702), {'breaks': 4, 'mode': '(]', 'intervals': [('(1.0, 23016.2]', ''), ('(23016.2, 46031.5]', ''), ('(46031.5, 69046.8]', ''), ('(69046.8, 93702.0]', '')], 'decimal': 1}     ], \n",
      "\n",
      "'age': ['float64', (0.0, 80.0), {'breaks': 4, 'mode': '(]', 'intervals': [('(0.0, 10.0]', ''), ('(10.0, 23.0]', ''), ('(23.0, 51.0]', ''), ('(51.0, 80.0]', '')], 'decimal': 1}     ], \n",
      "\n",
      "'gender': ['object', ('Female', ''), ('Male', '')], \n",
      "\n",
      "'race4': ['object', ('Black', ''), ('White', ''), ('Other', ''), ('Hispanic', '')], \n",
      "\n",
      "'education20': ['object', (nan, ''), ('College Graduate or above', ''), ('Under College', '')], \n",
      "\n",
      "'family_income': ['object', ('Under $20,000', ''), ('$20,000 and over', ''), (nan, '')], \n",
      "\n",
      "'family_pir': ['float64', (0.0, 5.0), {'breaks': 4, 'mode': '(]', 'intervals': [('(0.0, 0.9]', ''), ('(0.9, 1.8]', ''), ('(1.8, 3.5]', ''), ('(3.5, 5.0]', '')], 'decimal': 1}     ], \n",
      "\n",
      "'smoking_status': ['object', (nan, ''), ('Never', ''), ('Former', ''), ('Current', '')], \n",
      "\n",
      "'drinker': ['object', (nan, ''), ('Yes', ''), ('No', '')], \n",
      "\n",
      "'excessive_drinker': ['object', (nan, ''), ('Non-excessive drinker', ''), ('Non-drinker', ''), ('Excessive drinker', '')], \n",
      "\n",
      "'BMI3': ['object', ('Normal', ''), (nan, ''), ('Overweight', ''), ('Obesity', '')], \n",
      "\n",
      "'depression': ['object', (nan, ''), ('No', ''), ('Yes', '')], \n",
      "\n",
      "'LTPA_time_total': ['float64', (0.0, 15736.0), {'breaks': 4, 'mode': '(]', 'intervals': [('(0.0, 0.0]', ''), ('(0.0, 60.0]', ''), ('(60.0, 360.0]', ''), ('(360.0, 15736.0]', '')], 'decimal': 1}     ], \n",
      "\n",
      "'LTPA_freq_estimate': ['object', (nan, ''), ('No LTPA', ''), ('Regular', ''), ('Irregular', '')], \n",
      "\n",
      "'LTPA_time_estimate': ['object', (nan, ''), ('No LTPA', ''), ('Adequate', ''), ('Inadequate', '')], \n",
      "\n",
      "'HTN_que': ['object', (nan, ''), ('No', ''), ('Yes', '')], \n",
      "\n",
      "'DM_que': ['object', ('No', ''), ('Yes', ''), (nan, '')], \n",
      "\n",
      "'RD': ['object', (nan, ''), ('No', ''), ('Yes', '')], \n",
      "\n",
      "'CVD': ['object', (nan, ''), ('No', ''), ('Yes', '')], \n",
      "\n",
      "'stroke': ['object', (nan, ''), ('No', ''), ('Yes', '')], \n",
      "\n",
      "'cancer': ['object', (nan, ''), ('Yes', ''), ('No', '')], \n",
      "\n",
      "'NSAIDs_gen12': ['object', ('No', ''), ('Yes', ''), (nan, '')], \n",
      "\n",
      "'NSAIDs_gen22': ['object', ('No', ''), ('Yes', ''), (nan, '')], \n",
      "\n",
      "'weakOpioid2': ['object', ('No', ''), ('Yes', ''), (nan, '')], \n",
      "\n",
      "'OADRUG_bind_all2': ['object', ('No', ''), ('Yes', ''), (nan, '')], \n",
      "\n",
      "'OA': ['object', (nan, ''), ('Rheumatoid arthritis', ''), ('No', ''), ('Other', ''), ('Osteoarthritis', '')], \n",
      "\n",
      "'ADL': ['object', (nan, ''), ('No difficulty', ''), ('Disability', '')], \n",
      "\n",
      "'LSA': ['object', (nan, ''), ('No difficulty', ''), ('Disability', '')], \n",
      "\n",
      "'IADL': ['object', (nan, ''), ('No difficulty', ''), ('Disability', '')], \n",
      "\n",
      "'LEM': ['object', (nan, ''), ('No difficulty', ''), ('Disability', '')], \n",
      "\n",
      "'GPA': ['object', (nan, ''), ('No difficulty', ''), ('Disability', '')], \n",
      "\n",
      "'ELIGSTAT': ['object', ('Under age 18, not available for public release', ''), ('Eligible', ''), ('Ineligible', '')], \n",
      "\n",
      "'MORTSTAT': ['object', (nan, ''), ('Assumed deceased', ''), ('Assumed alive', '')], \n",
      "\n",
      "'mort_leading': ['object', (nan, ''), ('Other', ''), ('Assumed alive', ''), ('Diseases of heart', ''), ('Malignant neoplasms', '')], \n",
      "\n",
      "'PERMTH_INT': ['float64', (0.0, 250.0), {'breaks': 4, 'mode': '(]', 'intervals': [('(0.0, 75.0]', ''), ('(75.0, 123.0]', ''), ('(123.0, 179.0]', ''), ('(179.0, 250.0]', '')], 'decimal': 1}     ], \n",
      "\n",
      "'PERMTH_EXM': ['float64', (0.0, 249.0), {'breaks': 4, 'mode': '(]', 'intervals': [('(0.0, 75.0]', ''), ('(75.0, 122.0]', ''), ('(122.0, 178.0]', ''), ('(178.0, 249.0]', '')], 'decimal': 1}     ], \n",
      "\n",
      "'SDMVPSU': ['float64', (1.0, 3.0), {'breaks': 4, 'mode': '(]', 'intervals': [('(1.0, 1.0]', ''), ('(1.0, 2.0]', ''), ('(2.0, 2.0]', ''), ('(2.0, 3.0]', '')], 'decimal': 1}     ], \n",
      "\n",
      "'SDMVSTRA': ['float64', (1.0, 133.0), {'breaks': 4, 'mode': '(]', 'intervals': [('(1.0, 31.0]', ''), ('(31.0, 65.0]', ''), ('(65.0, 99.0]', ''), ('(99.0, 133.0]', '')], 'decimal': 1}     ], \n",
      "\n",
      "'WTINT_cycle9': ['float64', (136.1075591111111, 25972.871316666664), {'breaks': 4, 'mode': '(]', 'intervals': [('(136.1, 1085.2]', ''), ('(1085.2, 2104.1]', ''), ('(2104.1, 4070.3]', ''), ('(4070.3, 25972.9]', '')], 'decimal': 1}     ], \n",
      "\n",
      "'WTMEC_cycle9': ['float64', (0.0, 26931.85119622222), {'breaks': 4, 'mode': '(]', 'intervals': [('(0.0, 1027.9]', ''), ('(1027.9, 2082.6]', ''), ('(2082.6, 4118.7]', ''), ('(4118.7, 26931.9]', '')], 'decimal': 1}     ]\n",
      "      }         \n"
     ]
    }
   ],
   "source": [
    "nhanes.relevels_info(df_OApj)"
   ],
   "metadata": {
    "collapsed": false,
    "pycharm": {
     "name": "#%%\n"
    }
   }
  },
  {
   "cell_type": "code",
   "execution_count": 56,
   "outputs": [],
   "source": [
    "from os.path import  exists\n",
    "from os import makedirs"
   ],
   "metadata": {
    "collapsed": false,
    "pycharm": {
     "name": "#%%\n"
    }
   }
  },
  {
   "cell_type": "code",
   "execution_count": 57,
   "outputs": [],
   "source": [
    "path = r'E:\\dataset\\NHANES221224\\GD files\\整合文件'\n",
    "path_to = f\"{path}/1999-2016 OA_graduate PJ\"\n",
    "if not exists(path_to):\n",
    "      makedirs(path_to)\n",
    "file_name = '1999-2016 OA_graduate'\n",
    "\n",
    "dst = f\"{path_to}/{file_name}.csv\"\n",
    "encoding = 'utf-8'\n",
    "\n",
    "df_OApj.to_csv(dst, encoding=encoding, index=False)"
   ],
   "metadata": {
    "collapsed": false,
    "pycharm": {
     "name": "#%%\n"
    }
   }
  },
  {
   "cell_type": "code",
   "execution_count": 58,
   "outputs": [
    {
     "data": {
      "text/plain": "        SEQN   age  gender     race4                education20  \\\n0          1   2.0  Female     Black                         NA   \n1          2  77.0    Male     White  College Graduate or above   \n2          3  10.0  Female     White                         NA   \n3          4   1.0    Male     Black                         NA   \n4          5  49.0    Male     White  College Graduate or above   \n...      ...   ...     ...       ...                        ...   \n92057  93698   2.0    Male  Hispanic                         NA   \n92058  93699   6.0  Female     Black                         NA   \n92059  93700  35.0    Male     White              Under College   \n92060  93701   8.0    Male     White                         NA   \n92061  93702  24.0  Female     White  College Graduate or above   \n\n          family_income family_pir smoking_status drinker  \\\n0         Under $20,000       0.86             NA      NA   \n1      $20,000 and over        5.0          Never     Yes   \n2      $20,000 and over       1.47             NA      NA   \n3         Under $20,000       0.57             NA      NA   \n4      $20,000 and over        5.0         Former     Yes   \n...                 ...        ...            ...     ...   \n92057  $20,000 and over       0.51             NA      NA   \n92058  $20,000 and over       4.58             NA      NA   \n92059     Under $20,000        0.0        Current      NA   \n92060  $20,000 and over       4.22             NA      NA   \n92061  $20,000 and over       3.54          Never     Yes   \n\n           excessive_drinker  ...            GPA  \\\n0                         NA  ...             NA   \n1      Non-excessive drinker  ...  No difficulty   \n2                         NA  ...             NA   \n3                         NA  ...             NA   \n4      Non-excessive drinker  ...             NA   \n...                      ...  ...            ...   \n92057                     NA  ...             NA   \n92058                     NA  ...             NA   \n92059                     NA  ...     Disability   \n92060                     NA  ...             NA   \n92061  Non-excessive drinker  ...             NA   \n\n                                             ELIGSTAT          MORTSTAT  \\\n0      Under age 18, not available for public release                NA   \n1                                            Eligible  Assumed deceased   \n2      Under age 18, not available for public release                NA   \n3      Under age 18, not available for public release                NA   \n4                                            Eligible     Assumed alive   \n...                                               ...               ...   \n92057  Under age 18, not available for public release                NA   \n92058  Under age 18, not available for public release                NA   \n92059                                        Eligible     Assumed alive   \n92060  Under age 18, not available for public release                NA   \n92061                                        Eligible     Assumed alive   \n\n        mort_leading PERMTH_INT PERMTH_EXM SDMVPSU SDMVSTRA  \\\n0                 NA         NA         NA     1.0      5.0   \n1              Other      177.0      177.0     3.0      1.0   \n2                 NA         NA         NA     2.0      7.0   \n3                 NA         NA         NA     1.0      2.0   \n4      Assumed alive      244.0      244.0     2.0      8.0   \n...              ...        ...        ...     ...      ...   \n92057             NA         NA         NA     1.0    121.0   \n92058             NA         NA         NA     1.0    129.0   \n92059  Assumed alive       50.0       50.0     1.0    126.0   \n92060             NA         NA         NA     2.0    124.0   \n92061  Assumed alive       53.0       52.0     2.0    119.0   \n\n             WTINT_cycle9        WTMEC_cycle9  \n0       953.6644837777776          990.268132  \n1      3156.2968884444444  3408.0443815555554  \n2             4471.947446   4724.103694444444  \n3             1018.251624  1013.8642373333333  \n4        9813.74848911111  10219.103962666666  \n...                   ...                 ...  \n92057  1066.0891545555555  1099.5564194444444  \n92058  1096.8205186666667  1097.3245607777776  \n92059   4701.587567555555   4799.357234666666  \n92060   4676.406423888889   5361.389365999999  \n92061  11929.100738222221  11675.605021555555  \n\n[92062 rows x 40 columns]",
      "text/html": "<div>\n<style scoped>\n    .dataframe tbody tr th:only-of-type {\n        vertical-align: middle;\n    }\n\n    .dataframe tbody tr th {\n        vertical-align: top;\n    }\n\n    .dataframe thead th {\n        text-align: right;\n    }\n</style>\n<table border=\"1\" class=\"dataframe\">\n  <thead>\n    <tr style=\"text-align: right;\">\n      <th></th>\n      <th>SEQN</th>\n      <th>age</th>\n      <th>gender</th>\n      <th>race4</th>\n      <th>education20</th>\n      <th>family_income</th>\n      <th>family_pir</th>\n      <th>smoking_status</th>\n      <th>drinker</th>\n      <th>excessive_drinker</th>\n      <th>...</th>\n      <th>GPA</th>\n      <th>ELIGSTAT</th>\n      <th>MORTSTAT</th>\n      <th>mort_leading</th>\n      <th>PERMTH_INT</th>\n      <th>PERMTH_EXM</th>\n      <th>SDMVPSU</th>\n      <th>SDMVSTRA</th>\n      <th>WTINT_cycle9</th>\n      <th>WTMEC_cycle9</th>\n    </tr>\n  </thead>\n  <tbody>\n    <tr>\n      <th>0</th>\n      <td>1</td>\n      <td>2.0</td>\n      <td>Female</td>\n      <td>Black</td>\n      <td>NA</td>\n      <td>Under $20,000</td>\n      <td>0.86</td>\n      <td>NA</td>\n      <td>NA</td>\n      <td>NA</td>\n      <td>...</td>\n      <td>NA</td>\n      <td>Under age 18, not available for public release</td>\n      <td>NA</td>\n      <td>NA</td>\n      <td>NA</td>\n      <td>NA</td>\n      <td>1.0</td>\n      <td>5.0</td>\n      <td>953.6644837777776</td>\n      <td>990.268132</td>\n    </tr>\n    <tr>\n      <th>1</th>\n      <td>2</td>\n      <td>77.0</td>\n      <td>Male</td>\n      <td>White</td>\n      <td>College Graduate or above</td>\n      <td>$20,000 and over</td>\n      <td>5.0</td>\n      <td>Never</td>\n      <td>Yes</td>\n      <td>Non-excessive drinker</td>\n      <td>...</td>\n      <td>No difficulty</td>\n      <td>Eligible</td>\n      <td>Assumed deceased</td>\n      <td>Other</td>\n      <td>177.0</td>\n      <td>177.0</td>\n      <td>3.0</td>\n      <td>1.0</td>\n      <td>3156.2968884444444</td>\n      <td>3408.0443815555554</td>\n    </tr>\n    <tr>\n      <th>2</th>\n      <td>3</td>\n      <td>10.0</td>\n      <td>Female</td>\n      <td>White</td>\n      <td>NA</td>\n      <td>$20,000 and over</td>\n      <td>1.47</td>\n      <td>NA</td>\n      <td>NA</td>\n      <td>NA</td>\n      <td>...</td>\n      <td>NA</td>\n      <td>Under age 18, not available for public release</td>\n      <td>NA</td>\n      <td>NA</td>\n      <td>NA</td>\n      <td>NA</td>\n      <td>2.0</td>\n      <td>7.0</td>\n      <td>4471.947446</td>\n      <td>4724.103694444444</td>\n    </tr>\n    <tr>\n      <th>3</th>\n      <td>4</td>\n      <td>1.0</td>\n      <td>Male</td>\n      <td>Black</td>\n      <td>NA</td>\n      <td>Under $20,000</td>\n      <td>0.57</td>\n      <td>NA</td>\n      <td>NA</td>\n      <td>NA</td>\n      <td>...</td>\n      <td>NA</td>\n      <td>Under age 18, not available for public release</td>\n      <td>NA</td>\n      <td>NA</td>\n      <td>NA</td>\n      <td>NA</td>\n      <td>1.0</td>\n      <td>2.0</td>\n      <td>1018.251624</td>\n      <td>1013.8642373333333</td>\n    </tr>\n    <tr>\n      <th>4</th>\n      <td>5</td>\n      <td>49.0</td>\n      <td>Male</td>\n      <td>White</td>\n      <td>College Graduate or above</td>\n      <td>$20,000 and over</td>\n      <td>5.0</td>\n      <td>Former</td>\n      <td>Yes</td>\n      <td>Non-excessive drinker</td>\n      <td>...</td>\n      <td>NA</td>\n      <td>Eligible</td>\n      <td>Assumed alive</td>\n      <td>Assumed alive</td>\n      <td>244.0</td>\n      <td>244.0</td>\n      <td>2.0</td>\n      <td>8.0</td>\n      <td>9813.74848911111</td>\n      <td>10219.103962666666</td>\n    </tr>\n    <tr>\n      <th>...</th>\n      <td>...</td>\n      <td>...</td>\n      <td>...</td>\n      <td>...</td>\n      <td>...</td>\n      <td>...</td>\n      <td>...</td>\n      <td>...</td>\n      <td>...</td>\n      <td>...</td>\n      <td>...</td>\n      <td>...</td>\n      <td>...</td>\n      <td>...</td>\n      <td>...</td>\n      <td>...</td>\n      <td>...</td>\n      <td>...</td>\n      <td>...</td>\n      <td>...</td>\n      <td>...</td>\n    </tr>\n    <tr>\n      <th>92057</th>\n      <td>93698</td>\n      <td>2.0</td>\n      <td>Male</td>\n      <td>Hispanic</td>\n      <td>NA</td>\n      <td>$20,000 and over</td>\n      <td>0.51</td>\n      <td>NA</td>\n      <td>NA</td>\n      <td>NA</td>\n      <td>...</td>\n      <td>NA</td>\n      <td>Under age 18, not available for public release</td>\n      <td>NA</td>\n      <td>NA</td>\n      <td>NA</td>\n      <td>NA</td>\n      <td>1.0</td>\n      <td>121.0</td>\n      <td>1066.0891545555555</td>\n      <td>1099.5564194444444</td>\n    </tr>\n    <tr>\n      <th>92058</th>\n      <td>93699</td>\n      <td>6.0</td>\n      <td>Female</td>\n      <td>Black</td>\n      <td>NA</td>\n      <td>$20,000 and over</td>\n      <td>4.58</td>\n      <td>NA</td>\n      <td>NA</td>\n      <td>NA</td>\n      <td>...</td>\n      <td>NA</td>\n      <td>Under age 18, not available for public release</td>\n      <td>NA</td>\n      <td>NA</td>\n      <td>NA</td>\n      <td>NA</td>\n      <td>1.0</td>\n      <td>129.0</td>\n      <td>1096.8205186666667</td>\n      <td>1097.3245607777776</td>\n    </tr>\n    <tr>\n      <th>92059</th>\n      <td>93700</td>\n      <td>35.0</td>\n      <td>Male</td>\n      <td>White</td>\n      <td>Under College</td>\n      <td>Under $20,000</td>\n      <td>0.0</td>\n      <td>Current</td>\n      <td>NA</td>\n      <td>NA</td>\n      <td>...</td>\n      <td>Disability</td>\n      <td>Eligible</td>\n      <td>Assumed alive</td>\n      <td>Assumed alive</td>\n      <td>50.0</td>\n      <td>50.0</td>\n      <td>1.0</td>\n      <td>126.0</td>\n      <td>4701.587567555555</td>\n      <td>4799.357234666666</td>\n    </tr>\n    <tr>\n      <th>92060</th>\n      <td>93701</td>\n      <td>8.0</td>\n      <td>Male</td>\n      <td>White</td>\n      <td>NA</td>\n      <td>$20,000 and over</td>\n      <td>4.22</td>\n      <td>NA</td>\n      <td>NA</td>\n      <td>NA</td>\n      <td>...</td>\n      <td>NA</td>\n      <td>Under age 18, not available for public release</td>\n      <td>NA</td>\n      <td>NA</td>\n      <td>NA</td>\n      <td>NA</td>\n      <td>2.0</td>\n      <td>124.0</td>\n      <td>4676.406423888889</td>\n      <td>5361.389365999999</td>\n    </tr>\n    <tr>\n      <th>92061</th>\n      <td>93702</td>\n      <td>24.0</td>\n      <td>Female</td>\n      <td>White</td>\n      <td>College Graduate or above</td>\n      <td>$20,000 and over</td>\n      <td>3.54</td>\n      <td>Never</td>\n      <td>Yes</td>\n      <td>Non-excessive drinker</td>\n      <td>...</td>\n      <td>NA</td>\n      <td>Eligible</td>\n      <td>Assumed alive</td>\n      <td>Assumed alive</td>\n      <td>53.0</td>\n      <td>52.0</td>\n      <td>2.0</td>\n      <td>119.0</td>\n      <td>11929.100738222221</td>\n      <td>11675.605021555555</td>\n    </tr>\n  </tbody>\n</table>\n<p>92062 rows × 40 columns</p>\n</div>"
     },
     "execution_count": 58,
     "metadata": {},
     "output_type": "execute_result"
    }
   ],
   "source": [
    "for col in df_OApj.columns:\n",
    "    df_OApj[col] = df_OApj[col].astype(str)\n",
    "df_OApj = df_OApj.replace('nan', 'NA')\n",
    "\n",
    "df_OApj"
   ],
   "metadata": {
    "collapsed": false,
    "pycharm": {
     "name": "#%%\n"
    }
   }
  },
  {
   "cell_type": "code",
   "execution_count": 59,
   "outputs": [],
   "source": [
    "path = r'E:\\dataset\\NHANES221224\\GD files\\整合文件'\n",
    "path_to = f\"{path}/1999-2016 OA_graduate PJ\"\n",
    "if not exists(path_to):\n",
    "      makedirs(path_to)\n",
    "file_name = '1999-2016 OA_graduate2'\n",
    "\n",
    "dst = f\"{path_to}/{file_name}.csv\"\n",
    "encoding = 'utf-8'\n",
    "\n",
    "df_OApj.to_csv(dst, encoding=encoding, index=False)"
   ],
   "metadata": {
    "collapsed": false,
    "pycharm": {
     "name": "#%%\n"
    }
   }
  },
  {
   "cell_type": "code",
   "execution_count": 60,
   "outputs": [
    {
     "name": "stdout",
     "output_type": "stream",
     "text": [
      "relevels={\n",
      "\n",
      "'gender': ['object', ('Female', ''), ('Male', '')], \n",
      "\n",
      "'race4': ['object', ('Black', ''), ('White', ''), ('Other', ''), ('Hispanic', '')], \n",
      "\n",
      "'education20': ['object', ('NA', ''), ('College Graduate or above', ''), ('Under College', '')], \n",
      "\n",
      "'family_income': ['object', ('Under $20,000', ''), ('$20,000 and over', ''), ('NA', '')], \n",
      "\n",
      "'family_pir': ['object', ('0.86', ''), ('5.0', ''), ('1.47', ''), ('0.57', ''), ('1.21', ''), ('NA', ''), ('0.53', ''), ('1.25', ''), ('4.93', ''), ('1.07', ''), ('2.67', ''), ('4.52', ''), ('0.38', ''), ('0.92', ''), ('2.84', ''), ('2.4', ''), ('3.03', ''), ('1.8', ''), ('0.75', ''), ('1.77', ''), ('2.51', ''), ('3.43', ''), ('0.33', ''), ('1.54', ''), ('1.78', ''), ('4.61', ''), ('0.32', ''), ('1.31', ''), ('2.93', ''), ('1.2', ''), ('2.13', ''), ('2.04', ''), ('1.19', ''), ('0.19', ''), ('2.18', ''), ('0.18', ''), ('2.29', ''), ('3.33', ''), ('0.97', ''), ('4.13', ''), ('4.34', ''), ('2.57', ''), ('1.26', ''), ('2.14', ''), ('0.16', ''), ('1.7', ''), ('1.13', ''), ('2.99', ''), ('0.79', ''), ('3.59', ''), ('3.53', ''), ('2.16', ''), ('0.74', ''), ('1.15', ''), ('2.22', ''), ('0.63', ''), ('4.35', ''), ('4.44', ''), ('0.84', ''), ('0.12', ''), ('2.17', ''), ('0.67', ''), ('0.78', ''), ('0.31', ''), ('4.55', ''), ('1.06', ''), ('1.34', ''), ('4.07', ''), ('2.71', ''), ('4.19', ''), ('2.59', ''), ('1.9', ''), ('0.28', ''), ('0.76', ''), ('2.66', ''), ('2.58', ''), ('1.38', ''), ('3.11', ''), ('0.0', ''), ('1.44', ''), ('3.64', ''), ('4.32', ''), ('1.41', ''), ('3.6', ''), ('0.03', ''), ('2.69', ''), ('1.0', ''), ('3.81', ''), ('0.88', ''), ('1.33', ''), ('0.66', ''), ('0.55', ''), ('0.61', ''), ('1.43', ''), ('0.89', ''), ('1.5', ''), ('1.68', ''), ('0.85', ''), ('2.64', ''), ('3.96', ''), ('3.28', ''), ('0.69', ''), ('0.5', ''), ('1.1', ''), ('0.06', ''), ('0.7', ''), ('2.46', ''), ('3.97', ''), ('3.84', ''), ('0.26', ''), ('2.83', ''), ('4.24', ''), ('1.75', ''), ('0.27', ''), ('1.02', ''), ('2.01', ''), ('2.81', ''), ('0.36', ''), ('1.59', ''), ('0.49', ''), ('4.11', ''), ('0.6', ''), ('0.01', ''), ('0.91', ''), ('0.94', ''), ('1.63', ''), ('2.41', ''), ('3.89', ''), ('2.76', ''), ('1.24', ''), ('3.8', ''), ('0.41', ''), ('1.01', ''), ('3.18', ''), ('0.82', ''), ('1.6', ''), ('1.11', ''), ('0.24', ''), ('0.72', ''), ('0.9', ''), ('2.08', ''), ('0.56', ''), ('2.61', ''), ('0.23', ''), ('0.83', ''), ('2.49', ''), ('2.87', ''), ('0.48', ''), ('2.56', ''), ('1.08', ''), ('3.88', ''), ('3.16', ''), ('0.62', ''), ('3.73', ''), ('3.07', ''), ('1.46', ''), ('1.88', ''), ('2.05', ''), ('3.26', ''), ('0.45', ''), ('2.03', ''), ('0.11', ''), ('2.07', ''), ('2.94', ''), ('3.71', ''), ('0.3', ''), ('1.84', ''), ('0.35', ''), ('0.99', ''), ('4.38', ''), ('1.27', ''), ('0.47', ''), ('1.76', ''), ('0.65', ''), ('0.71', ''), ('3.09', ''), ('1.18', ''), ('4.59', ''), ('0.4', ''), ('1.28', ''), ('3.46', ''), ('2.33', ''), ('0.42', ''), ('0.54', ''), ('1.91', ''), ('4.27', ''), ('1.17', ''), ('1.82', ''), ('4.95', ''), ('1.83', ''), ('0.81', ''), ('1.95', ''), ('0.43', ''), ('4.77', ''), ('1.58', ''), ('0.02', ''), ('1.51', ''), ('4.25', ''), ('1.73', ''), ('1.14', ''), ('0.59', ''), ('4.06', ''), ('0.95', ''), ('1.81', ''), ('1.45', ''), ('3.29', ''), ('1.66', ''), ('0.34', ''), ('2.15', ''), ('2.52', ''), ('1.98', ''), ('0.68', ''), ('1.62', ''), ('0.52', ''), ('3.2', ''), ('3.98', ''), ('0.73', ''), ('4.69', ''), ('4.79', ''), ('1.4', ''), ('4.64', ''), ('2.7', ''), ('0.93', ''), ('3.38', ''), ('1.72', ''), ('3.39', ''), ('1.48', ''), ('0.15', ''), ('2.02', ''), ('3.02', ''), ('4.0', ''), ('2.65', ''), ('1.79', ''), ('2.06', ''), ('4.85', ''), ('1.05', ''), ('4.31', ''), ('4.7', ''), ('0.96', ''), ('3.42', ''), ('4.99', ''), ('2.11', ''), ('0.64', ''), ('1.32', ''), ('1.23', ''), ('1.92', ''), ('0.58', ''), ('3.23', ''), ('0.46', ''), ('2.2', ''), ('2.89', ''), ('2.35', ''), ('1.3', ''), ('2.1', ''), ('2.12', ''), ('0.8', ''), ('0.87', ''), ('4.18', ''), ('2.09', ''), ('2.25', ''), ('3.67', ''), ('3.55', ''), ('4.04', ''), ('4.42', ''), ('1.09', ''), ('1.85', ''), ('2.26', ''), ('3.52', ''), ('0.51', ''), ('2.97', ''), ('4.01', ''), ('2.53', ''), ('2.68', ''), ('2.5', ''), ('2.82', ''), ('0.08', ''), ('2.62', ''), ('1.97', ''), ('3.56', ''), ('3.41', ''), ('3.24', ''), ('1.42', ''), ('2.63', ''), ('1.16', ''), ('3.1', ''), ('2.54', ''), ('3.06', ''), ('3.76', ''), ('0.09', ''), ('1.22', ''), ('2.88', ''), ('3.05', ''), ('2.37', ''), ('0.21', ''), ('1.56', ''), ('0.98', ''), ('2.47', ''), ('1.52', ''), ('4.8', ''), ('0.13', ''), ('3.62', ''), ('0.25', ''), ('2.31', ''), ('1.55', ''), ('3.82', ''), ('4.4', ''), ('2.9', ''), ('2.38', ''), ('1.36', ''), ('3.94', ''), ('0.05', ''), ('3.83', ''), ('4.89', ''), ('0.37', ''), ('3.44', ''), ('3.25', ''), ('0.77', ''), ('1.94', ''), ('3.01', ''), ('2.85', ''), ('1.03', ''), ('4.1', ''), ('1.67', ''), ('2.44', ''), ('3.47', ''), ('3.95', ''), ('3.77', ''), ('3.74', ''), ('4.68', ''), ('2.86', ''), ('0.17', ''), ('1.96', ''), ('4.37', ''), ('1.86', ''), ('4.98', ''), ('4.5', ''), ('1.49', ''), ('4.97', ''), ('2.3', ''), ('4.67', ''), ('2.72', ''), ('3.75', ''), ('1.04', ''), ('2.28', ''), ('3.0', ''), ('0.39', ''), ('2.75', ''), ('4.14', ''), ('2.8', ''), ('0.07', ''), ('0.44', ''), ('1.99', ''), ('1.89', ''), ('4.17', ''), ('2.27', ''), ('1.69', ''), ('1.57', ''), ('2.91', ''), ('2.95', ''), ('3.17', ''), ('1.74', ''), ('3.4', ''), ('0.22', ''), ('3.08', ''), ('1.29', ''), ('2.34', ''), ('2.98', ''), ('2.23', ''), ('4.49', ''), ('3.51', ''), ('0.29', ''), ('4.09', ''), ('4.51', ''), ('2.77', ''), ('1.37', ''), ('1.12', ''), ('4.75', ''), ('3.65', ''), ('1.64', ''), ('3.35', ''), ('1.53', ''), ('0.14', ''), ('2.43', ''), ('1.35', ''), ('3.7', ''), ('4.62', ''), ('3.15', ''), ('4.86', ''), ('4.03', ''), ('0.04', ''), ('4.16', ''), ('4.28', ''), ('1.87', ''), ('2.79', ''), ('3.58', ''), ('3.93', ''), ('4.63', ''), ('2.39', ''), ('3.04', ''), ('4.26', ''), ('4.81', ''), ('0.2', ''), ('4.43', ''), ('3.36', ''), ('4.48', ''), ('1.39', ''), ('3.78', ''), ('0.1', ''), ('3.32', ''), ('3.34', ''), ('3.66', ''), ('3.91', ''), ('4.3', ''), ('3.12', ''), ('2.45', ''), ('4.47', ''), ('2.0', ''), ('3.14', ''), ('2.73', ''), ('4.36', ''), ('4.92', ''), ('3.79', ''), ('2.19', ''), ('3.48', ''), ('2.21', ''), ('1.65', ''), ('4.87', ''), ('2.55', ''), ('3.22', ''), ('4.45', ''), ('2.24', ''), ('3.87', ''), ('4.29', ''), ('1.93', ''), ('4.22', ''), ('4.74', ''), ('4.2', ''), ('1.71', ''), ('4.53', ''), ('2.48', ''), ('3.31', ''), ('3.21', ''), ('3.68', ''), ('3.63', ''), ('3.54', ''), ('3.45', ''), ('3.99', ''), ('2.32', ''), ('4.65', ''), ('4.33', ''), ('2.6', ''), ('3.27', ''), ('4.6', ''), ('4.72', ''), ('4.66', ''), ('4.78', ''), ('3.3', ''), ('4.39', ''), ('4.12', ''), ('2.74', ''), ('2.42', ''), ('3.5', ''), ('4.58', ''), ('4.84', ''), ('3.49', ''), ('4.82', ''), ('3.85', ''), ('4.94', ''), ('3.72', ''), ('4.05', ''), ('3.19', ''), ('2.36', ''), ('4.02', ''), ('4.08', ''), ('1.61', ''), ('3.9', ''), ('3.86', ''), ('4.57', ''), ('4.73', ''), ('3.61', ''), ('4.91', ''), ('3.92', ''), ('4.46', ''), ('4.96', ''), ('3.57', ''), ('2.78', ''), ('3.69', ''), ('4.23', ''), ('4.15', ''), ('2.92', ''), ('4.54', ''), ('4.9', ''), ('3.13', ''), ('4.83', ''), ('2.96', ''), ('4.21', ''), ('4.56', ''), ('4.41', ''), ('4.88', ''), ('3.37', ''), ('4.71', ''), ('4.76', '')], \n",
      "\n",
      "'smoking_status': ['object', ('NA', ''), ('Never', ''), ('Former', ''), ('Current', '')], \n",
      "\n",
      "'drinker': ['object', ('NA', ''), ('Yes', ''), ('No', '')], \n",
      "\n",
      "'excessive_drinker': ['object', ('NA', ''), ('Non-excessive drinker', ''), ('Non-drinker', ''), ('Excessive drinker', '')], \n",
      "\n",
      "'BMI3': ['object', ('Normal', ''), ('NA', ''), ('Overweight', ''), ('Obesity', '')], \n",
      "\n",
      "'depression': ['object', ('NA', ''), ('No', ''), ('Yes', '')], \n",
      "\n",
      "'LTPA_time_total': ['object', ('NA', ''), ('0.0', ''), ('616.0', ''), ('280.0', ''), ('45.5', ''), ('559.5333333333333', ''), ('62.53333333333333', ''), ('84.0', ''), ('462.0', ''), ('578.6666666666667', ''), ('728.0', ''), ('7.0', ''), ('210.0', ''), ('24.5', ''), ('35.7', ''), ('1619.3333333333333', ''), ('387.3333333333333', ''), ('37.333333333333336', ''), ('2391.6666666666665', ''), ('840.0', ''), ('245.0', ''), ('364.0', ''), ('18.666666666666668', ''), ('1295.0', ''), ('91.0', ''), ('42.0', ''), ('147.0', ''), ('1246.0', ''), ('562.3333333333334', ''), ('1241.3333333333337', ''), ('49.0', ''), ('216.53333333333333', ''), ('420.0', ''), ('70.0', ''), ('56.0', ''), ('644.0', ''), ('217.0', ''), ('1596.0', ''), ('2023.0', ''), ('1680.0', ''), ('123.66666666666669', ''), ('133.0', ''), ('672.0', ''), ('1743.0', ''), ('1011.5', ''), ('31.5', ''), ('14.0', ''), ('252.0', ''), ('1484.0', ''), ('203.0', ''), ('60.66666666666666', ''), ('765.3333333333334', ''), ('1547.0', ''), ('63.0', ''), ('2328.6666666666665', ''), ('326.6666666666667', ''), ('2772.0', ''), ('532.0', ''), ('136.5', ''), ('266.0', ''), ('1774.5', ''), ('378.0', ''), ('287.0', ''), ('1120.0', ''), ('343.0', ''), ('38.5', ''), ('522.6666666666666', ''), ('28.0', ''), ('490.0', ''), ('812.0', ''), ('213.5', ''), ('2074.333333333333', ''), ('2215.5', ''), ('126.0', ''), ('140.0', ''), ('952.0', ''), ('220.5', ''), ('9.333333333333334', ''), ('112.0', ''), ('65.33333333333334', ''), ('4.666666666666667', ''), ('1050.0', ''), ('808.5', ''), ('182.0', ''), ('23.33333333333333', ''), ('553.0', ''), ('6822.666666666667', ''), ('1519.0', ''), ('6132.0', ''), ('662.6666666666666', ''), ('746.6666666666666', ''), ('168.0', ''), ('868.0', ''), ('535.2666666666667', ''), ('409.5', ''), ('1176.0', ''), ('1081.5', ''), ('660.3333333333333', ''), ('1470.0', ''), ('945.0', ''), ('1708.0', ''), ('238.0', ''), ('360.5', ''), ('1764.0', ''), ('1815.3333333333333', ''), ('620.6666666666666', ''), ('452.6666666666667', ''), ('749.0', ''), ('9982.0', ''), ('301.0', ''), ('1249.5', ''), ('770.0', ''), ('476.0', ''), ('546.0', ''), ('681.3333333333334', ''), ('987.0', ''), ('882.0', ''), ('294.0', ''), ('637.0', ''), ('8400.0', ''), ('333.6666666666667', ''), ('4704.0', ''), ('16.8', ''), ('172.66666666666666', ''), ('504.0', ''), ('539.0', ''), ('119.0', ''), ('385.0', ''), ('105.0', ''), ('434.0', ''), ('665.0', ''), ('1323.0', ''), ('2520.0', ''), ('441.0', ''), ('197.16666666666669', ''), ('115.5', ''), ('1823.5', ''), ('1736.0', ''), ('322.0', ''), ('1540.0', ''), ('658.0', ''), ('1946.0', ''), ('207.66666666666663', ''), ('189.0', ''), ('345.33333333333337', ''), ('154.0', ''), ('21.0', ''), ('623.0', ''), ('2607.5', ''), ('35.0', ''), ('900.6666666666666', ''), ('802.6666666666667', ''), ('854.0', ''), ('184.33333333333331', ''), ('1890.0', ''), ('2436.0', ''), ('1225.0', ''), ('315.0', ''), ('784.0', ''), ('129.5', ''), ('196.0', ''), ('67.66666666666667', ''), ('156.33333333333334', ''), ('590.3333333333334', ''), ('1848.0', ''), ('466.6666666666667', ''), ('109.66666666666669', ''), ('2702.0', ''), ('289.3333333333333', ''), ('630.0', ''), ('583.3333333333333', ''), ('455.0', ''), ('121.33333333333331', ''), ('1078.0', ''), ('693.0', ''), ('1264.6666666666667', ''), ('178.5', ''), ('1092.0', ''), ('3388.0', ''), ('2408.0', ''), ('308.0', ''), ('231.0', ''), ('602.0', ''), ('224.0', ''), ('896.0', ''), ('402.5', ''), ('242.66666666666663', ''), ('73.5', ''), ('371.0', ''), ('1806.0', ''), ('4788.0', ''), ('199.5', ''), ('1260.0', ''), ('847.0', ''), ('3518.6666666666665', ''), ('406.0', ''), ('56.46666666666667', ''), ('389.6666666666667', ''), ('1386.0', ''), ('700.0', ''), ('399.0', ''), ('158.66666666666666', ''), ('518.0', ''), ('437.5', ''), ('8080.333333333333', ''), ('392.0', ''), ('273.0', ''), ('94.5', ''), ('1134.0', ''), ('1428.0', ''), ('87.5', ''), ('591.5', ''), ('777.0', ''), ('137.66666666666666', ''), ('1302.0', ''), ('511.0', ''), ('1318.3333333333333', ''), ('2044.0', ''), ('756.0', ''), ('289.33333333333337', ''), ('973.0', ''), ('3360.0', ''), ('1565.6666666666667', ''), ('980.0', ''), ('6223.0', ''), ('826.0', ''), ('2072.0', ''), ('938.0', ''), ('357.0', ''), ('261.3333333333333', ''), ('4200.0', ''), ('1316.0', ''), ('1988.0', ''), ('1218.0', ''), ('5054.0', ''), ('959.0', ''), ('4725.0', ''), ('1981.0', ''), ('175.0', ''), ('829.5', ''), ('2646.0', ''), ('994.0', ''), ('2201.5', ''), ('448.0', ''), ('525.0', ''), ('164.5', ''), ('560.0', ''), ('2590.0', ''), ('256.6666666666667', ''), ('1183.0', ''), ('15.866666666666667', ''), ('668.5', ''), ('567.0', ''), ('1400.0', ''), ('1652.0', ''), ('1190.0', ''), ('110.83333333333331', ''), ('1855.0', ''), ('443.3333333333333', ''), ('108.5', ''), ('46.66666666666666', ''), ('574.0', ''), ('5684.0', ''), ('1150.3333333333333', ''), ('75.83333333333333', ''), ('424.6666666666667', ''), ('144.66666666666666', ''), ('1288.0', ''), ('7252.0', ''), ('2114.0', ''), ('191.33333333333331', ''), ('1309.0', ''), ('101.5', ''), ('606.6666666666666', ''), ('732.6666666666666', ''), ('92.16666666666669', ''), ('32.666666666666664', ''), ('798.0', ''), ('336.0', ''), ('58.333333333333336', ''), ('247.3333333333333', ''), ('380.3333333333333', ''), ('33.13333333333333', ''), ('1512.0', ''), ('3808.0', ''), ('255.5', ''), ('962.5', ''), ('3024.0', ''), ('25.666666666666668', ''), ('1363.6', ''), ('2249.333333333333', ''), ('1603.0', ''), ('1162.0', ''), ('1799.0', ''), ('3143.0', ''), ('742.0', ''), ('651.0', ''), ('149.33333333333334', ''), ('759.5', ''), ('550.6666666666666', ''), ('487.6666666666667', ''), ('331.3333333333333', ''), ('609.0', ''), ('79.33333333333333', ''), ('833.0', ''), ('1872.5', ''), ('98.0', ''), ('924.0', ''), ('588.0', ''), ('171.5', ''), ('325.5', ''), ('2968.0', ''), ('597.3333333333334', ''), ('1493.3333333333333', ''), ('99.16666666666669', ''), ('875.0', ''), ('1638.0', ''), ('641.2', ''), ('1362.6666666666667', ''), ('5096.0', ''), ('1039.5', ''), ('697.6666666666666', ''), ('3066.0', ''), ('2151.333333333333', ''), ('284.6666666666667', ''), ('150.5', ''), ('1827.0', ''), ('595.0', ''), ('11.666666666666666', ''), ('763.0', ''), ('198.33333333333331', ''), ('218.16666666666663', ''), ('1841.0', ''), ('2.333333333333333', ''), ('332.5', ''), ('2856.0', ''), ('2632.0', ''), ('146.76666666666668', ''), ('46.66666666666667', ''), ('1274.0', ''), ('298.6666666666667', ''), ('352.3333333333333', ''), ('1113.0', ''), ('4263.0', ''), ('816.6666666666666', ''), ('1155.0', ''), ('1666.0', ''), ('966.0', ''), ('1064.0', ''), ('5040.0', ''), ('714.0', ''), ('303.3333333333333', ''), ('3416.0', ''), ('940.3333333333334', ''), ('107.33333333333331', ''), ('2184.0', ''), ('2303.0', ''), ('1008.0', ''), ('1393.0', ''), ('350.0', ''), ('179.66666666666666', ''), ('3500.0', ''), ('54.833333333333336', ''), ('173.83333333333334', ''), ('142.33333333333334', ''), ('163.33333333333334', ''), ('1647.3333333333333', ''), ('1211.0', ''), ('1216.8333333333333', ''), ('1358.0', ''), ('1016.1666666666666', ''), ('1031.3333333333337', ''), ('2457.0', ''), ('318.5', ''), ('319.66666666666663', ''), ('151.66666666666666', ''), ('3262.0', ''), ('3140.6666666666665', ''), ('130.66666666666669', ''), ('605.5', ''), ('735.0', ''), ('275.3333333333333', ''), ('704.6666666666667', ''), ('1048.8333333333333', ''), ('269.5', ''), ('721.0', ''), ('2027.6666666666667', ''), ('10.5', ''), ('241.5', ''), ('1785.0', ''), ('483.0', ''), ('711.6666666666666', ''), ('177.33333333333334', ''), ('268.3333333333333', ''), ('3563.0', ''), ('438.6666666666667', ''), ('422.3333333333333', ''), ('285.83333333333337', ''), ('296.3333333333333', ''), ('1974.0', ''), ('93.33333333333331', ''), ('206.5', ''), ('1379.0', ''), ('450.3333333333333', ''), ('877.3333333333334', ''), ('1298.5', ''), ('1197.0', ''), ('2163.0', ''), ('1955.3333333333333', ''), ('227.5', ''), ('122.5', ''), ('1068.6666666666667', ''), ('5651.333333333333', ''), ('285.8333333333333', ''), ('128.33333333333334', ''), ('1313.6666666666667', ''), ('2319.333333333333', ''), ('74.66666666666667', ''), ('2121.0', ''), ('93.33333333333334', ''), ('1365.0', ''), ('23.333333333333336', ''), ('373.3333333333333', ''), ('1344.0', ''), ('335.53333333333336', ''), ('1792.0', ''), ('52.5', ''), ('3696.0', ''), ('3304.0', ''), ('1043.0', ''), ('3.5', ''), ('2100.0', ''), ('506.3333333333333', ''), ('627.6666666666666', ''), ('1904.0', ''), ('1232.0', ''), ('317.3333333333333', ''), ('232.16666666666663', ''), ('6412.0', ''), ('51.33333333333333', ''), ('205.1', ''), ('1106.0', ''), ('1885.3333333333333', ''), ('17.5', ''), ('2515.333333333333', ''), ('555.3333333333334', ''), ('819.0', ''), ('1893.5', ''), ('485.3333333333333', ''), ('1073.3333333333333', ''), ('1060.5', ''), ('5796.0', ''), ('1820.0', ''), ('631.4', ''), ('77.0', ''), ('88.66666666666667', ''), ('1477.0', ''), ('5572.0', ''), ('305.66666666666663', ''), ('2366.0', ''), ('1435.0', ''), ('283.5', ''), ('1407.0', ''), ('1372.0', ''), ('470.4', ''), ('10868.666666666666', ''), ('871.5', ''), ('30.33333333333333', ''), ('81.66666666666667', ''), ('696.5', ''), ('394.3333333333333', ''), ('1456.0', ''), ('401.3333333333333', ''), ('494.6666666666667', ''), ('59.5', ''), ('161.0', ''), ('4956.0', ''), ('3570.0', ''), ('20.53333333333333', ''), ('2426.6666666666665', ''), ('774.6666666666666', ''), ('3458.0', ''), ('408.3333333333333', ''), ('430.5', ''), ('2683.333333333333', ''), ('471.3333333333333', ''), ('928.6666666666666', ''), ('1055.1333333333334', ''), ('541.3333333333333', ''), ('424.6666666666666', ''), ('3325.0', ''), ('1659.0', ''), ('997.5', ''), ('329.0', ''), ('957.6', ''), ('200.66666666666663', ''), ('725.6666666666666', ''), ('288.16666666666663', ''), ('442.1666666666666', ''), ('2376.5', ''), ('423.5', ''), ('2352.0', ''), ('1568.0', ''), ('1694.0', ''), ('592.6666666666666', ''), ('54.6', ''), ('107.33333333333334', ''), ('260.8666666666667', ''), ('1498.0', ''), ('2916.6666666666665', ''), ('2128.0', ''), ('368.6666666666667', ''), ('625.3333333333334', ''), ('416.5', ''), ('11.2', ''), ('2639.0', ''), ('639.3333333333333', ''), ('247.33333333333331', ''), ('427.0', ''), ('905.3333333333334', ''), ('1422.4', ''), ('1067.5', ''), ('494.6666666666666', ''), ('1773.3333333333333', ''), ('3528.0', ''), ('509.8333333333333', ''), ('1351.0', ''), ('418.8333333333333', ''), ('186.66666666666669', ''), ('57.4', ''), ('569.3333333333334', ''), ('348.8333333333333', ''), ('858.6666666666666', ''), ('194.83333333333331', ''), ('931.0', ''), ('167.53333333333333', ''), ('240.33333333333331', ''), ('39.66666666666666', ''), ('1029.0', ''), ('114.33333333333331', ''), ('548.8', ''), ('102.66666666666669', ''), ('13.066666666666666', ''), ('758.3333333333334', ''), ('2220.1666666666665', ''), ('134.16666666666666', ''), ('864.5', ''), ('16.333333333333332', ''), ('1069.8333333333333', ''), ('259.0', ''), ('114.33333333333334', ''), ('578.6666666666666', ''), ('2478.0', ''), ('2501.8', ''), ('2548.0', ''), ('212.3333333333333', ''), ('2283.633333333333', ''), ('581.0', ''), ('891.3333333333334', ''), ('165.66666666666666', ''), ('1778.0', ''), ('2188.6666666666665', ''), ('989.3333333333331', ''), ('515.6666666666667', ''), ('319.6666666666667', ''), ('53.66666666666666', ''), ('1879.5', ''), ('709.3333333333334', ''), ('3080.0', ''), ('22.166666666666668', ''), ('413.0', ''), ('941.5', ''), ('1418.6666666666667', ''), ('3328.5', ''), ('2730.0', ''), ('157.5', ''), ('410.6666666666667', ''), ('2314.6666666666665', ''), ('458.5', ''), ('469.0', ''), ('2142.0', ''), ('536.6666666666666', ''), ('297.5', ''), ('611.3333333333334', ''), ('910.0', ''), ('3439.333333333333', ''), ('10.266666666666667', ''), ('1089.6666666666667', ''), ('1838.6666666666667', ''), ('1536.5', ''), ('205.33333333333331', ''), ('1017.3333333333334', ''), ('641.6666666666666', ''), ('2940.0', ''), ('4428.666666666667', ''), ('435.1666666666666', ''), ('1036.0', ''), ('2422.0', ''), ('627.6666666666667', ''), ('290.5', ''), ('429.3333333333333', ''), ('686.0', ''), ('39.66666666666667', ''), ('1421.0', ''), ('584.5', ''), ('403.6666666666667', ''), ('200.2', ''), ('724.5', ''), ('4340.0', ''), ('268.33333333333337', ''), ('367.5', ''), ('3705.3333333333335', ''), ('382.6666666666667', ''), ('11.666666666666668', ''), ('702.3333333333333', ''), ('1022.0', ''), ('8823.5', ''), ('5880.0', ''), ('707.0', ''), ('12180.0', ''), ('493.5', ''), ('497.0', ''), ('1228.5', ''), ('492.33333333333337', ''), ('1099.0', ''), ('561.1666666666666', ''), ('326.66666666666663', ''), ('2058.0', ''), ('1724.3333333333333', ''), ('598.5', ''), ('4228.0', ''), ('690.6666666666667', ''), ('5358.5', ''), ('648.6666666666667', ''), ('5012.0', ''), ('2343.833333333333', ''), ('683.6666666666667', ''), ('51.333333333333336', ''), ('1725.5', ''), ('214.66666666666663', ''), ('2117.5', ''), ('1862.0', ''), ('1353.3333333333333', ''), ('2345.0', ''), ('549.5', ''), ('208.83333333333331', ''), ('6741.0', ''), ('212.33333333333331', ''), ('282.33333333333337', ''), ('1530.2', ''), ('1740.6666666666667', ''), ('312.6666666666667', ''), ('3780.0', ''), ('276.5', ''), ('1722.0', ''), ('1215.6666666666667', ''), ('2440.6666666666665', ''), ('249.66666666666663', ''), ('5964.0', ''), ('277.6666666666667', ''), ('4260.666666666667', ''), ('10164.0', ''), ('127.16666666666669', ''), ('1640.3333333333333', ''), ('1960.0', ''), ('64.16666666666667', ''), ('509.6', ''), ('3321.5', ''), ('5390.0', ''), ('648.6666666666666', ''), ('1750.0', ''), ('2086.0', ''), ('2593.5', ''), ('1578.5', ''), ('1822.3333333333333', ''), ('361.6666666666667', ''), ('1337.0', ''), ('262.5', ''), ('143.5', ''), ('1932.0', ''), ('3710.0', ''), ('1253.0', ''), ('688.3333333333334', ''), ('2394.0', ''), ('917.0', ''), ('272.53333333333336', ''), ('304.5', ''), ('130.66666666666666', ''), ('653.3333333333333', ''), ('654.5', ''), ('2282.0', ''), ('2744.0', ''), ('470.1666666666667', ''), ('353.5', ''), ('1768.6666666666667', ''), ('3593.333333333333', ''), ('683.6666666666666', ''), ('3150.0', ''), ('838.8333333333334', ''), ('2716.0', ''), ('1701.0', ''), ('215.13333333333333', ''), ('116.66666666666669', ''), ('1771.0', ''), ('1460.6666666666667', ''), ('82.83333333333333', ''), ('2296.0', ''), ('7168.0', ''), ('9061.5', ''), ('934.5', ''), ('211.16666666666663', ''), ('681.3333333333333', ''), ('11980.5', ''), ('6888.0', ''), ('3633.0', ''), ('1194.6666666666667', ''), ('1281.0', ''), ('889.0', ''), ('4648.0', ''), ('2800.0', ''), ('228.66666666666663', ''), ('1465.3333333333333', ''), ('1374.3333333333333', ''), ('345.3333333333333', ''), ('1409.3333333333333', ''), ('5600.0', ''), ('3934.0', ''), ('465.5', ''), ('737.3333333333334', ''), ('2564.333333333333', ''), ('2373.0', ''), ('2884.0', ''), ('2268.0', ''), ('1395.3333333333333', ''), ('1526.0', ''), ('192.5', ''), ('1148.0', ''), ('793.3333333333334', ''), ('717.5', ''), ('1066.3333333333333', ''), ('135.33333333333334', ''), ('927.5', ''), ('2002.0', ''), ('968.3333333333334', ''), ('3206.0', ''), ('535.5', ''), ('152.83333333333334', ''), ('233.33333333333331', ''), ('7294.0', ''), ('2758.0', ''), ('2565.5', ''), ('106.16666666666669', ''), ('1396.5', ''), ('124.83333333333331', ''), ('791.0', ''), ('505.1666666666666', ''), ('1074.7333333333331', ''), ('805.0', ''), ('6381.666666666667', ''), ('2156.0', ''), ('65.33333333333333', ''), ('925.4', ''), ('1411.6666666666667', ''), ('354.66666666666663', ''), ('439.8333333333333', ''), ('120.16666666666666', ''), ('7140.0', ''), ('1242.5', ''), ('1046.5', ''), ('2016.0', ''), ('186.66666666666663', ''), ('3836.0', ''), ('499.3333333333333', ''), ('842.3333333333334', ''), ('4363.333333333333', ''), ('158.66666666666669', ''), ('2107.0', ''), ('4620.0', ''), ('187.8333333333333', ''), ('2534.0', ''), ('3318.0', ''), ('3584.0', ''), ('1994.5333333333333', ''), ('1554.0', ''), ('219.3333333333333', ''), ('1059.3333333333337', ''), ('1533.0', ''), ('613.6666666666666', ''), ('6933.5', ''), ('1705.6666666666667', ''), ('577.5', ''), ('836.5', ''), ('3010.0', ''), ('2221.333333333333', ''), ('100.33333333333331', ''), ('2697.333333333333', ''), ('457.3333333333333', ''), ('775.8333333333334', ''), ('8080.8', ''), ('415.3333333333333', ''), ('3451.0', ''), ('5418.0', ''), ('1626.3333333333333', ''), ('533.1666666666666', ''), ('396.6666666666667', ''), ('520.3333333333334', ''), ('298.66666666666663', ''), ('2597.0', ''), ('1285.6666666666667', ''), ('4858.0', ''), ('2870.0', ''), ('66.5', ''), ('1431.5', ''), ('8186.5', ''), ('2240.0', ''), ('835.3333333333333', ''), ('2216.666666666667', ''), ('2523.5', ''), ('1829.3333333333333', ''), ('159.6', ''), ('359.33333333333337', ''), ('844.6666666666667', ''), ('1204.0', ''), ('642.8333333333334', ''), ('861.0', ''), ('1838.6666666666663', ''), ('821.3333333333334', ''), ('2429.0', ''), ('501.6666666666667', ''), ('346.5', ''), ('2663.5', ''), ('477.1666666666667', ''), ('2604.0', ''), ('3766.0', ''), ('486.5', ''), ('534.3333333333334', ''), ('2222.5', ''), ('44.333333333333336', ''), ('1558.6666666666667', ''), ('219.33333333333331', ''), ('955.5', ''), ('739.6666666666666', ''), ('1442.0', ''), ('4074.0', ''), ('1690.5', ''), ('970.6666666666666', ''), ('2093.0', ''), ('1001.0', ''), ('179.66666666666669', ''), ('4844.0', ''), ('4419.333333333333', ''), ('603.1666666666667', ''), ('1143.3333333333333', ''), ('2828.0', ''), ('3542.0', ''), ('561.4000000000001', ''), ('575.1666666666667', ''), ('507.5', ''), ('479.5', ''), ('234.5', ''), ('837.6666666666666', ''), ('7560.0', ''), ('12740.0', ''), ('2226.0', ''), ('726.8333333333334', ''), ('131.36666666666667', ''), ('1759.3333333333333', ''), ('3850.0', ''), ('270.66666666666663', ''), ('359.3333333333333', ''), ('2005.5', ''), ('1582.0', ''), ('229.8333333333333', ''), ('679.0', ''), ('913.5', ''), ('1852.6666666666667', ''), ('5488.0', ''), ('2389.333333333333', ''), ('3906.0', ''), ('2158.333333333333', ''), ('2324.0', ''), ('1136.3333333333333', ''), ('2492.0', ''), ('682.5', ''), ('410.6666666666666', ''), ('4090.3333333333335', ''), ('337.16666666666663', ''), ('1939.0', ''), ('4172.0', ''), ('1572.6666666666667', ''), ('263.6666666666667', ''), ('1911.0', ''), ('562.3333333333333', ''), ('4984.0', ''), ('2338.0', ''), ('311.5', ''), ('7490.0', ''), ('268.1', ''), ('2669.333333333333', ''), ('2919.0', ''), ('802.6666666666666', ''), ('1796.6666666666667', ''), ('1127.0', ''), ('200.66666666666669', ''), ('702.3333333333334', ''), ('1964.6666666666667', ''), ('2720.6666666666665', ''), ('2079.0', ''), ('2377.666666666667', ''), ('3220.0', ''), ('233.3333333333333', ''), ('499.33333333333337', ''), ('2636.666666666667', ''), ('166.83333333333334', ''), ('1894.6666666666667', ''), ('204.86666666666667', ''), ('738.5', ''), ('3087.0', ''), ('3000.6666666666665', ''), ('1866.6666666666667', ''), ('1117.6666666666663', ''), ('1447.8333333333333', ''), ('850.5', ''), ('1837.5', ''), ('514.5', ''), ('659.1666666666666', ''), ('1221.5', ''), ('1836.3333333333333', ''), ('226.33333333333331', ''), ('425.3666666666667', ''), ('3864.0', ''), ('480.6666666666667', ''), ('590.8', ''), ('305.6666666666667', ''), ('256.66666666666663', ''), ('235.66666666666663', ''), ('341.83333333333337', ''), ('4368.0', ''), ('676.6666666666666', ''), ('106.16666666666666', ''), ('272.76666666666665', ''), ('716.3333333333333', ''), ('3598.0', ''), ('2734.6666666666665', ''), ('921.6666666666666', ''), ('16.333333333333336', ''), ('6769.0', ''), ('500.5', ''), ('466.6666666666666', ''), ('653.3333333333334', ''), ('1057.0', ''), ('2926.0', ''), ('1780.3333333333333', ''), ('198.3333333333333', ''), ('1494.5', ''), ('1444.3333333333333', ''), ('508.6666666666667', ''), ('1169.0', ''), ('3745.0', ''), ('807.3333333333334', ''), ('7700.0', ''), ('919.3333333333334', ''), ('3724.0', ''), ('513.3333333333334', ''), ('1781.5', ''), ('1156.1666666666663', ''), ('1189.5333333333333', ''), ('969.5', ''), ('3397.333333333333', ''), ('750.8666666666667', ''), ('1241.3333333333333', ''), ('752.5', ''), ('3556.0', ''), ('340.66666666666663', ''), ('2283.1666666666665', ''), ('736.1666666666666', ''), ('240.8', ''), ('257.8333333333333', ''), ('1703.3333333333333', ''), ('1390.6666666666663', ''), ('1738.3333333333333', ''), ('1250.6666666666667', ''), ('197.16666666666663', ''), ('12.833333333333334', ''), ('316.1666666666667', ''), ('797.5333333333333', ''), ('2842.0', ''), ('185.5', ''), ('1278.6666666666663', ''), ('844.6666666666666', ''), ('528.5', ''), ('337.4', ''), ('1290.3333333333333', ''), ('4095.0', ''), ('413.9333333333333', ''), ('3619.0', ''), ('828.3333333333334', ''), ('2566.666666666667', ''), ('1003.3333333333334', ''), ('270.6666666666667', ''), ('4295.666666666666', ''), ('473.6666666666667', ''), ('3682.0', ''), ('4288.666666666667', ''), ('715.1666666666666', ''), ('1239.0', ''), ('1267.0', ''), ('1173.6666666666663', ''), ('19.6', ''), ('2835.0', ''), ('395.5', ''), ('737.3333333333333', ''), ('3654.0', ''), ('3371.6666666666665', ''), ('1682.3333333333337', ''), ('162.16666666666666', ''), ('291.6666666666667', ''), ('1047.6666666666667', ''), ('1876.0', ''), ('102.66666666666666', ''), ('1624.0', ''), ('960.1666666666666', ''), ('745.5', ''), ('3108.0', ''), ('2310.0', ''), ('170.8', ''), ('795.6666666666666', ''), ('525.7', ''), ('204.16666666666669', ''), ('221.66666666666663', ''), ('306.8333333333333', ''), ('2006.6666666666667', ''), ('215.8333333333333', ''), ('3787.0', ''), ('6377.0', ''), ('4277.0', ''), ('795.6666666666667', ''), ('135.33333333333331', ''), ('339.5', ''), ('604.3333333333334', ''), ('278.83333333333337', ''), ('1617.0', ''), ('108.26666666666668', ''), ('914.6666666666666', ''), ('1071.0', ''), ('446.8333333333333', ''), ('942.6666666666666', ''), ('2618.0', ''), ('2212.0', ''), ('2000.8333333333333', ''), ('3423.0', ''), ('138.83333333333334', ''), ('1414.0', ''), ('2569.0', ''), ('2170.0', ''), ('58.33333333333333', ''), ('2096.5', ''), ('50.4', ''), ('3444.0', ''), ('4165.0', ''), ('1908.6666666666667', ''), ('3605.0', ''), ('495.83333333333337', ''), ('689.5', ''), ('4760.0', ''), ('29.166666666666668', ''), ('803.8333333333333', ''), ('3271.333333333333', ''), ('1654.3333333333333', ''), ('50.16666666666666', ''), ('690.6666666666666', ''), ('3164.0', ''), ('4662.0', ''), ('1110.6666666666663', ''), ('381.5', ''), ('1801.3333333333333', ''), ('5630.333333333333', ''), ('418.1333333333333', ''), ('3227.0', ''), ('571.6666666666667', ''), ('564.6666666666667', ''), ('254.33333333333331', ''), ('788.6666666666666', ''), ('521.5', ''), ('257.6', ''), ('397.83333333333337', ''), ('116.66666666666666', ''), ('1575.0', ''), ('1825.8333333333333', ''), ('639.8', ''), ('1834.0', ''), ('245.9333333333333', ''), ('1171.3333333333333', ''), ('2737.0', ''), ('4242.0', ''), ('12.133333333333333', ''), ('1597.1666666666667', ''), ('823.6666666666666', ''), ('457.33333333333337', ''), ('786.3333333333334', ''), ('639.3333333333334', ''), ('1491.0', ''), ('3626.0', ''), ('1561.0', ''), ('248.5', ''), ('348.83333333333337', ''), ('903.0', ''), ('8442.0', ''), ('948.5', ''), ('2123.333333333333', ''), ('191.3333333333333', ''), ('1782.6666666666667', ''), ('204.16666666666663', ''), ('388.5', ''), ('661.5', ''), ('2030.0', ''), ('772.3333333333334', ''), ('1417.5', ''), ('2954.0', ''), ('443.33333333333337', ''), ('19.83333333333333', ''), ('2401.0', ''), ('1610.0', ''), ('333.66666666666663', ''), ('884.3333333333333', ''), ('1349.6', ''), ('374.5', ''), ('4004.0', ''), ('32.66666666666667', ''), ('296.33333333333337', ''), ('2146.6666666666665', ''), ('765.3333333333333', ''), ('674.3333333333333', ''), ('366.3333333333333', ''), ('1025.5', ''), ('522.6666666666667', ''), ('571.6666666666666', ''), ('365.1666666666666', ''), ('282.3333333333333', ''), ('2527.0', ''), ('415.33333333333337', ''), ('1978.6666666666667', ''), ('331.33333333333337', ''), ('15736.0', ''), ('1084.7666666666669', ''), ('3432.8', ''), ('542.5', ''), ('1103.6666666666663', ''), ('5885.6', ''), ('558.8333333333334', ''), ('939.1666666666666', ''), ('949.6666666666666', ''), ('175.7', ''), ('1887.6666666666663', ''), ('2174.6666666666665', ''), ('4229.166666666667', ''), ('324.33333333333337', ''), ('4382.0', ''), ('978.8333333333331', ''), ('347.6666666666667', ''), ('1983.3333333333333', ''), ('996.3333333333331', ''), ('79.33333333333334', ''), ('3773.0', ''), ('134.86666666666667', ''), ('155.16666666666666', ''), ('1668.3333333333337', ''), ('264.8333333333333', ''), ('79.8', ''), ('436.3333333333333', ''), ('1141.0', ''), ('2583.0', ''), ('1166.6666666666667', ''), ('1913.3333333333333', ''), ('1564.5', ''), ('74.66666666666666', ''), ('1277.5', ''), ('3622.5', ''), ('1059.3333333333333', ''), ('154.93333333333334', ''), ('142.33333333333331', ''), ('214.66666666666669', ''), ('863.3333333333334', ''), ('2048.6666666666665', ''), ('2080.166666666667', ''), ('814.3333333333334', ''), ('1159.6666666666667', ''), ('593.8333333333334', ''), ('4116.0', ''), ('2671.6666666666665', ''), ('1215.6666666666663', ''), ('1054.6666666666667', ''), ('2688.0', ''), ('629.7666666666667', ''), ('65.56666666666666', ''), ('557.6666666666666', ''), ('6300.0', ''), ('1270.5', ''), ('72.33333333333333', ''), ('221.66666666666669', ''), ('215.83333333333331', ''), ('558.8333333333333', ''), ('920.5', ''), ('310.33333333333337', ''), ('2797.6666666666665', ''), ('5936.0', ''), ('4746.0', ''), ('474.8333333333333', ''), ('1795.5', ''), ('324.3333333333333', ''), ('1449.0', ''), ('599.6666666666667', ''), ('4830.0', ''), ('564.6666666666666', ''), ('2999.5', ''), ('975.3333333333331', ''), ('675.5', ''), ('128.33333333333331', ''), ('169.16666666666669', ''), ('569.3333333333333', ''), ('431.6666666666667', ''), ('933.3333333333334', ''), ('1015.0', ''), ('661.7333333333333', ''), ('389.6666666666666', ''), ('634.6666666666666', ''), ('865.6666666666666', ''), ('6440.0', ''), ('400.1666666666667', ''), ('80.5', ''), ('3640.0', ''), ('800.3333333333333', ''), ('1844.5', ''), ('2191.0', ''), ('2450.0', ''), ('2471.0', ''), ('8484.0', ''), ('4701.666666666667', ''), ('1180.6666666666667', ''), ('674.3333333333334', ''), ('1897.0', ''), ('1745.3333333333333', ''), ('647.5', ''), ('633.5', ''), ('694.1666666666667', ''), ('4284.0', ''), ('1549.3333333333333', ''), ('625.3333333333333', ''), ('3047.333333333333', ''), ('708.1666666666666', ''), ('68.83333333333333', ''), ('2914.333333333333', ''), ('1918.0', ''), ('1796.6666666666663', ''), ('4111.333333333333', ''), ('2443.0', ''), ('272.5333333333333', ''), ('4876.666666666666', ''), ('205.3333333333333', ''), ('789.8333333333333', ''), ('667.3333333333334', ''), ('487.6666666666666', ''), ('14868.0', ''), ('718.6666666666666', ''), ('180.13333333333333', ''), ('151.66666666666669', ''), ('3248.0', ''), ('498.1666666666667', ''), ('131.83333333333334', ''), ('354.6666666666667', ''), ('1997.3333333333333', ''), ('1306.6666666666667', ''), ('184.3333333333333', ''), ('527.3333333333334', ''), ('3122.0', ''), ('1040.6666666666667', ''), ('722.1666666666667', ''), ('3192.0', ''), ('352.33333333333337', ''), ('751.3333333333334', ''), ('704.6666666666666', ''), ('1388.3333333333333', ''), ('358.1666666666667', ''), ('991.6666666666666', ''), ('57.86666666666666', ''), ('1740.6666666666663', ''), ('10080.0', ''), ('43.16666666666667', ''), ('401.8', ''), ('851.6666666666667', ''), ('1219.1666666666667', ''), ('610.1666666666666', ''), ('956.6666666666666', ''), ('6104.0', ''), ('2728.833333333333', ''), ('1236.6666666666667', ''), ('1070.7666666666669', ''), ('2271.5', ''), ('466.2', ''), ('1095.5', ''), ('188.0666666666667', ''), ('100.33333333333334', ''), ('1766.3333333333333', ''), ('9324.0', ''), ('563.5', ''), ('3738.0', ''), ('1563.3333333333337', ''), ('445.6666666666667', ''), ('261.33333333333337', ''), ('30.333333333333336', ''), ('4232.666666666666', ''), ('375.6666666666667', ''), ('113.16666666666669', ''), ('122.73333333333332', ''), ('2387.0', ''), ('915.8333333333334', ''), ('1023.1666666666669', ''), ('536.6666666666667', ''), ('716.3333333333334', ''), ('193.66666666666663', ''), ('988.4', ''), ('655.6666666666666', ''), ('1488.6666666666667', ''), ('4718.0', ''), ('5481.0', ''), ('40.833333333333336', ''), ('872.6666666666666', ''), ('1129.3333333333337', ''), ('1507.3333333333333', ''), ('177.33333333333331', ''), ('1201.2', ''), ('2506.0', ''), ('229.83333333333331', ''), ('106.86666666666666', ''), ('2912.0', ''), ('6279.0', ''), ('312.66666666666663', ''), ('730.3333333333333', ''), ('1747.6666666666667', ''), ('459.6666666666667', ''), ('1360.3333333333333', ''), ('2135.0', ''), ('2905.0', ''), ('1178.3333333333333', ''), ('4478.833333333333', ''), ('2349.6666666666665', ''), ('584.2666666666667', ''), ('299.8333333333333', ''), ('4312.0', ''), ('1045.3333333333333', ''), ('548.3333333333333', ''), ('3509.333333333333', ''), ('766.5', ''), ('964.8333333333331', ''), ('2202.6666666666665', ''), ('3283.0', ''), ('4970.0', ''), ('935.6666666666666', ''), ('103.83333333333331', ''), ('1117.6666666666667', ''), ('576.3333333333334', ''), ('758.3333333333333', ''), ('372.4', ''), ('2489.6666666666665', ''), ('1481.6666666666667', ''), ('954.3333333333334', ''), ('3042.666666666667', ''), ('1082.6666666666667', ''), ('1206.8', ''), ('2380.0', ''), ('3381.0', ''), ('1726.6666666666667', ''), ('1019.6666666666669', ''), ('984.6666666666666', ''), ('396.6666666666666', ''), ('645.1666666666667', ''), ('1953.0', ''), ('527.3333333333333', ''), ('2025.3333333333333', ''), ('3493.0', ''), ('4935.0', ''), ('1689.3333333333333', ''), ('2293.6666666666665', ''), ('857.5', ''), ('1585.5', ''), ('89.83333333333333', ''), ('165.2', ''), ('1424.5', ''), ('1163.1666666666667', ''), ('3203.6666666666665', ''), ('1110.6666666666667', ''), ('2898.0', ''), ('6461.0', ''), ('2198.0', ''), ('4979.333333333334', ''), ('3885.0', ''), ('663.8333333333333', ''), ('2321.2', ''), ('523.8333333333334', ''), ('1129.3333333333333', ''), ('6290.666666666667', ''), ('701.1666666666666', ''), ('695.3333333333334', ''), ('2286.6666666666665', ''), ('618.3333333333334', ''), ('2936.5', ''), ('612.5', ''), ('285.1333333333333', ''), ('145.83333333333334', ''), ('541.3333333333334', ''), ('78.16666666666666', ''), ('1389.5', ''), ('543.6666666666667', ''), ('3276.0', ''), ('779.3333333333334', ''), ('926.3333333333334', ''), ('100.56666666666666', ''), ('1507.3333333333337', ''), ('2431.333333333333', ''), ('161.93333333333334', ''), ('2996.0', ''), ('1552.8333333333333', ''), ('25.666666666666664', ''), ('236.83333333333331', ''), ('1920.3333333333333', ''), ('828.1', ''), ('2331.0', ''), ('1992.6666666666667', ''), ('239.63333333333333', ''), ('6419.0', ''), ('3297.0', ''), ('1363.8333333333333', ''), ('249.66666666666669', ''), ('908.8333333333334', ''), ('3378.6666666666665', ''), ('2576.0', ''), ('2254.0', ''), ('705.8333333333334', ''), ('252.46666666666664', ''), ('892.5', ''), ('1418.6666666666663', ''), ('5124.0', ''), ('563.2666666666667', ''), ('767.6666666666667', ''), ('919.3333333333331', ''), ('1185.3333333333337', ''), ('452.6666666666666', ''), ('850.7333333333333', ''), ('153.53333333333333', ''), ('646.3333333333334', ''), ('961.3333333333334', ''), ('1390.6666666666667', ''), ('2653.0', ''), ('444.5', ''), ('638.1666666666667', ''), ('168.46666666666667', ''), ('781.6666666666666', ''), ('417.6666666666667', ''), ('2872.333333333333', ''), ('1026.6666666666667', ''), ('1604.1666666666667', ''), ('4410.0', ''), ('843.5', ''), ('2378.833333333333', ''), ('1439.6666666666667', ''), ('568.1666666666666', ''), ('4109.0', ''), ('59.73333333333333', ''), ('2779.0', ''), ('144.66666666666669', ''), ('597.3333333333333', ''), ('275.33333333333337', ''), ('3591.0', ''), ('1094.3333333333337', ''), ('1467.6666666666667', ''), ('1330.0', ''), ('583.3333333333334', ''), ('1068.6666666666663', ''), ('640.5', ''), ('2814.0', ''), ('97.53333333333332', ''), ('556.5', ''), ('3948.0', ''), ('1726.6666666666663', ''), ('754.1333333333333', ''), ('982.3333333333334', ''), ('1995.0', ''), ('1857.3333333333333', ''), ('88.66666666666666', ''), ('218.4', ''), ('1031.3333333333333', ''), ('302.4', ''), ('667.3333333333333', ''), ('95.66666666666669', ''), ('718.6666666666667', ''), ('310.3333333333333', ''), ('998.6666666666666', ''), ('267.16666666666663', ''), ('2513.0', ''), ('3472.0', ''), ('15.166666666666666', ''), ('3857.0', ''), ('773.5', ''), ('1631.0', ''), ('1816.5', ''), ('44.8', ''), ('1103.6666666666667', ''), ('347.66666666666663', ''), ('320.8333333333333', ''), ('1968.8666666666668', ''), ('477.8666666666667', ''), ('2040.5', ''), ('47.833333333333336', ''), ('2541.0', ''), ('149.33333333333331', ''), ('1395.3333333333337', ''), ('515.6666666666666', ''), ('1219.4', ''), ('81.66666666666666', ''), ('4130.0', ''), ('1794.3333333333333', ''), ('163.33333333333331', ''), ('76.53333333333333', ''), ('1459.5', ''), ('190.16666666666663', ''), ('387.33333333333337', ''), ('543.6666666666666', ''), ('1416.3333333333333', ''), ('404.83333333333337', ''), ('596.1666666666666', ''), ('484.1666666666667', ''), ('540.1666666666666', ''), ('235.66666666666669', ''), ('6813.333333333333', ''), ('1508.5', ''), ('1257.6666666666667', ''), ('2480.333333333333', ''), ('404.8333333333333', ''), ('1710.3333333333333', ''), ('383.6', ''), ('912.3333333333334', ''), ('981.1666666666666', ''), ('271.8333333333333', ''), ('1186.5', ''), ('5114.666666666666', ''), ('1977.5', ''), ('6708.333333333333', ''), ('1535.3333333333333', ''), ('3425.333333333333', ''), ('183.16666666666663', ''), ('1577.3333333333333', ''), ('1675.3333333333333', ''), ('1676.5', ''), ('435.4', ''), ('796.8333333333333', ''), ('976.5', ''), ('3.733333333333333', ''), ('176.16666666666669', ''), ('2637.833333333333', ''), ('446.83333333333337', ''), ('383.8333333333333', ''), ('1445.5', ''), ('1376.6666666666667', ''), ('794.5', ''), ('39.2', ''), ('1088.5', ''), ('3892.0', ''), ('344.1666666666667', ''), ('37.33333333333333', ''), ('1591.3333333333333', ''), ('1867.6', ''), ('1069.8333333333337', ''), ('340.6666666666667', ''), ('600.8333333333334', ''), ('4403.0', ''), ('1633.3333333333337', ''), ('1045.3333333333337', ''), ('320.83333333333337', ''), ('1880.6666666666667', ''), ('2765.0', ''), ('292.8333333333333', ''), ('267.1666666666667', ''), ('2404.5', ''), ('170.33333333333334', ''), ('1789.6666666666667', ''), ('166.83333333333331', ''), ('451.5', ''), ('271.83333333333337', ''), ('1860.8333333333333', ''), ('2628.5', ''), ('1341.6666666666663', ''), ('86.33333333333334', ''), ('5460.0', ''), ('201.13333333333333', ''), ('3339.0', ''), ('1825.6', ''), ('284.66666666666663', ''), ('1282.1666666666667', ''), ('1943.6666666666663', ''), ('5355.0', ''), ('1969.3333333333333', ''), ('369.8333333333333', ''), ('3175.666666666667', ''), ('1290.3333333333337', ''), ('1824.6666666666667', ''), ('292.83333333333337', ''), ('2166.5', ''), ('478.33333333333337', ''), ('309.1666666666667', ''), ('4027.3333333333335', ''), ('316.16666666666663', ''), ('2460.5', ''), ('2818.6666666666665', ''), ('1549.3333333333337', ''), ('228.9', ''), ('352.56666666666666', ''), ('3465.0', ''), ('3430.0', ''), ('996.3333333333334', ''), ('550.6666666666667', ''), ('687.1666666666666', ''), ('414.6333333333333', ''), ('85.16666666666667', ''), ('1645.0', ''), ('1234.3333333333337', ''), ('1586.6666666666667', ''), ('1474.6666666666667', ''), ('1752.3333333333337', ''), ('570.5', ''), ('6479.666666666667', ''), ('1229.6666666666667', ''), ('179.9', ''), ('1012.6666666666666', ''), ('799.1666666666667', ''), ('291.66666666666663', ''), ('6272.0', ''), ('1074.5', ''), ('172.66666666666669', ''), ('417.6666666666666', ''), ('2397.9666666666667', ''), ('246.16666666666663', ''), ('224.46666666666667', ''), ('222.83333333333331', ''), ('6906.666666666667', ''), ('4005.1666666666665', ''), ('78.4', ''), ('2587.6666666666665', ''), ('137.66666666666669', ''), ('2321.6666666666665', ''), ('613.6666666666667', ''), ('1128.1666666666667', ''), ('208.6', ''), ('1100.1666666666667', ''), ('2168.833333333333', ''), ('295.1666666666667', ''), ('713.5333333333333', ''), ('2083.6666666666665', ''), ('3136.0', ''), ('1403.5', ''), ('361.6666666666666', ''), ('382.2', ''), ('368.6666666666666', ''), ('484.1666666666666', ''), ('1656.6666666666667', ''), ('1187.6666666666663', ''), ('848.1666666666666', ''), ('7574.0', ''), ('1883.0', ''), ('3159.333333333333', ''), ('313.8333333333333', ''), ('344.4', ''), ('208.8333333333333', ''), ('1150.3333333333337', ''), ('464.3333333333333', ''), ('3094.0', ''), ('1085.0', ''), ('1628.6666666666667', ''), ('1556.3333333333333', ''), ('240.3333333333333', ''), ('877.3333333333333', ''), ('338.33333333333337', ''), ('2748.6666666666665', ''), ('4498.666666666667', ''), ('1271.6666666666667', ''), ('851.6666666666666', ''), ('26.83333333333333', ''), ('394.33333333333337', ''), ('2415.0', ''), ('207.66666666666669', ''), ('1207.5', ''), ('1115.3333333333337', ''), ('778.1666666666667', ''), ('1669.5', ''), ('655.6666666666667', ''), ('557.6666666666667', ''), ('9090.666666666666', ''), ('89.13333333333334', ''), ('1426.8333333333333', ''), ('376.8333333333333', ''), ('570.7333333333333', ''), ('659.4', ''), ('2629.666666666667', ''), ('502.83333333333337', ''), ('2109.333333333333', ''), ('156.8', ''), ('1347.5', ''), ('732.6666666666667', ''), ('771.1666666666666', ''), ('1463.0', ''), ('117.6', ''), ('951.0666666666666', ''), ('3096.333333333333', ''), ('787.5', ''), ('3264.333333333333', ''), ('711.6666666666667', ''), ('431.6666666666666', ''), ('534.3333333333333', ''), ('1206.3333333333333', ''), ('2823.333333333333', ''), ('809.6666666666666', ''), ('393.1666666666667', ''), ('1992.6666666666663', ''), ('897.1666666666667', ''), ('977.6666666666666', ''), ('1194.6666666666663', ''), ('1101.3333333333337', ''), ('223.06666666666663', ''), ('2167.6666666666665', ''), ('5250.0', ''), ('1892.3333333333333', ''), ('746.6666666666667', ''), ('366.33333333333337', ''), ('2709.0', ''), ('2149.0', ''), ('1984.5', ''), ('1757.0', ''), ('330.1666666666667', ''), ('53.66666666666667', ''), ('6128.5', ''), ('471.33333333333337', ''), ('4384.8', ''), ('5194.0', ''), ('2821.0', ''), ('1591.3333333333337', ''), ('4473.0', ''), ('123.66666666666666', ''), ('1401.1666666666667', ''), ('3901.3333333333335', ''), ('1717.3333333333333', ''), ('4714.5', ''), ('1157.3333333333333', ''), ('669.6666666666666', ''), ('3374.0', ''), ('1145.9', ''), ('2103.5', ''), ('1326.5', ''), ('2131.5', ''), ('709.3333333333333', ''), ('1319.5', ''), ('703.5', ''), ('2081.333333333333', ''), ('6573.0', ''), ('194.6', ''), ('165.66666666666669', ''), ('1687.0', ''), ('3728.6666666666665', ''), ('1369.6666666666667', ''), ('1673.0', ''), ('1634.5', ''), ('1283.3333333333337', ''), ('5007.333333333333', ''), ('1005.6666666666666', ''), ('3406.6666666666665', ''), ('3916.5', ''), ('481.8333333333333', ''), ('535.0333333333333', ''), ('456.1666666666667', ''), ('753.6666666666667', ''), ('71.4', ''), ('281.16666666666663', ''), ('2468.6666666666665', ''), ('3675.0', ''), ('1425.6666666666667', ''), ('899.5', ''), ('344.16666666666663', ''), ('2095.333333333333', ''), ('1809.5', ''), ('8148.0', ''), ('1095.0333333333333', ''), ('1698.6666666666667', ''), ('2359.0', ''), ('231.9333333333333', ''), ('677.8333333333334', ''), ('5670.0', ''), ('592.6666666666667', ''), ('1530.6666666666663', ''), ('1409.3333333333337', ''), ('2263.333333333333', ''), ('582.1666666666667', ''), ('744.3333333333334', ''), ('3236.333333333333', ''), ('313.83333333333337', ''), ('2011.3333333333333', ''), ('4249.0', ''), ('581.2333333333333', ''), ('78.16666666666667', ''), ('723.3333333333334', ''), ('1122.3333333333333', ''), ('1530.6666666666667', ''), ('585.6666666666666', ''), ('96.83333333333331', ''), ('403.6666666666666', ''), ('292.6', ''), ('2740.5', ''), ('1018.5', ''), ('2126.833333333333', ''), ('33.833333333333336', ''), ('751.3333333333333', ''), ('1233.1666666666663', ''), ('1810.6666666666663', ''), ('445.6666666666666', ''), ('5786.666666666667', ''), ('2975.0', ''), ('1009.1666666666669', ''), ('963.6666666666669', ''), ('1222.6666666666663', ''), ('849.3333333333333', ''), ('684.8333333333334', ''), ('152.6', ''), ('1218.9333333333334', ''), ('2545.6666666666665', ''), ('1391.6', ''), ('362.6', ''), ('127.16666666666666', ''), ('60.66666666666667', ''), ('1510.8333333333333', ''), ('5649.0', ''), ('196.46666666666667', ''), ('698.8333333333334', ''), ('4873.4', ''), ('2695.0', ''), ('6286.0', ''), ('2488.5', ''), ('2877.0', ''), ('618.3333333333333', ''), ('338.3333333333333', ''), ('891.3333333333333', ''), ('2189.833333333333', ''), ('700.4666666666667', ''), ('485.33333333333337', ''), ('6650.0', ''), ('521.7333333333333', ''), ('3073.0', ''), ('898.3333333333333', ''), ('1711.5', ''), ('2691.5', ''), ('1024.3333333333337', ''), ('1192.3333333333337', ''), ('663.8333333333334', ''), ('43.16666666666666', ''), ('3266.6666666666665', ''), ('3090.5', ''), ('4564.0', ''), ('2718.333333333333', ''), ('380.8', ''), ('242.66666666666669', ''), ('2793.0', ''), ('529.6666666666666', ''), ('5359.666666666667', ''), ('800.3333333333334', ''), ('537.8333333333333', ''), ('890.1666666666666', ''), ('710.5', ''), ('1153.6', ''), ('822.5', ''), ('2348.5', ''), ('1544.6666666666667', ''), ('1929.6666666666667', ''), ('6510.0', ''), ('27.3', ''), ('6776.0', ''), ('5.366666666666667', ''), ('393.1666666666666', ''), ('849.3333333333334', ''), ('1607.6666666666667', ''), ('6072.5', ''), ('5.6', ''), ('680.1666666666666', ''), ('3112.666666666667', ''), ('1375.9666666666667', ''), ('7784.0', ''), ('614.8333333333334', ''), ('170.33333333333331', ''), ('310.8', ''), ('120.4', ''), ('3840.666666666667', ''), ('12810.0', ''), ('1950.6666666666667', ''), ('695.3333333333333', ''), ('990.5', ''), ('149.56666666666666', ''), ('51.8', ''), ('1208.6666666666667', ''), ('898.3333333333334', ''), ('1506.1666666666663', ''), ('589.1666666666667', ''), ('2686.833333333333', ''), ('565.8333333333334', ''), ('2356.666666666667', ''), ('1051.1666666666663', ''), ('138.83333333333331', ''), ('61.833333333333336', ''), ('611.3333333333333', ''), ('1285.6666666666663', ''), ('604.3333333333333', ''), ('172.2', ''), ('3956.1666666666665', ''), ('1034.8333333333337', ''), ('957.1333333333332', ''), ('382.6666666666666', ''), ('828.3333333333333', ''), ('207.9', ''), ('519.1666666666667', ''), ('1185.3333333333333', ''), ('767.6666666666666', ''), ('3587.5', ''), ('3290.0', ''), ('516.8333333333334', ''), ('5999.0', ''), ('358.4', ''), ('2289.0', ''), ('6944.0', ''), ('320.6', ''), ('878.5', ''), ('5.833333333333333', ''), ('9804.666666666666', ''), ('2320.5', ''), ('542.7333333333333', ''), ('3668.0', ''), ('8879.5', ''), ('3437.0', ''), ('156.33333333333331', ''), ('86.33333333333333', ''), ('2660.0', ''), ('932.4', ''), ('509.83333333333337', ''), ('480.6666666666666', ''), ('254.3333333333333', ''), ('2464.0', ''), ('36.16666666666666', ''), ('190.16666666666669', ''), ('547.1666666666667', ''), ('1486.3333333333333', ''), ('148.16666666666666', ''), ('5022.5', ''), ('261.8', ''), ('55.06666666666666', ''), ('803.1333333333333', ''), ('3759.0', ''), ('372.1666666666667', ''), ('2572.5', ''), ('1668.3333333333333', ''), ('1850.3333333333333', ''), ('807.3333333333333', ''), ('801.5', ''), ('226.3333333333333', ''), ('2769.6666666666665', ''), ('195.76666666666665', ''), ('1752.3333333333333', ''), ('2636.6666666666665', ''), ('1109.5', ''), ('2900.333333333333', ''), ('1986.8333333333333', ''), ('105.46666666666668', ''), ('731.5', ''), ('723.3333333333333', ''), ('660.3333333333334', ''), ('68.83333333333334', ''), ('169.86666666666667', ''), ('2209.6666666666665', ''), ('511.9333333333333', ''), ('505.8666666666667', ''), ('1555.8666666666668', ''), ('2591.166666666667', ''), ('1128.1666666666663', ''), ('2557.333333333333', ''), ('273.46666666666664', ''), ('1460.6666666666663', ''), ('2985.5', ''), ('599.6666666666666', ''), ('2782.5', ''), ('221.2', ''), ('5513.666666666667', ''), ('1346.3333333333333', ''), ('288.4', ''), ('1438.5', ''), ('1738.3333333333337', ''), ('1458.3333333333333', ''), ('225.16666666666663', ''), ('2205.0', ''), ('813.1666666666666', ''), ('281.1666666666667', ''), ('873.6', ''), ('472.5', ''), ('113.16666666666666', ''), ('265.5333333333333', ''), ('3006.5', ''), ('824.8333333333334', ''), ('620.6666666666667', ''), ('2139.666666666667', ''), ('401.33333333333337', ''), ('4335.333333333333', ''), ('13944.0', ''), ('649.8333333333334', ''), ('25.2', ''), ('1227.3333333333333', ''), ('8358.0', ''), ('5320.0', ''), ('815.5', ''), ('306.83333333333337', ''), ('176.16666666666666', ''), ('530.8333333333334', ''), ('3017.0', ''), ('3353.0', ''), ('1292.6666666666667', ''), ('1551.6666666666663', ''), ('194.8333333333333', ''), ('1466.5', ''), ('1156.1666666666667', ''), ('171.73333333333335', ''), ('120.16666666666669', ''), ('2863.0', ''), ('4400.666666666667', ''), ('44.33333333333333', ''), ('673.1666666666666', ''), ('467.8333333333333', ''), ('626.5', ''), ('332.7333333333333', ''), ('2625.0', ''), ('1348.6666666666667', ''), ('450.33333333333337', ''), ('3038.0', ''), ('3976.0', ''), ('1941.3333333333333', ''), ('4536.0', ''), ('838.8333333333333', ''), ('453.8333333333333', ''), ('2011.5666666666664', ''), ('3234.0', ''), ('5659.5', ''), ('418.6', ''), ('115.96666666666668', ''), ('355.83333333333337', ''), ('754.8333333333334', ''), ('571.1999999999999', ''), ('2490.6000000000004', ''), ('302.8666666666667', ''), ('858.6666666666667', ''), ('2065.0', ''), ('1434.0666666666666', ''), ('1925.9333333333332', ''), ('954.3333333333331', ''), ('4550.0', ''), ('3629.5', ''), ('243.83333333333331', ''), ('2537.5', ''), ('6545.0', ''), ('3432.333333333333', ''), ('67.2', ''), ('1007.5333333333332', ''), ('59.96666666666667', ''), ('397.3666666666667', ''), ('1915.6666666666667', ''), ('2172.333333333333', ''), ('142.8', ''), ('1054.6666666666663', ''), ('1589.0', ''), ('1180.6666666666663', ''), ('1906.3333333333333', ''), ('505.4', ''), ('3516.333333333333', ''), ('2111.2000000000003', ''), ('228.66666666666669', ''), ('327.8333333333333', ''), ('730.3333333333334', ''), ('548.3333333333334', ''), ('11760.0', ''), ('4501.0', ''), ('628.3666666666667', ''), ('3280.6666666666665', ''), ('103.83333333333334', ''), ('1551.6666666666667', ''), ('4068.1666666666665', ''), ('461.5333333333333', ''), ('3241.0', ''), ('237.3', ''), ('113.4', ''), ('408.33333333333337', ''), ('3181.5', ''), ('193.66666666666669', ''), ('5580.166666666667', ''), ('373.33333333333337', ''), ('72.8', ''), ('2538.6666666666665', ''), ('5894.0', ''), ('2690.333333333333', ''), ('2723.0', ''), ('2219.0', ''), ('1753.5', ''), ('2518.833333333333', ''), ('179.43333333333334', ''), ('1235.5', ''), ('3026.333333333333', ''), ('5660.666666666667', ''), ('1968.1666666666667', ''), ('669.6666666666667', ''), ('1096.6666666666667', ''), ('5224.333333333334', ''), ('1871.3333333333333', ''), ('749.7', ''), ('1514.3333333333337', ''), ('1600.6666666666667', ''), ('143.73333333333335', ''), ('1047.6666666666663', ''), ('1446.6666666666663', ''), ('879.6666666666667', ''), ('1698.6666666666663', ''), ('1264.6666666666663', ''), ('1730.4', ''), ('460.8333333333333', ''), ('1052.3333333333333', ''), ('3255.0', ''), ('1327.6666666666663', ''), ('1472.3333333333333', ''), ('4144.0', ''), ('6664.0', ''), ('2725.333333333333', ''), ('811.0666666666667', ''), ('1436.1666666666663', ''), ('652.1666666666667', ''), ('216.53333333333336', ''), ('609.4666666666667', ''), ('886.6666666666666', ''), ('4804.333333333334', ''), ('2118.6666666666665', ''), ('1869.0', ''), ('886.2', ''), ('175.93333333333334', ''), ('1925.0', ''), ('205.56666666666663', ''), ('9933.0', ''), ('2986.666666666667', ''), ('1019.6666666666666', ''), ('263.2', ''), ('254.8', ''), ('7357.0', ''), ('1843.3333333333333', ''), ('1516.6666666666667', ''), ('942.6666666666669', ''), ('3362.333333333333', ''), ('4559.333333333333', ''), ('132.06666666666666', ''), ('759.0333333333333', ''), ('2273.833333333333', ''), ('1529.5', ''), ('1257.6666666666663', ''), ('1102.5', ''), ('1899.3333333333333', ''), ('1874.8333333333333', ''), ('425.6', ''), ('1383.6666666666667', ''), ('6517.0', ''), ('1265.8333333333337', ''), ('856.3333333333334', ''), ('4596.666666666667', ''), ('619.5', ''), ('3703.0', ''), ('3180.333333333333', ''), ('115.26666666666668', ''), ('1038.3333333333337', ''), ('492.3333333333333', ''), ('2641.333333333333', ''), ('1465.3333333333337', ''), ('694.1666666666666', ''), ('1171.3333333333337', ''), ('4027.333333333333', ''), ('1172.5', ''), ('933.8', ''), ('977.6666666666669', ''), ('400.8666666666667', ''), ('989.3333333333334', ''), ('435.1666666666667', ''), ('1641.5', ''), ('1627.5', ''), ('934.7333333333332', ''), ('1412.1333333333334', ''), ('1429.1666666666667', ''), ('183.4', ''), ('3955.0', ''), ('1422.1666666666667', ''), ('232.4', ''), ('1479.3333333333333', ''), ('348.1333333333333', ''), ('1145.6666666666667', ''), ('1584.3333333333333', ''), ('407.1666666666667', ''), ('3052.0', ''), ('673.8666666666667', ''), ('1689.8', ''), ('1545.8333333333333', ''), ('95.66666666666666', ''), ('646.3333333333333', ''), ('37.8', ''), ('907.6666666666666', ''), ('438.6666666666666', ''), ('6402.666666666667', ''), ('2599.333333333333', ''), ('2844.333333333333', ''), ('1381.3333333333337', ''), ('772.3333333333333', ''), ('617.1666666666667', ''), ('3602.6666666666665', ''), ('1995.4666666666667', ''), ('897.1666666666666', ''), ('1419.8333333333337', ''), ('456.1666666666666', ''), ('900.6666666666667', ''), ('94.26666666666668', ''), ('2405.6666666666665', ''), ('3742.6666666666665', ''), ('4417.0', ''), ('1556.8', ''), ('1622.8333333333333', ''), ('3733.3333333333335', ''), ('2193.333333333333', ''), ('5222.0', ''), ('1170.1666666666667', ''), ('834.1666666666666', ''), ('1297.3333333333333', ''), ('260.16666666666663', ''), ('8.166666666666666', ''), ('1664.8333333333333', ''), ('351.1666666666667', ''), ('2299.5', ''), ('726.8333333333333', ''), ('3700.6666666666665', ''), ('4790.333333333333', ''), ('788.6666666666667', ''), ('1789.6666666666663', ''), ('1633.3333333333333', ''), ('84.46666666666667', ''), ('1080.3333333333333', ''), ('725.6666666666667', ''), ('347.2', ''), ('2425.5', ''), ('880.8333333333333', ''), ('2277.333333333333', ''), ('662.6666666666667', ''), ('1086.1666666666663', ''), ('1239.2333333333331', ''), ('1754.6666666666667', ''), ('1214.5', ''), ('4505.666666666667', ''), ('842.3333333333333', ''), ('425.83333333333337', ''), ('268.56666666666666', ''), ('373.8', ''), ('352.8', ''), ('886.6666666666667', ''), ('3476.6666666666665', ''), ('544.8333333333333', ''), ('5631.5', ''), ('1340.5', ''), ('4202.333333333333', ''), ('2046.3333333333333', ''), ('3748.5', ''), ('277.66666666666663', ''), ('3689.0', ''), ('1292.6666666666663', ''), ('1005.2', ''), ('1202.6', ''), ('263.66666666666663', ''), ('400.4', ''), ('169.16666666666666', ''), ('2250.5', ''), ('1505.0', ''), ('135.8', ''), ('2852.5', ''), ('671.3', ''), ('1804.8333333333333', ''), ('1053.5', ''), ('337.1666666666667', ''), ('1009.1666666666666', ''), ('491.1666666666666', ''), ('1299.6666666666667', ''), ('8288.0', ''), ('6363.0', ''), ('792.1666666666667', ''), ('4424.0', ''), ('379.1666666666667', ''), ('1272.8333333333333', ''), ('586.8333333333333', ''), ('105.7', ''), ('1488.6666666666663', ''), ('1124.6666666666667', ''), ('1606.5', ''), ('1366.4', ''), ('9072.0', ''), ('30.8', ''), ('1040.6666666666663', ''), ('1599.5', ''), ('277.43333333333334', ''), ('705.8333333333333', ''), ('1675.3333333333337', ''), ('159.83333333333334', ''), ('1263.5', ''), ('436.33333333333337', ''), ('288.1666666666667', ''), ('1097.8333333333337', ''), ('2144.333333333333', ''), ('3103.333333333333', ''), ('677.8333333333333', ''), ('701.1666666666667', ''), ('470.8666666666667', ''), ('1339.3333333333333', ''), ('4523.166666666667', ''), ('1166.6666666666663', ''), ('1291.5', ''), ('9793.0', ''), ('303.33333333333337', ''), ('906.5', ''), ('1345.1666666666663', ''), ('961.3333333333331', ''), ('4602.5', ''), ('270.43333333333334', ''), ('19.833333333333336', ''), ('2304.166666666667', ''), ('4375.0', ''), ('235.2', ''), ('1152.6666666666667', ''), ('870.3333333333333', ''), ('478.3333333333333', ''), ('1125.8333333333337', ''), ('576.3333333333333', ''), ('3269.0', ''), ('1936.6666666666667', ''), ('8470.0', ''), ('2077.833333333333', ''), ('2685.6666666666665', ''), ('1201.6666666666667', ''), ('1501.5', ''), ('2958.6666666666665', ''), ('4508.0', ''), ('67.66666666666666', ''), ('551.8333333333334', ''), ('1842.4', ''), ('1311.3333333333333', ''), ('86.56666666666666', ''), ('8767.5', ''), ('253.86666666666667', ''), ('1670.6666666666667', ''), ('8540.0', ''), ('712.8333333333334', ''), ('1531.8333333333337', ''), ('481.83333333333337', ''), ('3701.8333333333335', ''), ('1817.6666666666667', ''), ('912.3333333333331', ''), ('530.8333333333333', ''), ('2908.5', ''), ('360.73333333333335', ''), ('1423.3333333333333', ''), ('835.3333333333334', ''), ('1145.6666666666663', ''), ('6111.0', ''), ('2364.833333333333', ''), ('2076.6666666666665', ''), ('760.6666666666666', ''), ('167.76666666666665', ''), ('1033.6666666666667', ''), ('2278.5', ''), ('90.0', ''), ('30.0', ''), ('720.0', ''), ('100.0', ''), ('1200.0', ''), ('180.0', ''), ('360.0', ''), ('600.0', ''), ('150.0', ''), ('15.0', ''), ('900.0', ''), ('135.0', ''), ('6720.0', ''), ('50.0', ''), ('120.0', ''), ('45.0', ''), ('550.0', ''), ('540.0', ''), ('240.0', ''), ('10.0', ''), ('1080.0', ''), ('480.0', ''), ('13860.0', ''), ('2040.0', ''), ('1560.0', ''), ('60.0', ''), ('300.0', ''), ('960.0', ''), ('1740.0', ''), ('1800.0', ''), ('430.0', ''), ('225.0', ''), ('1020.0', ''), ('170.0', ''), ('1920.0', ''), ('660.0', ''), ('2970.0', ''), ('870.0', ''), ('200.0', ''), ('570.0', ''), ('450.0', ''), ('75.0', ''), ('1440.0', ''), ('80.0', ''), ('620.0', ''), ('20.0', ''), ('520.0', ''), ('220.0', ''), ('1140.0', ''), ('1290.0', ''), ('750.0', ''), ('440.0', ''), ('330.0', ''), ('288.0', ''), ('780.0', ''), ('510.0', ''), ('400.0', ''), ('435.0', ''), ('160.0', ''), ('1410.0', ''), ('230.0', ''), ('405.0', ''), ('260.0', ''), ('270.0', ''), ('1000.0', ''), ('460.0', ''), ('195.0', ''), ('2340.0', ''), ('2700.0', ''), ('645.0', ''), ('690.0', ''), ('990.0', ''), ('1320.0', ''), ('3000.0', ''), ('390.0', ''), ('810.0', ''), ('2880.0', ''), ('500.0', ''), ('40.0', ''), ('125.0', ''), ('1500.0', ''), ('855.0', ''), ('1275.0', ''), ('1490.0', ''), ('375.0', ''), ('1620.0', ''), ('2790.0', ''), ('915.0', ''), ('640.0', ''), ('585.0', ''), ('2160.0', ''), ('680.0', ''), ('3840.0', ''), ('930.0', ''), ('2760.0', ''), ('1230.0', ''), ('6760.0', ''), ('970.0', ''), ('1840.0', ''), ('99.0', ''), ('1350.0', ''), ('675.0', ''), ('5400.0', ''), ('465.0', ''), ('2400.0', ''), ('475.0', ''), ('1380.0', ''), ('2280.0', ''), ('555.0', ''), ('1485.0', ''), ('800.0', ''), ('285.0', ''), ('1180.0', ''), ('2910.0', ''), ('123.0', ''), ('3240.0', ''), ('615.0', ''), ('395.0', ''), ('2610.0', ''), ('3120.0', ''), ('1185.0', ''), ('3600.0', ''), ('4500.0', ''), ('320.0', ''), ('1530.0', ''), ('2550.0', ''), ('495.0', ''), ('1300.0', ''), ('670.0', ''), ('1980.0', ''), ('250.0', ''), ('110.0', ''), ('2220.0', ''), ('130.0', ''), ('530.0', ''), ('2640.0', ''), ('310.0', ''), ('1215.0', ''), ('1240.0', ''), ('4560.0', ''), ('165.0', ''), ('920.0', ''), ('345.0', ''), ('1860.0', ''), ('3480.0', ''), ('1590.0', ''), ('1580.0', ''), ('1125.0', ''), ('765.0', ''), ('190.0', ''), ('4320.0', ''), ('325.0', ''), ('1650.0', ''), ('1170.0', ''), ('2580.0', ''), ('174.0', ''), ('340.0', ''), ('4680.0', ''), ('290.0', ''), ('215.0', ''), ('3180.0', ''), ('7080.0', ''), ('650.0', ''), ('1040.0', ''), ('25.0', ''), ('1770.0', ''), ('2670.0', ''), ('535.0', ''), ('880.0', ''), ('432.0', ''), ('1035.0', ''), ('1110.0', ''), ('2250.0', ''), ('1665.0', ''), ('380.0', ''), ('820.0', ''), ('590.0', ''), ('565.0', ''), ('2115.0', ''), ('1025.0', ''), ('1640.0', ''), ('410.0', ''), ('2010.0', ''), ('255.0', ''), ('1280.0', ''), ('3060.0', ''), ('485.0', ''), ('355.0', ''), ('1810.0', ''), ('370.0', ''), ('205.0', ''), ('1095.0', ''), ('740.0', ''), ('365.0', ''), ('3900.0', ''), ('85.0', ''), ('148.0', ''), ('1850.0', ''), ('2190.0', ''), ('1520.0', ''), ('505.0', ''), ('1480.0', ''), ('760.0', ''), ('138.0', ''), ('235.0', ''), ('1730.0', ''), ('1830.0', ''), ('1725.0', ''), ('825.0', ''), ('1340.0', ''), ('975.0', ''), ('705.0', ''), ('185.0', ''), ('3490.0', ''), ('625.0', ''), ('860.0', ''), ('36.0', ''), ('790.0', ''), ('1100.0', ''), ('3300.0', ''), ('1130.0', ''), ('3960.0', ''), ('1425.0', ''), ('3015.0', ''), ('2070.0', ''), ('568.0', ''), ('55.0', ''), ('5220.0', ''), ('4440.0', ''), ('470.0', ''), ('850.0', ''), ('940.0', ''), ('950.0', ''), ('81.0', ''), ('115.0', ''), ('265.0', ''), ('1950.0', ''), ('668.0', ''), ('580.0', ''), ('1335.0', ''), ('3450.0', ''), ('1935.0', ''), ('1250.0', ''), ('1305.0', ''), ('2460.0', ''), ('4800.0', ''), ('104.0', ''), ('2600.0', ''), ('885.0', ''), ('262.0', ''), ('258.0', ''), ('275.0', ''), ('795.0', ''), ('39.0', ''), ('66.0', ''), ('95.0', ''), ('8520.0', ''), ('2430.0', ''), ('2820.0', ''), ('1065.0', ''), ('24.0', ''), ('22.0', ''), ('248.0', ''), ('1875.0', ''), ('564.0', ''), ('575.0', ''), ('703.0', ''), ('295.0', ''), ('1160.0', ''), ('1780.0', ''), ('145.0', ''), ('895.0', ''), ('1815.0', ''), ('2490.0', ''), ('6540.0', ''), ('785.0', ''), ('106.0', ''), ('1460.0', ''), ('2025.0', ''), ('415.0', ''), ('4875.0', ''), ('65.0', ''), ('718.0', ''), ('710.0', ''), ('2595.0', ''), ('1150.0', ''), ('445.0', ''), ('44.0', ''), ('304.0', ''), ('234.0', ''), ('48.0', ''), ('3720.0', ''), ('78.0', ''), ('151.0', ''), ('68.0', ''), ('2360.0', ''), ('605.0', ''), ('816.0', ''), ('768.0', ''), ('610.0', ''), ('226.0', ''), ('16.0', ''), ('3420.0', ''), ('2440.0', ''), ('1710.0', ''), ('3660.0', ''), ('3495.0', ''), ('545.0', ''), ('1325.0', ''), ('1450.0', ''), ('5100.0', ''), ('222.0', ''), ('425.0', ''), ('1720.0', ''), ('2020.0', ''), ('2650.0', ''), ('725.0', ''), ('335.0', ''), ('1564.0', ''), ('1030.0', ''), ('54.0', ''), ('348.0', ''), ('666.0', ''), ('1220.0', ''), ('2300.0', '')], \n",
      "\n",
      "'LTPA_freq_estimate': ['object', ('NA', ''), ('No LTPA', ''), ('Regular', ''), ('Irregular', '')], \n",
      "\n",
      "'LTPA_time_estimate': ['object', ('NA', ''), ('No LTPA', ''), ('Adequate', ''), ('Inadequate', '')], \n",
      "\n",
      "'HTN_que': ['object', ('NA', ''), ('No', ''), ('Yes', '')], \n",
      "\n",
      "'DM_que': ['object', ('No', ''), ('Yes', ''), ('NA', '')], \n",
      "\n",
      "'RD': ['object', ('NA', ''), ('No', ''), ('Yes', '')], \n",
      "\n",
      "'CVD': ['object', ('NA', ''), ('No', ''), ('Yes', '')], \n",
      "\n",
      "'stroke': ['object', ('NA', ''), ('No', ''), ('Yes', '')], \n",
      "\n",
      "'cancer': ['object', ('NA', ''), ('Yes', ''), ('No', '')], \n",
      "\n",
      "'NSAIDs_gen12': ['object', ('No', ''), ('Yes', ''), ('NA', '')], \n",
      "\n",
      "'NSAIDs_gen22': ['object', ('No', ''), ('Yes', ''), ('NA', '')], \n",
      "\n",
      "'weakOpioid2': ['object', ('No', ''), ('Yes', ''), ('NA', '')], \n",
      "\n",
      "'OADRUG_bind_all2': ['object', ('No', ''), ('Yes', ''), ('NA', '')], \n",
      "\n",
      "'OA': ['object', ('NA', ''), ('Rheumatoid arthritis', ''), ('No', ''), ('Other', ''), ('Osteoarthritis', '')], \n",
      "\n",
      "'ADL': ['object', ('NA', ''), ('No difficulty', ''), ('Disability', '')], \n",
      "\n",
      "'LSA': ['object', ('NA', ''), ('No difficulty', ''), ('Disability', '')], \n",
      "\n",
      "'IADL': ['object', ('NA', ''), ('No difficulty', ''), ('Disability', '')], \n",
      "\n",
      "'LEM': ['object', ('NA', ''), ('No difficulty', ''), ('Disability', '')], \n",
      "\n",
      "'GPA': ['object', ('NA', ''), ('No difficulty', ''), ('Disability', '')], \n",
      "\n",
      "'ELIGSTAT': ['object', ('Under age 18, not available for public release', ''), ('Eligible', ''), ('Ineligible', '')], \n",
      "\n",
      "'MORTSTAT': ['object', ('NA', ''), ('Assumed deceased', ''), ('Assumed alive', '')], \n",
      "\n",
      "'mort_leading': ['object', ('NA', ''), ('Other', ''), ('Assumed alive', ''), ('Diseases of heart', ''), ('Malignant neoplasms', '')]\n",
      "      }         \n"
     ]
    }
   ],
   "source": [
    "nhanes.relevels_info(df_OApj.iloc[:, 2:-6])"
   ],
   "metadata": {
    "collapsed": false,
    "pycharm": {
     "name": "#%%\n"
    }
   }
  },
  {
   "cell_type": "code",
   "execution_count": 61,
   "outputs": [
    {
     "data": {
      "text/plain": "        SEQN   age gender race4 education20 family_income family_pir  \\\n0          1   2.0      1     1          NA             0       0.86   \n1          2  77.0      0     2           1             1        5.0   \n2          3  10.0      1     2          NA             1       1.47   \n3          4   1.0      0     1          NA             0       0.57   \n4          5  49.0      0     2           1             1        5.0   \n...      ...   ...    ...   ...         ...           ...        ...   \n92057  93698   2.0      0     0          NA             1       0.51   \n92058  93699   6.0      1     1          NA             1       4.58   \n92059  93700  35.0      0     2           0             0        0.0   \n92060  93701   8.0      0     2          NA             1       4.22   \n92061  93702  24.0      1     2           1             1       3.54   \n\n      smoking_status drinker excessive_drinker  ... GPA ELIGSTAT MORTSTAT  \\\n0                 NA      NA                NA  ...  NA        0       NA   \n1                  0       1                 1  ...   0        1        1   \n2                 NA      NA                NA  ...  NA        0       NA   \n3                 NA      NA                NA  ...  NA        0       NA   \n4                  1       1                 1  ...  NA        1        0   \n...              ...     ...               ...  ...  ..      ...      ...   \n92057             NA      NA                NA  ...  NA        0       NA   \n92058             NA      NA                NA  ...  NA        0       NA   \n92059              2      NA                NA  ...   1        1        0   \n92060             NA      NA                NA  ...  NA        0       NA   \n92061              0       1                 1  ...  NA        1        0   \n\n      mort_leading PERMTH_INT PERMTH_EXM SDMVPSU SDMVSTRA        WTINT_cycle9  \\\n0               NA         NA         NA     1.0      5.0   953.6644837777776   \n1                3      177.0      177.0     3.0      1.0  3156.2968884444444   \n2               NA         NA         NA     2.0      7.0         4471.947446   \n3               NA         NA         NA     1.0      2.0         1018.251624   \n4                0      244.0      244.0     2.0      8.0    9813.74848911111   \n...            ...        ...        ...     ...      ...                 ...   \n92057           NA         NA         NA     1.0    121.0  1066.0891545555555   \n92058           NA         NA         NA     1.0    129.0  1096.8205186666667   \n92059            0       50.0       50.0     1.0    126.0   4701.587567555555   \n92060           NA         NA         NA     2.0    124.0   4676.406423888889   \n92061            0       53.0       52.0     2.0    119.0  11929.100738222221   \n\n             WTMEC_cycle9  \n0              990.268132  \n1      3408.0443815555554  \n2       4724.103694444444  \n3      1013.8642373333333  \n4      10219.103962666666  \n...                   ...  \n92057  1099.5564194444444  \n92058  1097.3245607777776  \n92059   4799.357234666666  \n92060   5361.389365999999  \n92061  11675.605021555555  \n\n[92062 rows x 40 columns]",
      "text/html": "<div>\n<style scoped>\n    .dataframe tbody tr th:only-of-type {\n        vertical-align: middle;\n    }\n\n    .dataframe tbody tr th {\n        vertical-align: top;\n    }\n\n    .dataframe thead th {\n        text-align: right;\n    }\n</style>\n<table border=\"1\" class=\"dataframe\">\n  <thead>\n    <tr style=\"text-align: right;\">\n      <th></th>\n      <th>SEQN</th>\n      <th>age</th>\n      <th>gender</th>\n      <th>race4</th>\n      <th>education20</th>\n      <th>family_income</th>\n      <th>family_pir</th>\n      <th>smoking_status</th>\n      <th>drinker</th>\n      <th>excessive_drinker</th>\n      <th>...</th>\n      <th>GPA</th>\n      <th>ELIGSTAT</th>\n      <th>MORTSTAT</th>\n      <th>mort_leading</th>\n      <th>PERMTH_INT</th>\n      <th>PERMTH_EXM</th>\n      <th>SDMVPSU</th>\n      <th>SDMVSTRA</th>\n      <th>WTINT_cycle9</th>\n      <th>WTMEC_cycle9</th>\n    </tr>\n  </thead>\n  <tbody>\n    <tr>\n      <th>0</th>\n      <td>1</td>\n      <td>2.0</td>\n      <td>1</td>\n      <td>1</td>\n      <td>NA</td>\n      <td>0</td>\n      <td>0.86</td>\n      <td>NA</td>\n      <td>NA</td>\n      <td>NA</td>\n      <td>...</td>\n      <td>NA</td>\n      <td>0</td>\n      <td>NA</td>\n      <td>NA</td>\n      <td>NA</td>\n      <td>NA</td>\n      <td>1.0</td>\n      <td>5.0</td>\n      <td>953.6644837777776</td>\n      <td>990.268132</td>\n    </tr>\n    <tr>\n      <th>1</th>\n      <td>2</td>\n      <td>77.0</td>\n      <td>0</td>\n      <td>2</td>\n      <td>1</td>\n      <td>1</td>\n      <td>5.0</td>\n      <td>0</td>\n      <td>1</td>\n      <td>1</td>\n      <td>...</td>\n      <td>0</td>\n      <td>1</td>\n      <td>1</td>\n      <td>3</td>\n      <td>177.0</td>\n      <td>177.0</td>\n      <td>3.0</td>\n      <td>1.0</td>\n      <td>3156.2968884444444</td>\n      <td>3408.0443815555554</td>\n    </tr>\n    <tr>\n      <th>2</th>\n      <td>3</td>\n      <td>10.0</td>\n      <td>1</td>\n      <td>2</td>\n      <td>NA</td>\n      <td>1</td>\n      <td>1.47</td>\n      <td>NA</td>\n      <td>NA</td>\n      <td>NA</td>\n      <td>...</td>\n      <td>NA</td>\n      <td>0</td>\n      <td>NA</td>\n      <td>NA</td>\n      <td>NA</td>\n      <td>NA</td>\n      <td>2.0</td>\n      <td>7.0</td>\n      <td>4471.947446</td>\n      <td>4724.103694444444</td>\n    </tr>\n    <tr>\n      <th>3</th>\n      <td>4</td>\n      <td>1.0</td>\n      <td>0</td>\n      <td>1</td>\n      <td>NA</td>\n      <td>0</td>\n      <td>0.57</td>\n      <td>NA</td>\n      <td>NA</td>\n      <td>NA</td>\n      <td>...</td>\n      <td>NA</td>\n      <td>0</td>\n      <td>NA</td>\n      <td>NA</td>\n      <td>NA</td>\n      <td>NA</td>\n      <td>1.0</td>\n      <td>2.0</td>\n      <td>1018.251624</td>\n      <td>1013.8642373333333</td>\n    </tr>\n    <tr>\n      <th>4</th>\n      <td>5</td>\n      <td>49.0</td>\n      <td>0</td>\n      <td>2</td>\n      <td>1</td>\n      <td>1</td>\n      <td>5.0</td>\n      <td>1</td>\n      <td>1</td>\n      <td>1</td>\n      <td>...</td>\n      <td>NA</td>\n      <td>1</td>\n      <td>0</td>\n      <td>0</td>\n      <td>244.0</td>\n      <td>244.0</td>\n      <td>2.0</td>\n      <td>8.0</td>\n      <td>9813.74848911111</td>\n      <td>10219.103962666666</td>\n    </tr>\n    <tr>\n      <th>...</th>\n      <td>...</td>\n      <td>...</td>\n      <td>...</td>\n      <td>...</td>\n      <td>...</td>\n      <td>...</td>\n      <td>...</td>\n      <td>...</td>\n      <td>...</td>\n      <td>...</td>\n      <td>...</td>\n      <td>...</td>\n      <td>...</td>\n      <td>...</td>\n      <td>...</td>\n      <td>...</td>\n      <td>...</td>\n      <td>...</td>\n      <td>...</td>\n      <td>...</td>\n      <td>...</td>\n    </tr>\n    <tr>\n      <th>92057</th>\n      <td>93698</td>\n      <td>2.0</td>\n      <td>0</td>\n      <td>0</td>\n      <td>NA</td>\n      <td>1</td>\n      <td>0.51</td>\n      <td>NA</td>\n      <td>NA</td>\n      <td>NA</td>\n      <td>...</td>\n      <td>NA</td>\n      <td>0</td>\n      <td>NA</td>\n      <td>NA</td>\n      <td>NA</td>\n      <td>NA</td>\n      <td>1.0</td>\n      <td>121.0</td>\n      <td>1066.0891545555555</td>\n      <td>1099.5564194444444</td>\n    </tr>\n    <tr>\n      <th>92058</th>\n      <td>93699</td>\n      <td>6.0</td>\n      <td>1</td>\n      <td>1</td>\n      <td>NA</td>\n      <td>1</td>\n      <td>4.58</td>\n      <td>NA</td>\n      <td>NA</td>\n      <td>NA</td>\n      <td>...</td>\n      <td>NA</td>\n      <td>0</td>\n      <td>NA</td>\n      <td>NA</td>\n      <td>NA</td>\n      <td>NA</td>\n      <td>1.0</td>\n      <td>129.0</td>\n      <td>1096.8205186666667</td>\n      <td>1097.3245607777776</td>\n    </tr>\n    <tr>\n      <th>92059</th>\n      <td>93700</td>\n      <td>35.0</td>\n      <td>0</td>\n      <td>2</td>\n      <td>0</td>\n      <td>0</td>\n      <td>0.0</td>\n      <td>2</td>\n      <td>NA</td>\n      <td>NA</td>\n      <td>...</td>\n      <td>1</td>\n      <td>1</td>\n      <td>0</td>\n      <td>0</td>\n      <td>50.0</td>\n      <td>50.0</td>\n      <td>1.0</td>\n      <td>126.0</td>\n      <td>4701.587567555555</td>\n      <td>4799.357234666666</td>\n    </tr>\n    <tr>\n      <th>92060</th>\n      <td>93701</td>\n      <td>8.0</td>\n      <td>0</td>\n      <td>2</td>\n      <td>NA</td>\n      <td>1</td>\n      <td>4.22</td>\n      <td>NA</td>\n      <td>NA</td>\n      <td>NA</td>\n      <td>...</td>\n      <td>NA</td>\n      <td>0</td>\n      <td>NA</td>\n      <td>NA</td>\n      <td>NA</td>\n      <td>NA</td>\n      <td>2.0</td>\n      <td>124.0</td>\n      <td>4676.406423888889</td>\n      <td>5361.389365999999</td>\n    </tr>\n    <tr>\n      <th>92061</th>\n      <td>93702</td>\n      <td>24.0</td>\n      <td>1</td>\n      <td>2</td>\n      <td>1</td>\n      <td>1</td>\n      <td>3.54</td>\n      <td>0</td>\n      <td>1</td>\n      <td>1</td>\n      <td>...</td>\n      <td>NA</td>\n      <td>1</td>\n      <td>0</td>\n      <td>0</td>\n      <td>53.0</td>\n      <td>52.0</td>\n      <td>2.0</td>\n      <td>119.0</td>\n      <td>11929.100738222221</td>\n      <td>11675.605021555555</td>\n    </tr>\n  </tbody>\n</table>\n<p>92062 rows × 40 columns</p>\n</div>"
     },
     "execution_count": 61,
     "metadata": {},
     "output_type": "execute_result"
    }
   ],
   "source": [
    "nhanes.relevels_df(df_OApj, relevels={\n",
    "\n",
    "'gender': ['object', ('Female', 1), ('Male', 0)],\n",
    "\n",
    "'race4': ['object', ('Black', '1'), ('White', '2'), ('Other', '3'), ('Hispanic', '0')],\n",
    "\n",
    "'education20': ['object', ('NA', ''), ('College Graduate or above', '1'), ('Under College', '0')],\n",
    "\n",
    "'family_income': ['object', ('Under $20,000', '0'), ('$20,000 and over', '1'), ('NA', '')],\n",
    "\n",
    "'smoking_status': ['object', ('NA', ''), ('Never', '0'), ('Former', '1'), ('Current', '2')],\n",
    "\n",
    "'drinker': ['object', ('NA', ''), ('Yes', '1'), ('No', '0')],\n",
    "\n",
    "'excessive_drinker': ['object', ('NA', ''), ('Non-excessive drinker', '1'), ('Non-drinker', '0'), ('Excessive drinker', '2')],\n",
    "\n",
    "'BMI3': ['object', ('Normal', '0'), ('NA', ''), ('Overweight', '1'), ('Obesity', '2')],\n",
    "\n",
    "'depression': ['object', ('NA', ''), ('No', '0'), ('Yes', '1')],\n",
    "\n",
    "'LTPA_freq_estimate': ['object', ('NA', ''), ('No LTPA', '0'), ('Regular', '2'), ('Irregular', '1')],\n",
    "\n",
    "'LTPA_time_estimate': ['object', ('NA', ''), ('No LTPA', '0'), ('Adequate', '2'), ('Inadequate', '1')],\n",
    "\n",
    "'HTN_que': ['object', ('NA', ''), ('No', '0'), ('Yes', '1')],\n",
    "\n",
    "'DM_que': ['object', ('No', '0'), ('Yes', '1'), ('NA', '')],\n",
    "\n",
    "'RD': ['object', ('NA', ''), ('No', '0'), ('Yes', '1')],\n",
    "\n",
    "'CVD': ['object', ('NA', ''), ('No', '0'), ('Yes', '1')],\n",
    "\n",
    "'stroke': ['object', ('NA', ''), ('No', '0'), ('Yes', '1')],\n",
    "\n",
    "'cancer': ['object', ('NA', ''), ('Yes', '1'), ('No', '0')],\n",
    "\n",
    "'NSAIDs_gen12': ['object', ('No', '0'), ('Yes', '1'), ('NA', '')],\n",
    "\n",
    "'NSAIDs_gen12': ['object', ('No', '0'), ('Yes', '1'), ('NA', '')],\n",
    "\n",
    "'weakOpioid2': ['object', ('No', '0'), ('Yes', '1'), ('NA', '')],\n",
    "\n",
    "'OADRUG_bind_all2': ['object', ('No', '0'), ('Yes', '1'), ('NA', '')],\n",
    "\n",
    "'OA': ['object', ('NA', ''), ('Rheumatoid arthritis', '1'), ('No', '0'), ('Other', '3'), ('Osteoarthritis', '2')],\n",
    "\n",
    "'ADL': ['object', ('NA', ''), ('No difficulty', '0'), ('Disability', '1')],\n",
    "\n",
    "'LSA': ['object', ('NA', ''), ('No difficulty', '0'), ('Disability', '1')],\n",
    "\n",
    "'IADL': ['object', ('NA', ''), ('No difficulty', '0'), ('Disability', '1')],\n",
    "\n",
    "'LEM': ['object', ('NA', ''), ('No difficulty', '0'), ('Disability', '1')],\n",
    "\n",
    "'GPA': ['object', ('NA', ''), ('No difficulty', '0'), ('Disability', '1')],\n",
    "\n",
    "'ELIGSTAT': ['object', ('Under age 18, not available for public release', '0'), ('Eligible', '1'), ('Ineligible', '0')],\n",
    "\n",
    "'MORTSTAT': ['object', ('NA', ''), ('Assumed deceased', '1'), ('Assumed alive', '0')],\n",
    "\n",
    "'mort_leading': ['object', ('NA', ''), ('Other', '3'), ('Assumed alive', '0'), ('Diseases of heart', '1'), ('Malignant neoplasms', '2')]\n",
    "      }             )"
   ],
   "metadata": {
    "collapsed": false,
    "pycharm": {
     "name": "#%%\n"
    }
   }
  },
  {
   "cell_type": "code",
   "execution_count": 62,
   "outputs": [
    {
     "data": {
      "text/plain": "SEQN                  object\nage                   object\ngender                object\nrace4                 object\neducation20           object\nfamily_income         object\nfamily_pir            object\nsmoking_status        object\ndrinker               object\nexcessive_drinker     object\nBMI3                  object\ndepression            object\nLTPA_time_total       object\nLTPA_freq_estimate    object\nLTPA_time_estimate    object\nHTN_que               object\nDM_que                object\nRD                    object\nCVD                   object\nstroke                object\ncancer                object\nNSAIDs_gen12          object\nNSAIDs_gen22          object\nweakOpioid2           object\nOADRUG_bind_all2      object\nOA                    object\nADL                   object\nLSA                   object\nIADL                  object\nLEM                   object\nGPA                   object\nELIGSTAT              object\nMORTSTAT              object\nmort_leading          object\nPERMTH_INT            object\nPERMTH_EXM            object\nSDMVPSU               object\nSDMVSTRA              object\nWTINT_cycle9          object\nWTMEC_cycle9          object\ndtype: object"
     },
     "execution_count": 62,
     "metadata": {},
     "output_type": "execute_result"
    }
   ],
   "source": [
    "df_OApj.dtypes"
   ],
   "metadata": {
    "collapsed": false,
    "pycharm": {
     "name": "#%%\n"
    }
   }
  },
  {
   "cell_type": "code",
   "execution_count": 63,
   "outputs": [],
   "source": [
    "path = r'E:\\dataset\\NHANES221224\\GD files\\整合文件'\n",
    "path_to = f\"{path}/1999-2016 OA_graduate PJ\"\n",
    "if not exists(path_to):\n",
    "      makedirs(path_to)\n",
    "file_name = '1999-2016 OA_graduate3'\n",
    "\n",
    "dst = f\"{path_to}/{file_name}.csv\"\n",
    "encoding = 'utf-8'\n",
    "\n",
    "df_OApj.to_csv(dst, encoding=encoding, index=False)"
   ],
   "metadata": {
    "collapsed": false,
    "pycharm": {
     "name": "#%%\n"
    }
   }
  },
  {
   "cell_type": "code",
   "execution_count": 60,
   "outputs": [],
   "source": [],
   "metadata": {
    "collapsed": false,
    "pycharm": {
     "name": "#%%\n"
    }
   }
  },
  {
   "cell_type": "markdown",
   "source": [
    "这类 利用 df_all 完整数据集做一下纳排流程"
   ],
   "metadata": {
    "collapsed": false,
    "pycharm": {
     "name": "#%% md\n"
    }
   }
  },
  {
   "cell_type": "code",
   "execution_count": 64,
   "outputs": [
    {
     "name": "stdout",
     "output_type": "stream",
     "text": [
      "relevels={\n",
      "\n",
      "'SEQN': ['int64', (1, 93702), {'breaks': 4, 'mode': '(]', 'intervals': [('(1.0, 23016.2]', ''), ('(23016.2, 46031.5]', ''), ('(46031.5, 69046.8]', ''), ('(69046.8, 93702.0]', '')], 'decimal': 1}     ], \n",
      "\n",
      "'age': ['float64', (0.0, 80.0), {'breaks': 4, 'mode': '(]', 'intervals': [('(0.0, 10.0]', ''), ('(10.0, 23.0]', ''), ('(23.0, 51.0]', ''), ('(51.0, 80.0]', '')], 'decimal': 1}     ], \n",
      "\n",
      "'gender': ['object', ('Female', ''), ('Male', '')], \n",
      "\n",
      "'race4': ['object', ('Black', ''), ('White', ''), ('Other', ''), ('Hispanic', '')], \n",
      "\n",
      "'education20': ['object', (nan, ''), ('College Graduate or above', ''), ('Under College', '')], \n",
      "\n",
      "'family_income': ['object', ('Under $20,000', ''), ('$20,000 and over', ''), (nan, '')], \n",
      "\n",
      "'family_pir': ['float64', (0.0, 5.0), {'breaks': 4, 'mode': '(]', 'intervals': [('(0.0, 0.9]', ''), ('(0.9, 1.8]', ''), ('(1.8, 3.5]', ''), ('(3.5, 5.0]', '')], 'decimal': 1}     ], \n",
      "\n",
      "'SMQ020': ['object', (nan, ''), ('No', ''), ('Yes', '')], \n",
      "\n",
      "'SMQ040': ['object', (nan, ''), ('Not at all', ''), ('Every day', ''), ('Some days', '')], \n",
      "\n",
      "'smoking_status': ['object', (nan, ''), ('Never', ''), ('Former', ''), ('Current', '')], \n",
      "\n",
      "'alcohol_12_any_1_year': ['object', (nan, ''), ('Yes', ''), ('No', '')], \n",
      "\n",
      "'alcohol_12_lifetime': ['object', (nan, ''), ('No', ''), ('Yes', '')], \n",
      "\n",
      "'times': ['float64', (0.0, 365.0), {'breaks': 4, 'mode': '(]', 'intervals': [('(0.0, 1.0]', ''), ('(1.0, 2.0]', ''), ('(2.0, 4.0]', ''), ('(4.0, 365.0]', '')], 'decimal': 1}     ], \n",
      "\n",
      "'unit': ['float64', (7.0, 365.0), {'breaks': 4, 'mode': '(]', 'intervals': [('(7.0, 7.0]', ''), ('(7.0, 30.0]', ''), ('(30.0, 365.0]', ''), ('(365.0, 365.0]', '')], 'decimal': 1}     ], \n",
      "\n",
      "'drinks': ['float64', (1.0, 83.0), {'breaks': 4, 'mode': '(]', 'intervals': [('(1.0, 1.0]', ''), ('(1.0, 2.0]', ''), ('(2.0, 3.0]', ''), ('(3.0, 83.0]', '')], 'decimal': 1}     ], \n",
      "\n",
      "'alcohol_12': ['object', (nan, ''), ('Yes', ''), ('No', '')], \n",
      "\n",
      "'drinks_per_day': ['float64', (0.0, 28.285714285714285), {'breaks': 4, 'mode': '(]', 'intervals': [('(0.0, 0.0]', ''), ('(0.0, 0.1]', ''), ('(0.1, 0.6]', ''), ('(0.6, 28.3]', '')], 'decimal': 1}     ], \n",
      "\n",
      "'alcohol_per_day': ['float64', (0.0, 396.0), {'breaks': 4, 'mode': '(]', 'intervals': [('(0.0, 0.0]', ''), ('(0.0, 0.9]', ''), ('(0.9, 8.0]', ''), ('(8.0, 396.0]', '')], 'decimal': 1}     ], \n",
      "\n",
      "'drinker': ['object', (nan, ''), ('Yes', ''), ('No', '')], \n",
      "\n",
      "'weight_kg': ['float64', (2.4, 371.0), {'breaks': 4, 'mode': '(]', 'intervals': [('(2.4, 37.4]', ''), ('(37.4, 64.6]', ''), ('(64.6, 82.2]', ''), ('(82.2, 371.0]', '')], 'decimal': 1}     ], \n",
      "\n",
      "'height_cm': ['float64', (79.0, 204.5), {'breaks': 4, 'mode': '(]', 'intervals': [('(79.0, 150.3]', ''), ('(150.3, 162.2]', ''), ('(162.2, 171.3]', ''), ('(171.3, 204.5]', '')], 'decimal': 1}     ], \n",
      "\n",
      "'bmi_kg_m2': ['float64', (7.99, 130.21), {'breaks': 4, 'mode': '(]', 'intervals': [('(8.0, 19.7]', ''), ('(19.7, 24.6]', ''), ('(24.6, 29.7]', ''), ('(29.7, 130.2]', '')], 'decimal': 1}     ], \n",
      "\n",
      "'BMI3': ['object', ('Normal', ''), (nan, ''), ('Overweight', ''), ('Obesity', '')], \n",
      "\n",
      "'DPQ010': ['float64', (0.0, 3.0), {'breaks': 4, 'mode': '(]', 'intervals': [('(0.0, 0.0]', ''), ('(0.0, 0.0]', ''), ('(0.0, 0.0]', ''), ('(0.0, 3.0]', '')], 'decimal': 1}     ], \n",
      "\n",
      "'DPQ020': ['float64', (0.0, 3.0), {'breaks': 4, 'mode': '(]', 'intervals': [('(0.0, 0.0]', ''), ('(0.0, 0.0]', ''), ('(0.0, 0.0]', ''), ('(0.0, 3.0]', '')], 'decimal': 1}     ], \n",
      "\n",
      "'DPQ030': ['float64', (0.0, 3.0), {'breaks': 4, 'mode': '(]', 'intervals': [('(0.0, 0.0]', ''), ('(0.0, 0.0]', ''), ('(0.0, 1.0]', ''), ('(1.0, 3.0]', '')], 'decimal': 1}     ], \n",
      "\n",
      "'DPQ040': ['float64', (0.0, 3.0), {'breaks': 4, 'mode': '(]', 'intervals': [('(0.0, 0.0]', ''), ('(0.0, 0.0]', ''), ('(0.0, 1.0]', ''), ('(1.0, 3.0]', '')], 'decimal': 1}     ], \n",
      "\n",
      "'DPQ050': ['float64', (0.0, 3.0), {'breaks': 4, 'mode': '(]', 'intervals': [('(0.0, 0.0]', ''), ('(0.0, 0.0]', ''), ('(0.0, 0.0]', ''), ('(0.0, 3.0]', '')], 'decimal': 1}     ], \n",
      "\n",
      "'DPQ060': ['float64', (0.0, 3.0), {'breaks': 4, 'mode': '(]', 'intervals': [('(0.0, 0.0]', ''), ('(0.0, 0.0]', ''), ('(0.0, 0.0]', ''), ('(0.0, 3.0]', '')], 'decimal': 1}     ], \n",
      "\n",
      "'DPQ070': ['float64', (0.0, 3.0), {'breaks': 4, 'mode': '(]', 'intervals': [('(0.0, 0.0]', ''), ('(0.0, 0.0]', ''), ('(0.0, 0.0]', ''), ('(0.0, 3.0]', '')], 'decimal': 1}     ], \n",
      "\n",
      "'DPQ080': ['float64', (0.0, 3.0), {'breaks': 4, 'mode': '(]', 'intervals': [('(0.0, 0.0]', ''), ('(0.0, 0.0]', ''), ('(0.0, 0.0]', ''), ('(0.0, 3.0]', '')], 'decimal': 1}     ], \n",
      "\n",
      "'DPQ090': ['float64', (0.0, 3.0), {'breaks': 4, 'mode': '(]', 'intervals': [('(0.0, 0.0]', ''), ('(0.0, 0.0]', ''), ('(0.0, 0.0]', ''), ('(0.0, 3.0]', '')], 'decimal': 1}     ], \n",
      "\n",
      "'DPQ100': ['float64', (0.0, 3.0), {'breaks': 4, 'mode': '(]', 'intervals': [('(0.0, 0.0]', ''), ('(0.0, 0.0]', ''), ('(0.0, 1.0]', ''), ('(1.0, 3.0]', '')], 'decimal': 1}     ], \n",
      "\n",
      "'PHQ9': ['float64', (0.0, 27.0), {'breaks': 4, 'mode': '(]', 'intervals': [('(0.0, 0.0]', ''), ('(0.0, 2.0]', ''), ('(2.0, 4.0]', ''), ('(4.0, 27.0]', '')], 'decimal': 1}     ], \n",
      "\n",
      "'depression': ['object', (nan, ''), ('No', ''), ('Yes', '')], \n",
      "\n",
      "'vig_total': ['float64', (4.666666666666667, 15736.0), {'breaks': 4, 'mode': '(]', 'intervals': [('(4.7, 180.0]', ''), ('(180.0, 360.0]', ''), ('(360.0, 720.0]', ''), ('(720.0, 15736.0]', '')], 'decimal': 1}     ], \n",
      "\n",
      "'mod_total': ['float64', (2.333333333333333, 5040.0), {'breaks': 4, 'mode': '(]', 'intervals': [('(2.3, 60.0]', ''), ('(60.0, 135.0]', ''), ('(135.0, 270.0]', ''), ('(270.0, 5040.0]', '')], 'decimal': 1}     ], \n",
      "\n",
      "'pa_both': ['object', (nan, ''), ('No', ''), ('Yes', '')], \n",
      "\n",
      "'vig_freq': ['object', (nan, ''), ('Regular', ''), ('Irregular', '')], \n",
      "\n",
      "'mod_freq': ['object', (nan, ''), ('Irregular', ''), ('Regular', '')], \n",
      "\n",
      "'LTPA_time_total': ['float64', (0.0, 15736.0), {'breaks': 4, 'mode': '(]', 'intervals': [('(0.0, 0.0]', ''), ('(0.0, 60.0]', ''), ('(60.0, 360.0]', ''), ('(360.0, 15736.0]', '')], 'decimal': 1}     ], \n",
      "\n",
      "'LTPA_time_estimate': ['object', (nan, ''), ('No LTPA', ''), ('Adequate', ''), ('Inadequate', '')], \n",
      "\n",
      "'LTPA_freq_estimate': ['object', (nan, ''), ('No LTPA', ''), ('Regular', ''), ('Irregular', '')], \n",
      "\n",
      "'has_OA': ['object', (nan, ''), ('Yes', ''), ('No', '')], \n",
      "\n",
      "'type_OA': ['object', (nan, ''), ('Rheumatoid arthritis', ''), ('Osteoarthritis', ''), ('Other', '')], \n",
      "\n",
      "'OA_type': ['object', (nan, ''), ('Rheumatoid arthritis', ''), ('No', ''), ('yes but unknown type', ''), ('Osteoarthritis', ''), ('Other', '')], \n",
      "\n",
      "'OA': ['object', (nan, ''), ('Rheumatoid arthritis', ''), ('No', ''), ('Other', ''), ('Osteoarthritis', '')], \n",
      "\n",
      "'ADL': ['object', (nan, ''), ('No difficulty', ''), ('Disability', '')], \n",
      "\n",
      "'IADL': ['object', (nan, ''), ('No difficulty', ''), ('Disability', '')], \n",
      "\n",
      "'LEM': ['object', (nan, ''), ('No difficulty', ''), ('Disability', '')], \n",
      "\n",
      "'LSA': ['object', (nan, ''), ('No difficulty', ''), ('Disability', '')], \n",
      "\n",
      "'GPA': ['object', (nan, ''), ('No difficulty', ''), ('Disability', '')], \n",
      "\n",
      "'HTN_que': ['object', (nan, ''), ('No', ''), ('Yes', '')], \n",
      "\n",
      "'DM_que': ['object', ('No', ''), ('Yes', ''), (nan, '')], \n",
      "\n",
      "'asthma': ['object', ('No', ''), ('Yes', ''), (nan, '')], \n",
      "\n",
      "'emphysema': ['object', (nan, ''), ('No', ''), ('Yes', '')], \n",
      "\n",
      "'chronic_bronchitis': ['object', (nan, ''), ('No', ''), ('Yes', '')], \n",
      "\n",
      "'RD': ['object', (nan, ''), ('No', ''), ('Yes', '')], \n",
      "\n",
      "'heart_failure': ['object', (nan, ''), ('No', ''), ('Yes', '')], \n",
      "\n",
      "'CHD': ['object', (nan, ''), ('No', ''), ('Yes', '')], \n",
      "\n",
      "'angina_pectoris': ['object', (nan, ''), ('No', ''), ('Yes', '')], \n",
      "\n",
      "'heart_attack': ['object', (nan, ''), ('No', ''), ('Yes', '')], \n",
      "\n",
      "'CVD': ['object', (nan, ''), ('No', ''), ('Yes', '')], \n",
      "\n",
      "'stroke': ['object', (nan, ''), ('No', ''), ('Yes', '')], \n",
      "\n",
      "'cancer': ['object', (nan, ''), ('Yes', ''), ('No', '')], \n",
      "\n",
      "'type1': ['object', (nan, ''), ('Skin (non-melanoma)', ''), ('Ovary (ovarian)', ''), ('Mouth/tongue/lip', ''), ('Breast', ''), ('Testis (testicular)', ''), ('Melanoma', ''), (\"Skin (don't know what kind)\", ''), ('Other', ''), ('Esophagus (esophageal)', ''), ('Colon', ''), ('Lung', ''), ('Prostate', ''), ('Cervix (cervical)', ''), ('Soft tissue (muscle or fat)', ''), (\"Lymphoma/Hodgkin's disease\", ''), ('Kidney', ''), ('Uterus (uterine)', ''), ('Stomach', ''), ('Bone', ''), ('Thyroid', ''), ('Rectum (rectal)', ''), ('Leukemia', ''), ('Larynx/ windpipe', ''), ('Bladder', ''), ('Blood', ''), ('Liver', ''), ('Brain', ''), ('Gallbladder', ''), ('Pancreas (pancreatic)', ''), ('Nervous system', ''), (\"Lymphoma/ Hodgkin's disease\", '')], \n",
      "\n",
      "'type2': ['object', (nan, ''), ('Melanoma', ''), ('Larynx/ windpipe', ''), ('Liver', ''), ('Cervix (cervical)', ''), ('Ovary (ovarian)', ''), ('Lung', ''), ('Uterus (uterine)', ''), ('Prostate', ''), ('Mouth/tongue/lip', ''), ('Testis (testicular)', ''), (\"Lymphoma/Hodgkin's disease\", ''), ('Breast', ''), (\"Skin (don't know what kind)\", ''), ('Skin (non-melanoma)', ''), ('Rectum (rectal)', ''), ('Other', ''), ('Colon', ''), ('Leukemia', ''), ('Bone', ''), ('Stomach', ''), ('Thyroid', ''), ('Bladder', ''), ('Soft tissue (muscle or fat)', ''), ('Kidney', ''), ('Pancreas (pancreatic)', ''), ('Esophagus (esophageal)', ''), ('Blood', ''), ('Lymphoma/ Hodgkins disease', ''), ('Brain', '')], \n",
      "\n",
      "'type3': ['object', (nan, ''), ('Lung', ''), ('Liver', ''), ('Uterus (uterine)', ''), (\"Skin (don't know what kind)\", ''), ('Breast', ''), ('Other', ''), ('Larynx/ windpipe', ''), ('Prostate', ''), ('Bladder', ''), ('Blood', ''), ('Skin (non-melanoma)', ''), ('Ovary (ovarian)', ''), ('Brain', ''), ('Melanoma', ''), ('Bone', ''), ('Thyroid', ''), ('Colon', ''), ('Cervix (cervical)', '')], \n",
      "\n",
      "'type4': ['object', (nan, ''), ('More than 3 kinds', '')], \n",
      "\n",
      "'NSAIDs_gen12': ['object', ('No', ''), ('Yes', ''), (nan, '')], \n",
      "\n",
      "'NSAIDs_gen22': ['object', ('No', ''), ('Yes', ''), (nan, '')], \n",
      "\n",
      "'weakOpioid2': ['object', ('No', ''), ('Yes', ''), (nan, '')], \n",
      "\n",
      "'OADRUG_bind_all2': ['object', ('No', ''), ('Yes', ''), (nan, '')], \n",
      "\n",
      "'ELIGSTAT': ['object', ('Under age 18, not available for public release', ''), ('Eligible', ''), ('Ineligible', '')], \n",
      "\n",
      "'MORTSTAT': ['object', (nan, ''), ('Assumed deceased', ''), ('Assumed alive', '')], \n",
      "\n",
      "'UCOD_LEADING': ['object', (nan, ''), ('Other', ''), ('Diseases of heart', ''), ('Malignant neoplasms', '')], \n",
      "\n",
      "'DIABETES': ['object', (nan, ''), ('No', ''), ('Yes', '')], \n",
      "\n",
      "'HYPERTEN': ['object', (nan, ''), ('No', ''), ('Yes', '')], \n",
      "\n",
      "'PERMTH_INT': ['float64', (0.0, 250.0), {'breaks': 4, 'mode': '(]', 'intervals': [('(0.0, 75.0]', ''), ('(75.0, 123.0]', ''), ('(123.0, 179.0]', ''), ('(179.0, 250.0]', '')], 'decimal': 1}     ], \n",
      "\n",
      "'PERMTH_EXM': ['float64', (0.0, 249.0), {'breaks': 4, 'mode': '(]', 'intervals': [('(0.0, 75.0]', ''), ('(75.0, 122.0]', ''), ('(122.0, 178.0]', ''), ('(178.0, 249.0]', '')], 'decimal': 1}     ], \n",
      "\n",
      "'mort_leading': ['object', (nan, ''), ('Other', ''), ('Assumed alive', ''), ('Diseases of heart', ''), ('Malignant neoplasms', '')], \n",
      "\n",
      "'WTINT2YR': ['float64', (974.6652516087383, 236864.13597359005), {'breaks': 4, 'mode': '(]', 'intervals': [('(974.7, 9718.5]', ''), ('(9718.5, 18900.0]', ''), ('(18900.0, 36517.9]', ''), ('(36517.9, 236864.1]', '')], 'decimal': 1}     ], \n",
      "\n",
      "'WTINT4YR': ['float64', (620.682382, 100652.329635), {'breaks': 4, 'mode': '(]', 'intervals': [('(620.7, 3338.8]', ''), ('(3338.8, 7794.8]', ''), ('(7794.8, 18642.4]', ''), ('(18642.4, 100652.3]', '')], 'decimal': 1}     ], \n",
      "\n",
      "'WTMEC2YR': ['float64', (0.0, 261361.33834187195), {'breaks': 4, 'mode': '(]', 'intervals': [('(0.0, 9183.0]', ''), ('(9183.0, 18621.6]', ''), ('(18621.6, 36994.4]', ''), ('(36994.4, 261361.3]', '')], 'decimal': 1}     ], \n",
      "\n",
      "'WTMEC4YR': ['float64', (0.0, 103831.171049), {'breaks': 4, 'mode': '(]', 'intervals': [('(0.0, 3060.2]', ''), ('(3060.2, 7046.4]', ''), ('(7046.4, 18859.1]', ''), ('(18859.1, 103831.2]', '')], 'decimal': 1}     ], \n",
      "\n",
      "'SDMVPSU': ['float64', (1.0, 3.0), {'breaks': 4, 'mode': '(]', 'intervals': [('(1.0, 1.0]', ''), ('(1.0, 2.0]', ''), ('(2.0, 2.0]', ''), ('(2.0, 3.0]', '')], 'decimal': 1}     ], \n",
      "\n",
      "'SDMVSTRA': ['float64', (1.0, 133.0), {'breaks': 4, 'mode': '(]', 'intervals': [('(1.0, 31.0]', ''), ('(31.0, 65.0]', ''), ('(65.0, 99.0]', ''), ('(99.0, 133.0]', '')], 'decimal': 1}     ], \n",
      "\n",
      "'WTINT_cycle9': ['float64', (136.1075591111111, 25972.871316666664), {'breaks': 4, 'mode': '(]', 'intervals': [('(136.1, 1085.2]', ''), ('(1085.2, 2104.1]', ''), ('(2104.1, 4070.3]', ''), ('(4070.3, 25972.9]', '')], 'decimal': 1}     ], \n",
      "\n",
      "'WTMEC_cycle9': ['float64', (0.0, 26931.85119622222), {'breaks': 4, 'mode': '(]', 'intervals': [('(0.0, 1027.9]', ''), ('(1027.9, 2082.6]', ''), ('(2082.6, 4118.7]', ''), ('(4118.7, 26931.9]', '')], 'decimal': 1}     ], \n",
      "\n",
      "'excessive_drinker': ['object', (nan, ''), ('Non-excessive drinker', ''), ('Non-drinker', ''), ('Excessive drinker', '')]\n",
      "      }         \n"
     ]
    }
   ],
   "source": [
    "nhanes.relevels_info(df_all)"
   ],
   "metadata": {
    "collapsed": false,
    "pycharm": {
     "name": "#%%\n"
    }
   }
  },
  {
   "cell_type": "code",
   "execution_count": 65,
   "outputs": [
    {
     "data": {
      "text/plain": "array([nan, 'Rheumatoid arthritis', 'Osteoarthritis', 'Other'],\n      dtype=object)"
     },
     "execution_count": 65,
     "metadata": {},
     "output_type": "execute_result"
    }
   ],
   "source": [
    "df_all['type_OA'].unique()"
   ],
   "metadata": {
    "collapsed": false,
    "pycharm": {
     "name": "#%%\n"
    }
   }
  },
  {
   "cell_type": "code",
   "execution_count": 66,
   "outputs": [
    {
     "data": {
      "text/plain": "92062"
     },
     "execution_count": 66,
     "metadata": {},
     "output_type": "execute_result"
    }
   ],
   "source": [
    "len(df_all)"
   ],
   "metadata": {
    "collapsed": false,
    "pycharm": {
     "name": "#%%\n"
    }
   }
  },
  {
   "cell_type": "code",
   "execution_count": 67,
   "outputs": [
    {
     "data": {
      "text/plain": "47133"
     },
     "execution_count": 67,
     "metadata": {},
     "output_type": "execute_result"
    }
   ],
   "source": [
    "first = df_all[(df_all['age']>=20) & (df_all['WTMEC_cycle9']>0)]\n",
    "len(first)"
   ],
   "metadata": {
    "collapsed": false,
    "pycharm": {
     "name": "#%%\n"
    }
   }
  },
  {
   "cell_type": "code",
   "execution_count": 65,
   "outputs": [
    {
     "data": {
      "text/plain": "[['type_OA',\n  ('Rheumatoid arthritis', 2482),\n  (nan, 39016),\n  ('Osteoarthritis', 4298),\n  ('Other', 1337)]]"
     },
     "execution_count": 65,
     "metadata": {},
     "output_type": "execute_result"
    }
   ],
   "source": [
    "nhanes.levels(first.loc[:, ['type_OA']])"
   ],
   "metadata": {
    "collapsed": false,
    "pycharm": {
     "name": "#%%\n"
    }
   }
  },
  {
   "cell_type": "code",
   "execution_count": 66,
   "outputs": [
    {
     "data": {
      "text/plain": "4298"
     },
     "execution_count": 66,
     "metadata": {},
     "output_type": "execute_result"
    }
   ],
   "source": [
    "second = first[first['type_OA']=='Osteoarthritis']\n",
    "len(second)"
   ],
   "metadata": {
    "collapsed": false,
    "pycharm": {
     "name": "#%%\n"
    }
   }
  },
  {
   "cell_type": "code",
   "execution_count": 67,
   "outputs": [
    {
     "data": {
      "text/plain": "[['MORTSTAT', ('Assumed deceased', 8182), ('Assumed alive', 38874), (nan, 77)]]"
     },
     "execution_count": 67,
     "metadata": {},
     "output_type": "execute_result"
    }
   ],
   "source": [
    "nhanes.levels(first.loc[:, ['MORTSTAT']])"
   ],
   "metadata": {
    "collapsed": false,
    "pycharm": {
     "name": "#%%\n"
    }
   }
  },
  {
   "cell_type": "code",
   "execution_count": 68,
   "outputs": [
    {
     "name": "stdout",
     "output_type": "stream",
     "text": [
      "4288 -10\n"
     ]
    }
   ],
   "source": [
    "third = second.dropna(subset=['MORTSTAT'])\n",
    "print(len(third), len(third)-len(second))"
   ],
   "metadata": {
    "collapsed": false,
    "pycharm": {
     "name": "#%%\n"
    }
   }
  },
  {
   "cell_type": "code",
   "execution_count": 69,
   "outputs": [
    {
     "name": "stdout",
     "output_type": "stream",
     "text": [
      "4285 -3\n"
     ]
    }
   ],
   "source": [
    "forth = third.dropna(subset=['LTPA_time_total'])\n",
    "print(len(forth), len(forth)-len(third))"
   ],
   "metadata": {
    "collapsed": false,
    "pycharm": {
     "name": "#%%\n"
    }
   }
  },
  {
   "cell_type": "code",
   "execution_count": null,
   "outputs": [],
   "source": [],
   "metadata": {
    "collapsed": false,
    "pycharm": {
     "name": "#%%\n"
    }
   }
  }
 ],
 "metadata": {
  "kernelspec": {
   "display_name": "Python 3",
   "language": "python",
   "name": "python3"
  },
  "language_info": {
   "codemirror_mode": {
    "name": "ipython",
    "version": 2
   },
   "file_extension": ".py",
   "mimetype": "text/x-python",
   "name": "python",
   "nbconvert_exporter": "python",
   "pygments_lexer": "ipython2",
   "version": "2.7.6"
  }
 },
 "nbformat": 4,
 "nbformat_minor": 0
}